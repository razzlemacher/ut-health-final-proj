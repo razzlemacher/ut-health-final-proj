{
 "cells": [
  {
   "cell_type": "markdown",
   "id": "a92a1ccc",
   "metadata": {},
   "source": [
    "# Imports"
   ]
  },
  {
   "cell_type": "code",
   "execution_count": 1,
   "id": "b108dfa0",
   "metadata": {},
   "outputs": [
    {
     "name": "stdout",
     "output_type": "stream",
     "text": [
      "SQLite version: 3.49.1\n",
      "Pandas version: 2.2.3\n",
      "Matplotlib version: 3.10.1\n",
      "NetworkX version: 3.4.2\n",
      "\n",
      "Removed truncation of columns\n"
     ]
    }
   ],
   "source": [
    "import sqlite3\n",
    "import pandas as pd\n",
    "import networkx as nx\n",
    "import matplotlib\n",
    "import matplotlib.pyplot as plt\n",
    "\n",
    "SQL_LITE_DB_PATH = \"D:\\\\Repos\\\\ut-health\\\\mimic-iii-gz\\\\mimic3.db\"\n",
    "\n",
    "# Connect to the SQLite database in the file at the given path d:\\data\\mimic.db\n",
    "conn = sqlite3.connect(SQL_LITE_DB_PATH)\n",
    "\n",
    "# print version of sqlite\n",
    "cursor = conn.cursor()\n",
    "cursor.execute(\"SELECT sqlite_version()\")\n",
    "print(\"SQLite version: %s\" % cursor.fetchone())\n",
    "\n",
    "# close connection\n",
    "conn.close()\n",
    "\n",
    "# print pandas version\n",
    "print(\"Pandas version: %s\" % pd.__version__)\n",
    "\n",
    "# print matplotlib version\n",
    "print(f\"Matplotlib version: {matplotlib.__version__}\")\n",
    "\n",
    "print(f\"NetworkX version: {nx.__version__}\")\n",
    "\n",
    "# Set pandas display options to show all columns and rows without truncation\n",
    "pd.set_option('display.max_colwidth', None)\n",
    "pd.set_option('display.max_columns', None)\n",
    "print(\"\\nRemoved truncation of columns\")\n"
   ]
  },
  {
   "cell_type": "markdown",
   "id": "b5e940d5",
   "metadata": {},
   "source": [
    "# Load Data"
   ]
  },
  {
   "cell_type": "code",
   "execution_count": 2,
   "id": "1e8a1b5d",
   "metadata": {},
   "outputs": [],
   "source": [
    "# load patient data\n",
    "conn = sqlite3.connect(\"D:\\\\Repos\\\\ut-health\\\\mimic-iii-gz\\\\mimic3.db\")\n",
    "\n",
    "query = \"SELECT * FROM patients\"\n",
    "patients_df = pd.read_sql_query(query, conn)\n",
    "\n",
    "query = \"SELECT * FROM d_icd_diagnoses\"\n",
    "d_icd_diagnoses_df = pd.read_sql_query(query, conn)\n",
    "\n",
    "query = \"SELECT * FROM diagnoses_icd\"\n",
    "diagnoses_icd_df = pd.read_sql_query(query, conn)\n",
    "\n",
    "query = \"SELECT * FROM admissions\"\n",
    "admissions_df = pd.read_sql_query(query, conn)\n",
    "\n",
    "conn.close()"
   ]
  },
  {
   "cell_type": "markdown",
   "id": "5bd03ec5",
   "metadata": {},
   "source": [
    "# Subselect size of data\n"
   ]
  },
  {
   "cell_type": "code",
   "execution_count": null,
   "id": "dca12357",
   "metadata": {},
   "outputs": [
    {
     "name": "stdout",
     "output_type": "stream",
     "text": [
      "Number of patients: 46520\n",
      "Number of diagnoses: 651047\n",
      "Number of admissions: 58976\n",
      "Updated number of patients: 47\n",
      "Updated number of diagnoses: 536\n",
      "Updated number of admissions: 47\n"
     ]
    }
   ],
   "source": [
    "# print the number of patients and diagnoses\n",
    "print(f\"Number of patients: {len(patients_df)}\")\n",
    "print(f\"Number of diagnoses: {len(diagnoses_icd_df)}\")\n",
    "print(f\"Number of admissions: {len(admissions_df)}\")\n",
    "\n",
    "pt_frac = 0.0001  # 0.01% of the patients gives 5 patients, 52 diagnoses\n",
    "pt_frac = 0.0002  # 0.02% of the patients gives 9 patients, 110 diagnoses\n",
    "pt_frac = 0.0003  # 0.02% of the patients gives 14 patients, 188 diagnoses\n",
    "pt_frac = 0.0015  # 0.02% of the patients gives 14 patients, 188 diagnoses\n",
    "\n",
    "# select 0.01% of the patients randomly\n",
    "patients_df = patients_df.sample(frac=pt_frac, random_state=1)\n",
    "\n",
    "# add DOB to admissions_df\n",
    "admissions_df = admissions_df.merge(patients_df[['SUBJECT_ID', 'DOB']], left_on='SUBJECT_ID', right_on='SUBJECT_ID', how='inner', suffixes=('_adm', '_pt'))\n",
    "\n",
    "# sort admissions_df by SUBJECT_ID and ADMITTIME in ascending order\n",
    "admissions_df['ADMITTIME'] = pd.to_datetime(admissions_df['ADMITTIME'])\n",
    "admissions_df = admissions_df.sort_values(by=['SUBJECT_ID', 'ADMITTIME'])\n",
    "\n",
    "# keep the newest admission (HADM_ID) for each patient, drop the rest of the admissions\n",
    "admissions_df = admissions_df.groupby('SUBJECT_ID').last().reset_index()\n",
    "\n",
    "# keep only diagnoses that belong to HADM_IDs in admissions_df\n",
    "diagnoses_icd_df = diagnoses_icd_df[diagnoses_icd_df['HADM_ID'].isin(admissions_df['HADM_ID'])]\n",
    "\n",
    "# print the number of patients and diagnoses\n",
    "print(f\"Updated number of patients: {len(patients_df)}\")\n",
    "print(f\"Updated number of diagnoses: {len(diagnoses_icd_df)}\")\n",
    "print(f\"Updated number of admissions: {len(admissions_df)}\")\n",
    "\n",
    "# TODO: fix the HADM_ID issue, only keep diagnosies that are from the latest admissions under subject id, and drop the rest, do same for admissions_df"
   ]
  },
  {
   "cell_type": "markdown",
   "id": "8e56b911",
   "metadata": {},
   "source": [
    "# Feature Engineering"
   ]
  },
  {
   "cell_type": "code",
   "execution_count": null,
   "id": "42f08685",
   "metadata": {},
   "outputs": [],
   "source": [
    "# log data\n",
    "print(f\"Number of patients: {len(patients_df)}\")\n",
    "\n",
    "# convert to integer from datetime type to calculate age (without overflow)\n",
    "admissions_df['DOB'] = admissions_df['DOB'].astype('datetime64[s]').astype(int)\n",
    "admissions_df['ADMITTIME'] = admissions_df['ADMITTIME'].astype('datetime64[s]').astype(int)\n",
    "\n",
    "# calculate age at admission\n",
    "admissions_df['AGE'] = (admissions_df['ADMITTIME'] - admissions_df['DOB']) / 86400 / 365\n",
    "\n",
    "# create age intervals in 5 year increments, of type int\n",
    "admissions_df['AGE_BUCKET'] = (admissions_df['AGE'] // 5).astype(int) * 5\n",
    "\n",
    "# set age bucket to 95 where age is greater than 90\n",
    "admissions_df.loc[admissions_df['AGE_BUCKET'] > 90, 'AGE_BUCKET'] = 95\n",
    "\n",
    "# add AGE_BUCKET to patients_df\n",
    "patients_df = patients_df.merge(admissions_df[['SUBJECT_ID', 'HADM_ID', 'AGE_BUCKET']], left_on='SUBJECT_ID', right_on='SUBJECT_ID', how='inner', suffixes=('_pt', '_adm'))\n",
    "\n",
    "print(f\"Updated number of patients (with age bucket): {len(patients_df)}\")"
   ]
  },
  {
   "cell_type": "code",
   "execution_count": null,
   "id": "e372820a",
   "metadata": {},
   "outputs": [],
   "source": [
    "patients_df.head(5)"
   ]
  },
  {
   "cell_type": "markdown",
   "id": "4854e7ab",
   "metadata": {},
   "source": [
    "# Create Graph"
   ]
  },
  {
   "cell_type": "markdown",
   "id": "f4814b24",
   "metadata": {},
   "source": [
    "## Create patient nodes"
   ]
  },
  {
   "cell_type": "code",
   "execution_count": null,
   "id": "9a19946b",
   "metadata": {},
   "outputs": [],
   "source": [
    "# Create a graph\n",
    "G = nx.Graph()\n",
    "\n",
    "i = 0\n",
    "\n",
    "for _, row in patients_df.iterrows():\n",
    "\n",
    "    # Add a node with the patient ID as the node identifier and gender as an attribute, also add dob as an attribute\n",
    "    G.add_node(row['SUBJECT_ID'], gender=row['GENDER'], age=row['DOB'], age_bucket=row['AGE_BUCKET'], hadm_id=row['HADM_ID'])\n",
    "\n",
    "    i+=1\n",
    "    if i % 2000 == 0:\n",
    "        print(f\"Added {i} patient nodes, percent: {i / len(patients_df) * 100:.2f}%\")\n",
    "\n",
    "# number of nodes in the graph\n",
    "print(f\"Number of nodes in the graph: {G.number_of_nodes()}\")"
   ]
  },
  {
   "cell_type": "markdown",
   "id": "6a9d9a83",
   "metadata": {},
   "source": [
    "## Create diagnosis to patient mappings"
   ]
  },
  {
   "cell_type": "code",
   "execution_count": null,
   "id": "d085431c",
   "metadata": {},
   "outputs": [],
   "source": [
    "# use the diagnoses_icd_df to get the icd9 codes, group by icd9 code, and create a dictionary with the icd9 code as the key and the subject_id as the values\n",
    "diagnoses_to_patients = diagnoses_icd_df.groupby('ICD9_CODE')['SUBJECT_ID'].apply(set).to_dict()\n",
    "\n",
    "# print 1 random key and value from the dictionary\n",
    "print(f\"Sample keys and values from the dictionary:\")\n",
    "print(f\"\\t\\t{list(diagnoses_to_patients.items())[12]}\")\n",
    "print(f\"\\t\\t{list(diagnoses_to_patients.items())[15]}\")\n",
    "\n",
    "# print size of the dictionary and counts of values\n",
    "print(f\"Count of the number of keys (icd9s) in the dictionary: {len(diagnoses_to_patients)}\")\n",
    "print(f\"Count of the number of values (subject_ids) in all keys: {sum(len(v) for v in diagnoses_to_patients.values())}\")\n",
    "\n",
    "unique_subject_ids = len(set([item for sublist in diagnoses_to_patients.values() for item in sublist]))\n",
    "\n",
    "# count number of unique subject_ids across all values in the dictionary\n",
    "print(f\"Count of the number of unique subject_ids across all keys: {unique_subject_ids}\")\n",
    "\n",
    "# print number of patients with diagnosis 0389\n",
    "print(f\"Number of patients with diagnosis 0389: {len(diagnoses_to_patients.get('0389', []))}\")\n",
    "\n",
    "# assert that the number of unique subject_ids is equal to the number of patients in the patients_df dataframe\n",
    "assert unique_subject_ids == len(patients_df), f\"Number of unique subject_ids in the dictionary ({unique_subject_ids}) is not equal to the number of patients in the patients_df dataframe ({len(patients_df)})\"\n"
   ]
  },
  {
   "cell_type": "markdown",
   "id": "ac836756",
   "metadata": {},
   "source": [
    "## Add diagnoses edges between patients"
   ]
  },
  {
   "cell_type": "code",
   "execution_count": null,
   "id": "b0f5834e",
   "metadata": {},
   "outputs": [],
   "source": [
    "# print the number of edges in the graph\n",
    "print(f\"Number of edges: {len(G.edges())}\")\n",
    "\n",
    "# print the number of nodes in the graph\n",
    "print(f\"Number of nodes: {len(G.nodes())}\")"
   ]
  },
  {
   "cell_type": "code",
   "execution_count": null,
   "id": "d72e8a79",
   "metadata": {},
   "outputs": [],
   "source": [
    "i=0\n",
    "ONCE = True\n",
    "\n",
    "\n",
    "# add diagnosis/icd9 edge between patients\n",
    "for icd9_code, patients in diagnoses_to_patients.items():\n",
    "\n",
    "    # get SHORT_TITLE from d_icd_diagnoses_df for the icd9 code\n",
    "    short_title = d_icd_diagnoses_df[d_icd_diagnoses_df['ICD9_CODE'] == icd9_code]['SHORT_TITLE'].values\n",
    "\n",
    "    if len(short_title) == 0:\n",
    "        short_title = \"Unknown\"\n",
    "    else:\n",
    "        # convert to a string\n",
    "        short_title = short_title[0]\n",
    "\n",
    "    if ONCE:\n",
    "        print(f\"ICD9 code: {icd9_code}, short title: {short_title}\")\n",
    "        ONCE = False\n",
    "\n",
    "    if len(patients) < 2:\n",
    "        continue\n",
    "\n",
    "    # if there are more than 1 patients with the same diagnosis, add edges between them\n",
    "    patients = list(patients)\n",
    "\n",
    "    combos = [(patients[i], patients[j]) for i in range(len(patients)) for j in range(i + 1, len(patients))]\n",
    "    G.add_edges_from(combos, icd9=icd9_code, short_title=short_title)\n",
    "    i += 1\n",
    "    if i % 4000 == 0:\n",
    "        print(f\"Added {i} edges, percent: {i / len(diagnoses_to_patients) * 100:.2f}%\")\n"
   ]
  },
  {
   "cell_type": "code",
   "execution_count": null,
   "id": "bf15ee07",
   "metadata": {},
   "outputs": [],
   "source": [
    "# print the number of edges in the graph\n",
    "print(f\"Number of edges: {len(G.edges())}\")\n",
    "\n",
    "# print the number of nodes in the graph\n",
    "print(f\"Number of nodes: {len(G.nodes())}\")"
   ]
  },
  {
   "cell_type": "markdown",
   "id": "86a052f1",
   "metadata": {},
   "source": [
    "# Constants"
   ]
  },
  {
   "cell_type": "code",
   "execution_count": null,
   "id": "ae8d2a4f",
   "metadata": {},
   "outputs": [],
   "source": [
    "import os\n",
    "\n",
    "CURR_DIR_PATH = os.getcwd()\n",
    "\n",
    "PICKLE_FILE_NAME = None\n",
    "HTML_FILE_NAME = None\n",
    "\n",
    "if G.number_of_nodes() < 10:\n",
    "    PICKLE_FILE_NAME = f\"{CURR_DIR_PATH}\\\\pickle\\\\patients_graph_max_10_nodes.gpickle\"\n",
    "    HTML_FILE_NAME = f\"{CURR_DIR_PATH}\\\\pyvis\\\\graph_max_10_nodes.html\"\n",
    "elif G.number_of_nodes() < 50:\n",
    "    PICKLE_FILE_NAME = f\"{CURR_DIR_PATH}\\\\pickle\\\\patients_graph_max_50_nodes.gpickle\"\n",
    "    HTML_FILE_NAME = f\"{CURR_DIR_PATH}\\\\pyvis\\\\graph_max_50_nodes.html\"\n",
    "elif G.number_of_nodes() < 100:\n",
    "    PICKLE_FILE_NAME = f\"{CURR_DIR_PATH}\\\\pickle\\\\patients_graph_max_100_nodes.gpickle\"\n",
    "    HTML_FILE_NAME = f\"{CURR_DIR_PATH}\\\\pyvis\\\\graph_max_100_nodes.html\"\n",
    "elif G.number_of_nodes() < 1000:\n",
    "    PICKLE_FILE_NAME = f\"{CURR_DIR_PATH}\\\\pickle\\\\patients_graph_max_1000_nodes.gpickle\"\n",
    "    HTML_FILE_NAME = f\"{CURR_DIR_PATH}\\\\pyvis\\\\graph_max_1000_nodes.html\"\n",
    "elif G.number_of_nodes() < 10000:\n",
    "    PICKLE_FILE_NAME = f\"{CURR_DIR_PATH}\\\\pickle\\\\patients_graph_max_10000_nodes.gpickle\"\n",
    "    HTML_FILE_NAME = f\"{CURR_DIR_PATH}\\\\pyvis\\\\graph_max_10000_nodes.html\"\n",
    "else:\n",
    "    PICKLE_FILE_NAME = f\"{CURR_DIR_PATH}\\\\pickle\\\\patients_graph_max_46000_nodes.gpickle\"\n",
    "    HTML_FILE_NAME = f\"{CURR_DIR_PATH}\\\\pyvis\\\\graph_max_46000_nodes.html\"\n",
    "\n",
    "print(f\"Pickle file name: {PICKLE_FILE_NAME}\")\n",
    "print(f\"HTML file name: {HTML_FILE_NAME}\")"
   ]
  },
  {
   "cell_type": "markdown",
   "id": "07bae219",
   "metadata": {},
   "source": [
    "# Pyvis Graph"
   ]
  },
  {
   "cell_type": "code",
   "execution_count": null,
   "id": "71915f9b",
   "metadata": {},
   "outputs": [],
   "source": [
    "# use pyvis to draw the graph\n",
    "from pyvis.network import Network\n",
    "\n",
    "\n",
    "nt = Network(height=\"1200px\", width=\"100%\", notebook=False, directed=False, cdn_resources=\"remote\")\n",
    "\n",
    "print(\"created pyvis network\")\n",
    "nt.from_nx(G)\n",
    "\n",
    "# for node in nt.nodes:\n",
    "#     print(f\"Node ID: {node['id']}\")\n",
    "\n",
    "# add node attributes to the pyvis network\n",
    "for node in nt.nodes:\n",
    "    node['title'] = f\"Patient ID: {node['id']}\\nGender: {node['gender']}\\nAge Bucket: {node['age_bucket']}\"\n",
    "    node['label'] = f\"{node['id']}\"\n",
    "    node['font'] = {'size': 5}\n",
    "\n",
    "# add edge attributes to the pyvis network\n",
    "for edge in nt.edges:\n",
    "    edge['title'] = f\"ICD9 Code: {edge['icd9']}\"\n",
    "    edge['label'] = f\"{edge['short_title']}\"\n",
    "    # set font size to 5\n",
    "    edge['font'] = {'size': 5}\n",
    "\n",
    "print(\"added nx graph to pyvis network\")\n",
    "print(f\"file name: {HTML_FILE_NAME}\")\n",
    "nt.toggle_physics(False)\n",
    "nt.show_buttons()\n",
    "nt.generate_html(HTML_FILE_NAME)\n",
    "nt.save_graph(HTML_FILE_NAME)\n",
    "# nt.show(HTML_FILE_NAME)\n",
    "print(\"saved pyvis graph to file\")\n"
   ]
  },
  {
   "cell_type": "markdown",
   "id": "8cb89d2a",
   "metadata": {},
   "source": [
    "# Save Graph to Disk"
   ]
  },
  {
   "cell_type": "markdown",
   "id": "17a6f1a1",
   "metadata": {},
   "source": [
    "## pickle"
   ]
  },
  {
   "cell_type": "code",
   "execution_count": null,
   "id": "3c45b8a8",
   "metadata": {},
   "outputs": [],
   "source": [
    "import pickle\n",
    "\n",
    "# Save the graph to a pickle file\n",
    "with open(f\"{PICKLE_FILE_NAME}\", \"wb\") as f:\n",
    "    pickle.dump(G, f)\n",
    "    print(\"Graph saved to pickle file\")\n"
   ]
  },
  {
   "cell_type": "markdown",
   "id": "eac8bc5b",
   "metadata": {},
   "source": [
    "# Old"
   ]
  },
  {
   "cell_type": "code",
   "execution_count": null,
   "id": "b1dc5cea",
   "metadata": {},
   "outputs": [],
   "source": [
    "pt_list = [\"a\", \"b\", \"c\"]\n",
    "\n",
    "# create unique combos of patients\n",
    "combos = [(pt_list[i], pt_list[j]) for i in range(len(pt_list)) for j in range(i + 1, len(pt_list))]\n",
    "print(combos)\n"
   ]
  },
  {
   "cell_type": "code",
   "execution_count": null,
   "id": "dd9d2457",
   "metadata": {},
   "outputs": [],
   "source": [
    "# load prescription data\n",
    "conn = sqlite3.connect(\"D:\\\\Repos\\\\ut-health\\\\mimic-iii-gz\\\\mimic3.db\")\n",
    "\n",
    "query = \"SELECT * FROM admissions\"\n",
    "admissions_df = pd.read_sql_query(query, conn)\n",
    "\n",
    "query = \"SELECT * FROM d_labitems\"\n",
    "d_labitems_df = pd.read_sql_query(query, conn)\n",
    "\n",
    "query = \"SELECT * FROM labevents\"\n",
    "labevents_df = pd.read_sql_query(query, conn)\n",
    "\n",
    "query = \"SELECT * FROM prescriptions\"\n",
    "prescriptions_df = pd.read_sql_query(query, conn)\n",
    "\n",
    "query = \"SELECT * FROM d_items\"\n",
    "d_items_df = pd.read_sql_query(query, conn)\n",
    "\n",
    "conn.close()\n"
   ]
  }
 ],
 "metadata": {
  "kernelspec": {
   "display_name": "Python 3",
   "language": "python",
   "name": "python3"
  },
  "language_info": {
   "codemirror_mode": {
    "name": "ipython",
    "version": 3
   },
   "file_extension": ".py",
   "mimetype": "text/x-python",
   "name": "python",
   "nbconvert_exporter": "python",
   "pygments_lexer": "ipython3",
   "version": "3.12.10"
  }
 },
 "nbformat": 4,
 "nbformat_minor": 5
}
