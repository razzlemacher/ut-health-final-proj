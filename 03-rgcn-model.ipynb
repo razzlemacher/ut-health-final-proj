{
 "cells": [
  {
   "cell_type": "code",
   "execution_count": 6,
   "id": "76391734",
   "metadata": {},
   "outputs": [],
   "source": [
    "import pickle\n",
    "import os\n",
    "import pandas as pd\n",
    "\n",
    "# import torch geometric\n",
    "import torch\n",
    "import torch.nn as nn\n",
    "import torch.nn.functional as F\n",
    "import torch_geometric\n",
    "import torch_geometric.transforms as T\n",
    "from torch_geometric.data import Data, DataLoader\n",
    "from torch_geometric.data import HeteroData\n",
    "from torch_geometric.nn import GCNConv, GATConv, SAGEConv, GraphConv\n",
    "# from torch_geometric.nn import MessagePassing\n",
    "# from torch_geometric.nn import global_mean_pool, global_max_pool, global_add_pool\n",
    "# from torch_geometric.utils import degree, to_dense_adj, to_dense_batch, to_undirected\n",
    "# from torch_geometric.utils import from_networkx, to_networkx\n",
    "# from torch_geometric.utils import negative_sampling, remove_self_loops, add_self_loops\n",
    "# from torch_geometric.utils import dropout_adj, to_undirected, add_self_loops\n",
    "# from torch_geometric.utils import to_dense_adj, to_dense_batch, dense_to_sparse\n",
    "\n"
   ]
  },
  {
   "cell_type": "code",
   "execution_count": null,
   "id": "9bef209e",
   "metadata": {},
   "outputs": [
    {
     "name": "stdout",
     "output_type": "stream",
     "text": [
      "Loading graph from d:\\Repos\\ut-health-final-proj\\pickle\\max_20000_nodes_graph.gpickle...\n",
      "Graph loaded. Number of nodes: 17654, number of edges: 172728\n"
     ]
    }
   ],
   "source": [
    "# load the networkx graph\n",
    "def load_graph(graph_path):\n",
    "    with open(graph_path, 'rb') as f:\n",
    "        graph = pickle.load(f)\n",
    "    return graph\n",
    "\n",
    "CURR_DIR_PATH = os.getcwd()\n",
    "PICKLE_GRAPH_FILE_NAME = f\"{CURR_DIR_PATH}\\\\pickle\\\\max_20000_nodes_graph.gpickle\"\n",
    "PICKLE_GRAPH_FILE_NAME = os.path.abspath(PICKLE_GRAPH_FILE_NAME)\n",
    "\n",
    "print(f\"Loading graph from {PICKLE_GRAPH_FILE_NAME}...\")\n",
    "ntx_graph = load_graph(PICKLE_GRAPH_FILE_NAME)\n",
    "print(f\"Graph loaded. Number of nodes: {ntx_graph.number_of_nodes()}, number of edges: {ntx_graph.number_of_edges()}\")\n"
   ]
  },
  {
   "cell_type": "code",
   "execution_count": 8,
   "id": "709c689b",
   "metadata": {},
   "outputs": [
    {
     "name": "stdout",
     "output_type": "stream",
     "text": [
      "Loading patient similarity dataframe from d:\\Repos\\ut-health-final-proj\\pickle\\max_20000_nodes_similarity.gpickle...\n",
      "Patient similarity dataframe loaded. Number of rows: 1288402\n"
     ]
    }
   ],
   "source": [
    "# load the patient similarity dataframe\n",
    "def load_patient_similarity_df(df_path):\n",
    "    with open(df_path, 'rb') as f:\n",
    "        df = pickle.load(f)\n",
    "    return df\n",
    "\n",
    "CURR_DIR_PATH = os.getcwd()\n",
    "PATIENT_SIMILARITY_DF_FILE_NAME = f\"{CURR_DIR_PATH}\\\\pickle\\\\max_20000_nodes_similarity.gpickle\"\n",
    "PATIENT_SIMILARITY_DF_FILE_NAME = os.path.abspath(PATIENT_SIMILARITY_DF_FILE_NAME)\n",
    "\n",
    "print(f\"Loading patient similarity dataframe from {PATIENT_SIMILARITY_DF_FILE_NAME}...\")\n",
    "patient_similarity_df = load_patient_similarity_df(PATIENT_SIMILARITY_DF_FILE_NAME)\n",
    "print(f\"Patient similarity dataframe loaded. Number of rows: {patient_similarity_df.shape[0]}\")"
   ]
  },
  {
   "cell_type": "code",
   "execution_count": 9,
   "id": "8da7142e",
   "metadata": {},
   "outputs": [
    {
     "data": {
      "text/html": [
       "<div>\n",
       "<style scoped>\n",
       "    .dataframe tbody tr th:only-of-type {\n",
       "        vertical-align: middle;\n",
       "    }\n",
       "\n",
       "    .dataframe tbody tr th {\n",
       "        vertical-align: top;\n",
       "    }\n",
       "\n",
       "    .dataframe thead th {\n",
       "        text-align: right;\n",
       "    }\n",
       "</style>\n",
       "<table border=\"1\" class=\"dataframe\">\n",
       "  <thead>\n",
       "    <tr style=\"text-align: right;\">\n",
       "      <th></th>\n",
       "      <th>patient1</th>\n",
       "      <th>patient2</th>\n",
       "      <th>patient1_id</th>\n",
       "      <th>patient2_id</th>\n",
       "      <th>jaccard_similarity</th>\n",
       "      <th>same_gender</th>\n",
       "      <th>same_age_bucket</th>\n",
       "      <th>is_similar</th>\n",
       "    </tr>\n",
       "  </thead>\n",
       "  <tbody>\n",
       "    <tr>\n",
       "      <th>423</th>\n",
       "      <td>patient-4074</td>\n",
       "      <td>patient-10139</td>\n",
       "      <td>4074</td>\n",
       "      <td>10139</td>\n",
       "      <td>0.304348</td>\n",
       "      <td>False</td>\n",
       "      <td>False</td>\n",
       "      <td>True</td>\n",
       "    </tr>\n",
       "    <tr>\n",
       "      <th>9670</th>\n",
       "      <td>patient-4074</td>\n",
       "      <td>patient-26572</td>\n",
       "      <td>4074</td>\n",
       "      <td>26572</td>\n",
       "      <td>0.300000</td>\n",
       "      <td>True</td>\n",
       "      <td>True</td>\n",
       "      <td>True</td>\n",
       "    </tr>\n",
       "    <tr>\n",
       "      <th>16410</th>\n",
       "      <td>patient-90889</td>\n",
       "      <td>patient-84020</td>\n",
       "      <td>90889</td>\n",
       "      <td>84020</td>\n",
       "      <td>0.344828</td>\n",
       "      <td>True</td>\n",
       "      <td>False</td>\n",
       "      <td>True</td>\n",
       "    </tr>\n",
       "    <tr>\n",
       "      <th>17072</th>\n",
       "      <td>patient-90889</td>\n",
       "      <td>patient-67648</td>\n",
       "      <td>90889</td>\n",
       "      <td>67648</td>\n",
       "      <td>0.400000</td>\n",
       "      <td>False</td>\n",
       "      <td>False</td>\n",
       "      <td>True</td>\n",
       "    </tr>\n",
       "    <tr>\n",
       "      <th>19221</th>\n",
       "      <td>patient-90889</td>\n",
       "      <td>patient-6138</td>\n",
       "      <td>90889</td>\n",
       "      <td>6138</td>\n",
       "      <td>0.333333</td>\n",
       "      <td>True</td>\n",
       "      <td>False</td>\n",
       "      <td>True</td>\n",
       "    </tr>\n",
       "  </tbody>\n",
       "</table>\n",
       "</div>"
      ],
      "text/plain": [
       "            patient1       patient2  patient1_id  patient2_id  \\\n",
       "423     patient-4074  patient-10139         4074        10139   \n",
       "9670    patient-4074  patient-26572         4074        26572   \n",
       "16410  patient-90889  patient-84020        90889        84020   \n",
       "17072  patient-90889  patient-67648        90889        67648   \n",
       "19221  patient-90889   patient-6138        90889         6138   \n",
       "\n",
       "       jaccard_similarity  same_gender  same_age_bucket  is_similar  \n",
       "423              0.304348        False            False        True  \n",
       "9670             0.300000         True             True        True  \n",
       "16410            0.344828         True            False        True  \n",
       "17072            0.400000        False            False        True  \n",
       "19221            0.333333         True            False        True  "
      ]
     },
     "execution_count": 9,
     "metadata": {},
     "output_type": "execute_result"
    }
   ],
   "source": [
    "patient_similarity_df.head(5)"
   ]
  }
 ],
 "metadata": {
  "kernelspec": {
   "display_name": "Python 3",
   "language": "python",
   "name": "python3"
  },
  "language_info": {
   "codemirror_mode": {
    "name": "ipython",
    "version": 3
   },
   "file_extension": ".py",
   "mimetype": "text/x-python",
   "name": "python",
   "nbconvert_exporter": "python",
   "pygments_lexer": "ipython3",
   "version": "3.12.10"
  }
 },
 "nbformat": 4,
 "nbformat_minor": 5
}
