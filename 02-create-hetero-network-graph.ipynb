{
 "cells": [
  {
   "cell_type": "code",
   "execution_count": 1,
   "id": "5ba3ada3",
   "metadata": {},
   "outputs": [
    {
     "name": "stdout",
     "output_type": "stream",
     "text": [
      "SQLite version: ('3.49.1',)\n",
      "Pandas version: 2.2.3\n",
      "Matplotlib version: 3.10.1\n",
      "NetworkX version: 3.4.2\n",
      "\n",
      "Removed truncation of columns\n"
     ]
    }
   ],
   "source": [
    "import sqlite3\n",
    "import pandas as pd\n",
    "import networkx as nx\n",
    "import matplotlib\n",
    "import matplotlib.pyplot as plt\n",
    "\n",
    "SQL_LITE_DB_PATH = \"D:\\\\Repos\\\\ut-health\\\\mimic-iii-gz\\\\mimic3.db\"\n",
    "CREATE_PYVIS_GRAPHS = False\n",
    "\n",
    "# connect to the SQLite database in the file at the given path d:\\data\\mimic.db\n",
    "conn = sqlite3.connect(SQL_LITE_DB_PATH)\n",
    "\n",
    "# print version of sqlite\n",
    "cursor = conn.cursor()\n",
    "cursor.execute(\"SELECT sqlite_version()\")\n",
    "print(f\"SQLite version: {cursor.fetchone()}\")\n",
    "\n",
    "# close connection\n",
    "conn.close()\n",
    "\n",
    "# print versions\n",
    "print(f\"Pandas version: {pd.__version__}\")\n",
    "print(f\"Matplotlib version: {matplotlib.__version__}\")\n",
    "print(f\"NetworkX version: {nx.__version__}\")\n",
    "\n",
    "# set pandas display options to show all columns and rows without truncation\n",
    "pd.set_option('display.max_colwidth', None)\n",
    "pd.set_option('display.max_columns', None)\n",
    "print(\"\\nRemoved truncation of columns\")"
   ]
  },
  {
   "cell_type": "markdown",
   "id": "0cb2caf4",
   "metadata": {},
   "source": [
    "# Load Data"
   ]
  },
  {
   "cell_type": "code",
   "execution_count": 2,
   "id": "b9180e07",
   "metadata": {},
   "outputs": [],
   "source": [
    "# load patient data\n",
    "conn = sqlite3.connect(SQL_LITE_DB_PATH)\n",
    "\n",
    "query = \"SELECT * FROM patients\"\n",
    "patients_df = pd.read_sql_query(query, conn)\n",
    "\n",
    "query = \"SELECT * FROM d_icd_diagnoses\"\n",
    "d_icd_diagnoses_df = pd.read_sql_query(query, conn)\n",
    "\n",
    "query = \"SELECT * FROM diagnoses_icd\"\n",
    "diagnoses_icd_df = pd.read_sql_query(query, conn)\n",
    "\n",
    "query = \"SELECT * FROM admissions\"\n",
    "admissions_df = pd.read_sql_query(query, conn)\n",
    "\n",
    "query = \"SELECT * FROM procedures_icd\"\n",
    "procedures_icd_df = pd.read_sql_query(query, conn)\n",
    "\n",
    "query = \"SELECT * FROM d_icd_procedures\"\n",
    "d_icd_procedures_df = pd.read_sql_query(query, conn)\n",
    "\n",
    "conn.close()"
   ]
  },
  {
   "cell_type": "markdown",
   "id": "08c6ff0e",
   "metadata": {},
   "source": [
    "# Downsample to reduce data size\n",
    "Reduces the number of patients, picks the latest admission (hadm_id) for the patient and picks only those diagnoses belonging to the hospital admission."
   ]
  },
  {
   "cell_type": "code",
   "execution_count": 3,
   "id": "08ab2b1f",
   "metadata": {},
   "outputs": [
    {
     "name": "stdout",
     "output_type": "stream",
     "text": [
      "Patients count: 46520\n",
      "Admissions count: 58976\n",
      "Diagnoses count: 651047\n",
      "Procedures count: 240095\n",
      "Updated patient count: 9\n",
      "Updated admissions count: 9\n",
      "Updated diagnoses count: 110, unique diagnoses: 89\n",
      "Updated procedures count: 39, unique procedures: 32\n"
     ]
    }
   ],
   "source": [
    "# print the number of patients and diagnoses\n",
    "print(f\"Patients count: {len(patients_df)}\")\n",
    "print(f\"Admissions count: {len(admissions_df)}\")\n",
    "print(f\"Diagnoses count: {len(diagnoses_icd_df)}\")\n",
    "print(f\"Procedures count: {len(procedures_icd_df)}\")\n",
    "\n",
    "# patient fraction of the full 46k patient dataframe to select for processing\n",
    "pt_frac = 0.0001  # gives 5 patients, 52 diagnoses\n",
    "pt_frac = 0.0002  # gives 9 patients, 110 diagnoses\n",
    "pt_frac = 0.0003  # gives 14 patients, 188 diagnoses\n",
    "pt_frac = 0.0015  # gives 70 patients, 813 diagnoses\n",
    "pt_frac = 0.01    # gives 465 patients, 5085 diagnoses\n",
    "pt_frac = 0.02    # gives 930 patients, 9939 diagnoses\n",
    "pt_frac = 0.05    # gives 2326 patients, 24959 diagnoses\n",
    "pt_frac = 0.25    # gives 11630 patients, 124000 diagnoses\n",
    "\n",
    "pt_frac = 0.0002\n",
    "\n",
    "# select 0.01% of the patients randomly\n",
    "patients_df = patients_df.sample(frac=pt_frac, random_state=1)\n",
    "\n",
    "# merge with admissions and add DOB to admissions_df\n",
    "admissions_df = admissions_df.merge(patients_df[['SUBJECT_ID', 'DOB']], left_on='SUBJECT_ID', right_on='SUBJECT_ID', how='inner', suffixes=('_adm', '_pt'))\n",
    "\n",
    "# sort admissions_df by SUBJECT_ID and ADMITTIME in ascending order\n",
    "admissions_df['ADMITTIME'] = pd.to_datetime(admissions_df['ADMITTIME'])\n",
    "admissions_df = admissions_df.sort_values(by=['SUBJECT_ID', 'ADMITTIME'])\n",
    "\n",
    "# keep the newest admission (HADM_ID) for each patient, drop the rest of the admissions\n",
    "admissions_df = admissions_df.groupby('SUBJECT_ID').last().reset_index()\n",
    "\n",
    "# keep only diagnoses that belong to HADM_IDs in admissions_df\n",
    "diagnoses_icd_df = diagnoses_icd_df[diagnoses_icd_df['HADM_ID'].isin(admissions_df['HADM_ID'])]\n",
    "\n",
    "# keep only procedures that belong to HADM_IDs in admissions_df\n",
    "procedures_icd_df = procedures_icd_df[procedures_icd_df['HADM_ID'].isin(admissions_df['HADM_ID'])]\n",
    "\n",
    "# print the number of patients and diagnoses\n",
    "print(f\"Updated patient count: {len(patients_df)}\")\n",
    "print(f\"Updated admissions count: {len(admissions_df)}\")\n",
    "print(f\"Updated diagnoses count: {len(diagnoses_icd_df)}, unique diagnoses: {len(diagnoses_icd_df['ICD9_CODE'].unique())}\")\n",
    "print(f\"Updated procedures count: {len(procedures_icd_df)}, unique procedures: {len(procedures_icd_df['ICD9_CODE'].unique())}\")"
   ]
  },
  {
   "cell_type": "markdown",
   "id": "ac17bd85",
   "metadata": {},
   "source": [
    "# Feature Engineering\n",
    "Create age bucket and add hadm_id to patients dataframe"
   ]
  },
  {
   "cell_type": "code",
   "execution_count": 4,
   "id": "4ab3a7f5",
   "metadata": {},
   "outputs": [
    {
     "name": "stdout",
     "output_type": "stream",
     "text": [
      "Patient count: 9\n",
      "Updated patient count (with age bucket): 9\n"
     ]
    }
   ],
   "source": [
    "print(f\"Patient count: {len(patients_df)}\")\n",
    "\n",
    "# convert to integer from datetime type to calculate age (without overflow)\n",
    "admissions_df['DOB'] = admissions_df['DOB'].astype('datetime64[s]').astype(int)\n",
    "admissions_df['ADMITTIME'] = admissions_df['ADMITTIME'].astype('datetime64[s]').astype(int)\n",
    "\n",
    "# calculate age at admission\n",
    "admissions_df['AGE'] = (admissions_df['ADMITTIME'] - admissions_df['DOB']) / 86400 / 365\n",
    "\n",
    "# create age intervals in 5 year increments, of type int\n",
    "admissions_df['AGE_BUCKET'] = (admissions_df['AGE'] // 5).astype(int) * 5\n",
    "\n",
    "# set age bucket to 95 where age is greater than 90\n",
    "admissions_df.loc[admissions_df['AGE_BUCKET'] > 90, 'AGE_BUCKET'] = 95\n",
    "\n",
    "# add AGE_BUCKET to patients_df\n",
    "patients_df = patients_df.merge(admissions_df[['SUBJECT_ID', 'HADM_ID', 'AGE_BUCKET']], left_on='SUBJECT_ID', right_on='SUBJECT_ID', how='inner', suffixes=('_pt', '_adm'))\n",
    "\n",
    "# keep only the relevant columns in patients_df\n",
    "patients_df = patients_df[['SUBJECT_ID', 'HADM_ID', 'GENDER', 'AGE_BUCKET', 'EXPIRE_FLAG']]\n",
    "\n",
    "print(f\"Updated patient count (with age bucket): {len(patients_df)}\")"
   ]
  },
  {
   "cell_type": "markdown",
   "id": "02f1cd8f",
   "metadata": {},
   "source": [
    "# Create network graph"
   ]
  },
  {
   "cell_type": "markdown",
   "id": "edf25c4b",
   "metadata": {},
   "source": [
    "## Create nodes: patients"
   ]
  },
  {
   "cell_type": "code",
   "execution_count": 5,
   "id": "32b47b88",
   "metadata": {},
   "outputs": [
    {
     "name": "stdout",
     "output_type": "stream",
     "text": [
      "Nodes count in graph: 0\n",
      "Updated node count in graph: 9\n"
     ]
    }
   ],
   "source": [
    "# Create a graph\n",
    "G = nx.MultiGraph()\n",
    "print(f\"Nodes count in graph: {G.number_of_nodes()}\")\n",
    "\n",
    "for _, row in patients_df.iterrows():\n",
    "\n",
    "    # Add a node with the patient ID as the node identifier and gender as an attribute, also add dob as an attribute\n",
    "    G.add_node(f\"patient-{row['SUBJECT_ID']}\", gender=row['GENDER'], age_bucket=row['AGE_BUCKET'], hadm_id=row['HADM_ID'], type='patient')\n",
    "\n",
    "# number of nodes in the graph\n",
    "print(f\"Updated node count in graph: {G.number_of_nodes()}\")"
   ]
  },
  {
   "cell_type": "markdown",
   "id": "68637c6b",
   "metadata": {},
   "source": [
    "## Create nodes + edges: diagnoses and patient -> diagnoses"
   ]
  },
  {
   "cell_type": "code",
   "execution_count": 6,
   "id": "86b237e1",
   "metadata": {},
   "outputs": [
    {
     "name": "stdout",
     "output_type": "stream",
     "text": [
      "Diagnoses row count pre-merge: 110\n",
      "Diagnoses row count post-merge: 110\n"
     ]
    }
   ],
   "source": [
    "print(f\"Diagnoses row count pre-merge: {len(diagnoses_icd_df)}\")\n",
    "\n",
    "# merge diagnoses with d_icd_diagnoses to get the description of the diagnosis\n",
    "diagnoses_icd_df = diagnoses_icd_df.merge(d_icd_diagnoses_df[['ICD9_CODE', 'SHORT_TITLE']], left_on='ICD9_CODE', right_on='ICD9_CODE', how='left', suffixes=('_diag', '_desc'))\n",
    "\n",
    "# Check if the merge was successful and print the number of rows in the merged DataFrame\n",
    "print(f\"Diagnoses row count post-merge: {len(diagnoses_icd_df)}\")"
   ]
  },
  {
   "cell_type": "code",
   "execution_count": 7,
   "id": "94cb4533",
   "metadata": {},
   "outputs": [
    {
     "data": {
      "text/html": [
       "<div>\n",
       "<style scoped>\n",
       "    .dataframe tbody tr th:only-of-type {\n",
       "        vertical-align: middle;\n",
       "    }\n",
       "\n",
       "    .dataframe tbody tr th {\n",
       "        vertical-align: top;\n",
       "    }\n",
       "\n",
       "    .dataframe thead th {\n",
       "        text-align: right;\n",
       "    }\n",
       "</style>\n",
       "<table border=\"1\" class=\"dataframe\">\n",
       "  <thead>\n",
       "    <tr style=\"text-align: right;\">\n",
       "      <th></th>\n",
       "      <th>ROW_ID</th>\n",
       "      <th>SUBJECT_ID</th>\n",
       "      <th>HADM_ID</th>\n",
       "      <th>SEQ_NUM</th>\n",
       "      <th>ICD9_CODE</th>\n",
       "      <th>SHORT_TITLE</th>\n",
       "    </tr>\n",
       "  </thead>\n",
       "  <tbody>\n",
       "    <tr>\n",
       "      <th>0</th>\n",
       "      <td>45593</td>\n",
       "      <td>4074</td>\n",
       "      <td>137421</td>\n",
       "      <td>1.0</td>\n",
       "      <td>0389</td>\n",
       "      <td>Septicemia NOS</td>\n",
       "    </tr>\n",
       "    <tr>\n",
       "      <th>1</th>\n",
       "      <td>45594</td>\n",
       "      <td>4074</td>\n",
       "      <td>137421</td>\n",
       "      <td>2.0</td>\n",
       "      <td>78552</td>\n",
       "      <td>Septic shock</td>\n",
       "    </tr>\n",
       "  </tbody>\n",
       "</table>\n",
       "</div>"
      ],
      "text/plain": [
       "   ROW_ID  SUBJECT_ID  HADM_ID  SEQ_NUM ICD9_CODE     SHORT_TITLE\n",
       "0   45593        4074   137421      1.0      0389  Septicemia NOS\n",
       "1   45594        4074   137421      2.0     78552    Septic shock"
      ]
     },
     "execution_count": 7,
     "metadata": {},
     "output_type": "execute_result"
    }
   ],
   "source": [
    "diagnoses_icd_df.head(2)"
   ]
  },
  {
   "cell_type": "code",
   "execution_count": 8,
   "id": "cced80be",
   "metadata": {},
   "outputs": [
    {
     "name": "stdout",
     "output_type": "stream",
     "text": [
      "Node count in graph: 9\n",
      "Diagnosis nodes added: 89\n",
      "Edges count in graph: 110\n",
      "Updated node count in graph: 98\n"
     ]
    }
   ],
   "source": [
    "# number of nodes in the graph\n",
    "n_count = G.number_of_nodes()\n",
    "print(f\"Node count in graph: {n_count}\")\n",
    "\n",
    "# do an inplace sort asending by HADM_ID and SEQ_NUM\n",
    "diagnoses_icd_df.sort_values(by=['HADM_ID', 'SEQ_NUM'], inplace=True)\n",
    "i=0\n",
    "# Create nodes for diagnoses and connect them to patients\n",
    "for _, row in diagnoses_icd_df.iterrows():\n",
    "\n",
    "    # create unique name to prevent clashes with other node id\n",
    "    diag_node_id = f'diagnosis-{row[\"ICD9_CODE\"]}'\n",
    "\n",
    "    # add the diagnosis as a node\n",
    "    if not G.has_node(diag_node_id):\n",
    "        G.add_node(diag_node_id, name=row['SHORT_TITLE'], code=row['ICD9_CODE'], type='diagnosis')\n",
    "    \n",
    "    # Connect the patient to this diagnosis\n",
    "    patient_id = f\"patient-{row['SUBJECT_ID']}\"\n",
    "    G.add_edge(patient_id, diag_node_id, relation='has_diagnosis', seq_num=row['SEQ_NUM'])\n",
    "\n",
    "# Print updated graph stats\n",
    "print(f\"Diagnosis nodes added: {G.number_of_nodes() - n_count}\")\n",
    "print(f\"Edges count in graph: {G.number_of_edges()}\")\n",
    "print(f\"Updated node count in graph: {G.number_of_nodes()}\")"
   ]
  },
  {
   "cell_type": "markdown",
   "id": "f42da673",
   "metadata": {},
   "source": [
    "## Create nodes + edges: procedures and patient -> procedures"
   ]
  },
  {
   "cell_type": "code",
   "execution_count": 9,
   "id": "f474e14e",
   "metadata": {},
   "outputs": [
    {
     "name": "stdout",
     "output_type": "stream",
     "text": [
      "Procedures count pre-merge: 39\n",
      "Procedures count post-merge: 39\n"
     ]
    }
   ],
   "source": [
    "# count before merge\n",
    "print(f\"Procedures count pre-merge: {len(procedures_icd_df)}\")\n",
    "\n",
    "# merge procedures with d_icd_procedures to get the description of the procedure\n",
    "procedures_icd_df = procedures_icd_df.merge(d_icd_procedures_df[['ICD9_CODE', 'SHORT_TITLE']], left_on='ICD9_CODE', right_on='ICD9_CODE', how='left', suffixes=('_proc', '_desc'))\n",
    "\n",
    "print(f\"Procedures count post-merge: {len(procedures_icd_df)}\")"
   ]
  },
  {
   "cell_type": "code",
   "execution_count": 10,
   "id": "0d8c04ae",
   "metadata": {},
   "outputs": [
    {
     "name": "stdout",
     "output_type": "stream",
     "text": [
      "Node count in graph before adding procedures: 98\n",
      "Procedure nodes added: 32\n",
      "Edges count in graph: 149\n",
      "Updated node count in graph: 130\n"
     ]
    }
   ],
   "source": [
    "# number of nodes in the graph before adding procedures\n",
    "n_count = G.number_of_nodes()\n",
    "print(f\"Node count in graph before adding procedures: {n_count}\")\n",
    "\n",
    "# do an inplace sort ascending by HADM_ID and SEQ_NUM\n",
    "procedures_icd_df.sort_values(by=['HADM_ID', 'SEQ_NUM'], inplace=True)\n",
    "\n",
    "# Create nodes for procedures and connect them to patients\n",
    "for _, row in procedures_icd_df.iterrows():\n",
    "    # create unique name to prevent clashes with other node ids\n",
    "    proc_node_id = f'procedure-{row[\"ICD9_CODE\"]}'\n",
    "    \n",
    "    # add the procedure as a node if it doesn't already exist\n",
    "    if not G.has_node(proc_node_id):\n",
    "        G.add_node(proc_node_id, name=row['SHORT_TITLE'], code=row['ICD9_CODE'], type='procedure')\n",
    "    \n",
    "    # Connect the patient to this procedure\n",
    "    patient_id = f\"patient-{row['SUBJECT_ID']}\"\n",
    "    G.add_edge(patient_id, proc_node_id, relation='has_procedure', seq_num=row['SEQ_NUM'])\n",
    "\n",
    "# Print updated graph stats\n",
    "print(f\"Procedure nodes added: {G.number_of_nodes() - n_count}\")\n",
    "print(f\"Edges count in graph: {G.number_of_edges()}\")\n",
    "print(f\"Updated node count in graph: {G.number_of_nodes()}\")"
   ]
  },
  {
   "cell_type": "markdown",
   "id": "fa19cb9c",
   "metadata": {},
   "source": [
    "# Network Graph Statistics"
   ]
  },
  {
   "cell_type": "code",
   "execution_count": 11,
   "id": "a50df038",
   "metadata": {},
   "outputs": [
    {
     "name": "stdout",
     "output_type": "stream",
     "text": [
      "Node counts by type:\n",
      "\tpatient: 9\n",
      "\tdiagnosis: 89\n",
      "\tprocedure: 32\n",
      "\n",
      "Edge counts by type:\n",
      "\thas_diagnosis: 110\n",
      "\thas_procedure: 39\n"
     ]
    }
   ],
   "source": [
    "# print the number of each type of node\n",
    "node_types = {data.get('type'): 0 for _, data in G.nodes(data=True)}\n",
    "for _, data in G.nodes(data=True):\n",
    "    node_type = data.get('type')\n",
    "    node_types[node_type] += 1\n",
    "\n",
    "print(\"Node counts by type:\")\n",
    "for node_type, count in node_types.items():\n",
    "    print(f\"\\t{node_type}: {count}\")\n",
    "\n",
    "# print edge types\n",
    "edge_types = {data.get('relation'): 0 for _, _, data in G.edges(data=True)}\n",
    "for _, _, data in G.edges(data=True):\n",
    "    edge_type = data.get('relation')\n",
    "    edge_types[edge_type] += 1\n",
    "\n",
    "print(\"\\nEdge counts by type:\")\n",
    "for edge_type, count in edge_types.items():\n",
    "    print(f\"\\t{edge_type}: {count}\")"
   ]
  },
  {
   "cell_type": "markdown",
   "id": "22dca638",
   "metadata": {},
   "source": [
    "# Create Similarity Data\n",
    "Similarity data is used as the validation set by R-GCN neural networks"
   ]
  },
  {
   "cell_type": "markdown",
   "id": "491d9ed0",
   "metadata": {},
   "source": [
    "## Jaccard Similarity"
   ]
  },
  {
   "cell_type": "code",
   "execution_count": 12,
   "id": "c1db2b51",
   "metadata": {},
   "outputs": [
    {
     "name": "stdout",
     "output_type": "stream",
     "text": [
      "Total patient nodes: 9\n",
      "Total diagnosis nodes: 89\n",
      "Total procedure nodes: 32\n",
      "Diagnosis matrix shape: (9, 89)\n",
      "Procedure matrix shape: (9, 32)\n",
      "Combined matrix shape: (9, 121)\n",
      "\n",
      "Combined Features Similarity Data Summary:\n",
      "Total pairs analyzed: 36\n",
      "Positive pairs (similar patients): 0\n",
      "Negative pairs (dissimilar patients): 0\n",
      "Final validation set size: 0\n",
      "\n",
      "Similarity Distribution:\n",
      "count    36.000000\n",
      "mean      0.034145\n",
      "std       0.032074\n",
      "min       0.000000\n",
      "25%       0.000000\n",
      "50%       0.030777\n",
      "75%       0.052632\n",
      "max       0.111111\n",
      "Name: jaccard_similarity, dtype: float64\n"
     ]
    },
    {
     "data": {
      "image/png": "[encoded data removed]",
      "text/plain": [
       "<Figure size 1000x600 with 1 Axes>"
      ]
     },
     "metadata": {},
     "output_type": "display_data"
    },
    {
     "name": "stdout",
     "output_type": "stream",
     "text": [
      "\n",
      "Combined features validation data ready for model evaluation\n"
     ]
    }
   ],
   "source": [
    "import pandas as pd\n",
    "import numpy as np\n",
    "from scipy import sparse\n",
    "\n",
    "# Get all patient nodes and their connected diagnoses and procedures\n",
    "patient_nodes = [node for node, data in G.nodes(data=True) if data.get('type') == 'patient']\n",
    "diagnosis_nodes = [node for node, data in G.nodes(data=True) if data.get('type') == 'diagnosis']\n",
    "procedure_nodes = [node for node, data in G.nodes(data=True) if data.get('type') == 'procedure']\n",
    "\n",
    "print(f\"Total patient nodes: {len(patient_nodes)}\")\n",
    "print(f\"Total diagnosis nodes: {len(diagnosis_nodes)}\")\n",
    "print(f\"Total procedure nodes: {len(procedure_nodes)}\")\n",
    "\n",
    "# Create mapping from node IDs to indices for efficient lookup\n",
    "patient_to_idx = {patient: i for i, patient in enumerate(patient_nodes)}\n",
    "diagnosis_to_idx = {diagnosis: i for i, diagnosis in enumerate(diagnosis_nodes)}\n",
    "procedure_to_idx = {procedure: i for i, procedure in enumerate(procedure_nodes)}\n",
    "\n",
    "# Create sparse matrices for patient-diagnosis and patient-procedure connections\n",
    "# For diagnoses\n",
    "diag_rows, diag_cols = [], []\n",
    "for patient in patient_nodes:\n",
    "    for neighbor in G.neighbors(patient):\n",
    "        if 'diagnosis' in neighbor:\n",
    "            diag_rows.append(patient_to_idx[patient])\n",
    "            diag_cols.append(diagnosis_to_idx[neighbor])\n",
    "\n",
    "# For procedures\n",
    "proc_rows, proc_cols = [], []\n",
    "for patient in patient_nodes:\n",
    "    for neighbor in G.neighbors(patient):\n",
    "        if 'procedure' in neighbor:\n",
    "            proc_rows.append(patient_to_idx[patient])\n",
    "            proc_cols.append(procedure_to_idx[neighbor])\n",
    "\n",
    "# Create sparse matrices\n",
    "diag_data = np.ones(len(diag_rows), dtype=np.int8)\n",
    "diag_matrix = sparse.csr_matrix((diag_data, (diag_rows, diag_cols)), \n",
    "                              shape=(len(patient_nodes), len(diagnosis_nodes)))\n",
    "\n",
    "proc_data = np.ones(len(proc_rows), dtype=np.int8)\n",
    "proc_matrix = sparse.csr_matrix((proc_data, (proc_rows, proc_cols)), \n",
    "                              shape=(len(patient_nodes), len(procedure_nodes)))\n",
    "\n",
    "# Combine the two matrices horizontally for a unified feature representation\n",
    "combined_matrix = sparse.hstack([diag_matrix, proc_matrix])\n",
    "\n",
    "print(f\"Diagnosis matrix shape: {diag_matrix.shape}\")\n",
    "print(f\"Procedure matrix shape: {proc_matrix.shape}\")\n",
    "print(f\"Combined matrix shape: {combined_matrix.shape}\")\n",
    "\n",
    "# Calculate dot product for intersection\n",
    "intersection = combined_matrix.dot(combined_matrix.T)\n",
    "\n",
    "# Compute features per patient (sum of diagnoses and procedures)\n",
    "patient_feature_counts = np.array(combined_matrix.sum(axis=1)).flatten()\n",
    "\n",
    "# Calculate jaccard similarities\n",
    "intersection_dense = intersection.toarray()\n",
    "union_dense = np.zeros_like(intersection_dense)\n",
    "\n",
    "for i in range(len(patient_nodes)):\n",
    "    for j in range(i, len(patient_nodes)):  # Upper triangular is enough due to symmetry\n",
    "        union_value = patient_feature_counts[i] + patient_feature_counts[j] - intersection_dense[i, j]\n",
    "        union_dense[i, j] = union_value\n",
    "        union_dense[j, i] = union_value  # Matrix is symmetric\n",
    "\n",
    "# Calculate Jaccard similarity (intersection / union)\n",
    "jaccard_matrix = np.zeros_like(intersection_dense, dtype=float)\n",
    "nonzero_mask = union_dense > 0\n",
    "jaccard_matrix[nonzero_mask] = intersection_dense[nonzero_mask] / union_dense[nonzero_mask]\n",
    "\n",
    "# Get patient data for additional metrics\n",
    "patient_info = {}\n",
    "for patient in patient_nodes:\n",
    "    subject_id = int(patient.split('-')[1])\n",
    "    patient_data = patients_df[patients_df['SUBJECT_ID'] == subject_id].iloc[0]\n",
    "    patient_info[patient] = {\n",
    "        'gender': patient_data['GENDER'],\n",
    "        'age_bucket': patient_data['AGE_BUCKET']\n",
    "    }\n",
    "\n",
    "# Create DataFrame from similarity matrix\n",
    "similarity_data = []\n",
    "for i in range(len(patient_nodes)):\n",
    "    for j in range(i+1, len(patient_nodes)):  # Only upper triangle to avoid duplicates\n",
    "        p1 = patient_nodes[i]\n",
    "        p2 = patient_nodes[j]\n",
    "        p1_id = int(p1.split('-')[1])\n",
    "        p2_id = int(p2.split('-')[1])\n",
    "        \n",
    "        # Get similarity score\n",
    "        sim_score = jaccard_matrix[i, j]\n",
    "        \n",
    "        # Check if they have the same gender and age bucket\n",
    "        same_gender = patient_info[p1]['gender'] == patient_info[p2]['gender']\n",
    "        same_age_bucket = patient_info[p1]['age_bucket'] == patient_info[p2]['age_bucket']\n",
    "        \n",
    "        similarity_data.append({\n",
    "            'patient1': p1,\n",
    "            'patient2': p2,\n",
    "            'patient1_id': p1_id,\n",
    "            'patient2_id': p2_id,\n",
    "            'jaccard_similarity': sim_score,\n",
    "            'same_gender': same_gender,\n",
    "            'same_age_bucket': same_age_bucket\n",
    "        })\n",
    "\n",
    "# Convert to DataFrame\n",
    "combined_similarity_df = pd.DataFrame(similarity_data)\n",
    "\n",
    "# Define positive and negative pairs based on similarity threshold\n",
    "similarity_threshold = 0.3\n",
    "combined_similarity_df['is_similar'] = combined_similarity_df['jaccard_similarity'] >= similarity_threshold\n",
    "\n",
    "# Create validation sets\n",
    "positive_pairs = combined_similarity_df[combined_similarity_df['is_similar']].copy()\n",
    "negative_pairs = combined_similarity_df[~combined_similarity_df['is_similar']].copy()\n",
    "\n",
    "# Balance the dataset\n",
    "min_count = min(len(positive_pairs), len(negative_pairs))\n",
    "if min_count < len(positive_pairs):\n",
    "    positive_pairs = positive_pairs.sample(min_count, random_state=42)\n",
    "if min_count < len(negative_pairs):\n",
    "    negative_pairs = negative_pairs.sample(min_count, random_state=42)\n",
    "\n",
    "# Combine into final validation set\n",
    "validation_pairs_combined = pd.concat([positive_pairs, negative_pairs])\n",
    "\n",
    "# Print summary statistics\n",
    "print(f\"\\nCombined Features Similarity Data Summary:\")\n",
    "print(f\"Total pairs analyzed: {len(combined_similarity_df)}\")\n",
    "print(f\"Positive pairs (similar patients): {len(positive_pairs)}\")\n",
    "print(f\"Negative pairs (dissimilar patients): {len(negative_pairs)}\")\n",
    "print(f\"Final validation set size: {len(validation_pairs_combined)}\")\n",
    "\n",
    "# Show similarity distribution\n",
    "print(\"\\nSimilarity Distribution:\")\n",
    "print(combined_similarity_df['jaccard_similarity'].describe())\n",
    "\n",
    "# Create a histogram of similarity scores\n",
    "plt.figure(figsize=(10, 6))\n",
    "plt.hist(combined_similarity_df['jaccard_similarity'], bins=20, alpha=0.7)\n",
    "plt.axvline(similarity_threshold, color='red', linestyle='dashed', linewidth=2)\n",
    "plt.title('Distribution of Patient Similarities (Diagnoses + Procedures)')\n",
    "plt.xlabel('Jaccard Similarity Score')\n",
    "plt.ylabel('Frequency')\n",
    "plt.grid(True, alpha=0.3)\n",
    "plt.show()\n",
    "\n",
    "# Save combined validation pairs\n",
    "validation_pairs_combined.to_csv('patient_similarity_combined_validation_pairs.csv', index=False)\n",
    "\n",
    "print(\"\\nCombined features validation data ready for model evaluation\")"
   ]
  },
  {
   "cell_type": "code",
   "execution_count": 13,
   "id": "6938b1c8",
   "metadata": {},
   "outputs": [
    {
     "data": {
      "text/html": [
       "<div>\n",
       "<style scoped>\n",
       "    .dataframe tbody tr th:only-of-type {\n",
       "        vertical-align: middle;\n",
       "    }\n",
       "\n",
       "    .dataframe tbody tr th {\n",
       "        vertical-align: top;\n",
       "    }\n",
       "\n",
       "    .dataframe thead th {\n",
       "        text-align: right;\n",
       "    }\n",
       "</style>\n",
       "<table border=\"1\" class=\"dataframe\">\n",
       "  <thead>\n",
       "    <tr style=\"text-align: right;\">\n",
       "      <th></th>\n",
       "      <th>patient1</th>\n",
       "      <th>patient2</th>\n",
       "      <th>patient1_id</th>\n",
       "      <th>patient2_id</th>\n",
       "      <th>jaccard_similarity</th>\n",
       "      <th>same_gender</th>\n",
       "      <th>same_age_bucket</th>\n",
       "      <th>is_similar</th>\n",
       "    </tr>\n",
       "  </thead>\n",
       "  <tbody>\n",
       "  </tbody>\n",
       "</table>\n",
       "</div>"
      ],
      "text/plain": [
       "Empty DataFrame\n",
       "Columns: [patient1, patient2, patient1_id, patient2_id, jaccard_similarity, same_gender, same_age_bucket, is_similar]\n",
       "Index: []"
      ]
     },
     "execution_count": 13,
     "metadata": {},
     "output_type": "execute_result"
    }
   ],
   "source": [
    "# show the last 5 rows of the validation pairs dataframe\n",
    "validation_pairs_combined.head(5)"
   ]
  },
  {
   "cell_type": "markdown",
   "id": "85c5eab4",
   "metadata": {},
   "source": [
    "# Create Visual Pyvis Graph"
   ]
  },
  {
   "cell_type": "code",
   "execution_count": 14,
   "id": "edcd7822",
   "metadata": {},
   "outputs": [
    {
     "name": "stdout",
     "output_type": "stream",
     "text": [
      "Total graph node count: 130\n",
      "HTML file name: d:\\Repos\\ut-health-final-proj\\pyvis\\graph_max_1000_nodes.html\n"
     ]
    }
   ],
   "source": [
    "import os\n",
    "\n",
    "CURR_DIR_PATH = os.getcwd()\n",
    "HTML_FILE_NAME = None\n",
    "\n",
    "if G.number_of_nodes() < 10:\n",
    "    HTML_FILE_NAME = f\"{CURR_DIR_PATH}\\\\pyvis\\\\graph_max_10_nodes.html\"\n",
    "elif G.number_of_nodes() < 50:\n",
    "    HTML_FILE_NAME = f\"{CURR_DIR_PATH}\\\\pyvis\\\\graph_max_50_nodes.html\"\n",
    "elif G.number_of_nodes() < 100:\n",
    "    HTML_FILE_NAME = f\"{CURR_DIR_PATH}\\\\pyvis\\\\graph_max_100_nodes.html\"\n",
    "elif G.number_of_nodes() < 1000:\n",
    "    HTML_FILE_NAME = f\"{CURR_DIR_PATH}\\\\pyvis\\\\graph_max_1000_nodes.html\"\n",
    "elif G.number_of_nodes() < 10000:\n",
    "    HTML_FILE_NAME = f\"{CURR_DIR_PATH}\\\\pyvis\\\\graph_max_10000_nodes.html\"\n",
    "elif G.number_of_nodes() < 15000:\n",
    "    HTML_FILE_NAME = f\"{CURR_DIR_PATH}\\\\pyvis\\\\graph_max_15000_nodes.html\"\n",
    "elif G.number_of_nodes() < 20000:\n",
    "    HTML_FILE_NAME = f\"{CURR_DIR_PATH}\\\\pyvis\\\\graph_max_20000_nodes.html\"\n",
    "else:\n",
    "    HTML_FILE_NAME = f\"{CURR_DIR_PATH}\\\\pyvis\\\\graph_max_46000_nodes.html\"\n",
    "\n",
    "print(f\"Total graph node count: {G.number_of_nodes()}\")\n",
    "print(f\"HTML file name: {HTML_FILE_NAME}\")"
   ]
  },
  {
   "cell_type": "code",
   "execution_count": 15,
   "id": "0e6b8727",
   "metadata": {},
   "outputs": [
    {
     "name": "stdout",
     "output_type": "stream",
     "text": [
      "Graph saved to d:\\Repos\\ut-health-final-proj\\pyvis\\graph_max_1000_nodes.html\n"
     ]
    }
   ],
   "source": [
    "ENABLE_PYVIS = True\n",
    "MAX_NODES = 200\n",
    "\n",
    "# if node count is less than MAX_NODES, create a pyvis graph\n",
    "if ENABLE_PYVIS and G.number_of_nodes() < MAX_NODES:\n",
    "    from pyvis.network import Network\n",
    "\n",
    "    # Create a PyVis network\n",
    "    net = Network(height=\"1200px\", width=\"100%\", notebook=False, directed=False, cdn_resources=\"remote\")\n",
    "    net.from_nx(G)\n",
    "\n",
    "    # color patient nodes blue, diagnosis nodes green, and procedure nodes red\n",
    "    for node in net.nodes:\n",
    "        if 'patient' in node['id']:\n",
    "            node['color'] = 'blue'\n",
    "        elif 'diagnosis' in node['id']:\n",
    "            node['color'] = 'green'\n",
    "        elif 'procedure' in node['id']:\n",
    "            node['color'] = 'red'\n",
    "\n",
    "\n",
    "    # Show the graph in a notebook cell\n",
    "    net.show_buttons()\n",
    "    net.generate_html(HTML_FILE_NAME)\n",
    "    net.save_graph(HTML_FILE_NAME)\n",
    "\n",
    "    print(f\"Graph saved to {HTML_FILE_NAME}\")"
   ]
  },
  {
   "cell_type": "markdown",
   "id": "ae31e63f",
   "metadata": {},
   "source": [
    "# Pickle and persist"
   ]
  },
  {
   "cell_type": "code",
   "execution_count": null,
   "id": "8299cd46",
   "metadata": {},
   "outputs": [
    {
     "name": "stdout",
     "output_type": "stream",
     "text": [
      "Total graph node count: 130\n",
      "Pickle graph file name: d:\\Repos\\ut-health-final-proj\\pickle\\max_1000_nodes_graph.gpickle\n",
      "Pickle similarity file name: d:\\Repos\\ut-health-final-proj\\pickle\\max_1000_nodes_similarity.gpickle\n",
      "HTML file name: d:\\Repos\\ut-health-final-proj\\pyvis\\graph_max_1000_nodes.html\n"
     ]
    }
   ],
   "source": [
    "import os\n",
    "\n",
    "CURR_DIR_PATH = os.getcwd()\n",
    "\n",
    "PICKLE_GRAPH_FILE_NAME = None\n",
    "PICKLE_SIMILARITY_FILE_NAME = None\n",
    "\n",
    "if G.number_of_nodes() < 10:\n",
    "    PICKLE_GRAPH_FILE_NAME = f\"{CURR_DIR_PATH}\\\\pickle\\\\max_10_nodes_graph.gpickle\"\n",
    "    PICKLE_SIMILARITY_FILE_NAME = f\"{CURR_DIR_PATH}\\\\pickle\\\\max_10_nodes_similarity.gpickle\"\n",
    "\n",
    "elif G.number_of_nodes() < 50:\n",
    "    PICKLE_GRAPH_FILE_NAME = f\"{CURR_DIR_PATH}\\\\pickle\\\\max_50_nodes_graph.gpickle\"\n",
    "    PICKLE_SIMILARITY_FILE_NAME = f\"{CURR_DIR_PATH}\\\\pickle\\\\max_50_nodes_similarity.gpickle\"\n",
    "\n",
    "elif G.number_of_nodes() < 100:\n",
    "    PICKLE_GRAPH_FILE_NAME = f\"{CURR_DIR_PATH}\\\\pickle\\\\max_100_nodes_graph.gpickle\"\n",
    "    PICKLE_SIMILARITY_FILE_NAME = f\"{CURR_DIR_PATH}\\\\pickle\\\\max_100_nodes_similarity.gpickle\"\n",
    "\n",
    "elif G.number_of_nodes() < 1000:\n",
    "    PICKLE_GRAPH_FILE_NAME = f\"{CURR_DIR_PATH}\\\\pickle\\\\max_1000_nodes_graph.gpickle\"\n",
    "    PICKLE_SIMILARITY_FILE_NAME = f\"{CURR_DIR_PATH}\\\\pickle\\\\max_1000_nodes_similarity.gpickle\"\n",
    "\n",
    "elif G.number_of_nodes() < 10000:\n",
    "    PICKLE_GRAPH_FILE_NAME = f\"{CURR_DIR_PATH}\\\\pickle\\\\max_10000_nodes_graph.gpickle\"\n",
    "    PICKLE_SIMILARITY_FILE_NAME = f\"{CURR_DIR_PATH}\\\\pickle\\\\max_10000_nodes_similarity.gpickle\"\n",
    "\n",
    "elif G.number_of_nodes() < 15000:\n",
    "    PICKLE_GRAPH_FILE_NAME = f\"{CURR_DIR_PATH}\\\\pickle\\\\max_15000_nodes_graph.gpickle\"\n",
    "    PICKLE_SIMILARITY_FILE_NAME = f\"{CURR_DIR_PATH}\\\\pickle\\\\max_15000_nodes_similarity.gpickle\"\n",
    "\n",
    "elif G.number_of_nodes() < 20000:\n",
    "    PICKLE_GRAPH_FILE_NAME = f\"{CURR_DIR_PATH}\\\\pickle\\\\max_20000_nodes_graph.gpickle\"\n",
    "    PICKLE_SIMILARITY_FILE_NAME = f\"{CURR_DIR_PATH}\\\\pickle\\\\max_20000_nodes_similarity.gpickle\"\n",
    "\n",
    "else:\n",
    "    PICKLE_GRAPH_FILE_NAME = f\"{CURR_DIR_PATH}\\\\pickle\\\\max_46000_nodes_graph.gpickle\"\n",
    "    PICKLE_SIMILARITY_FILE_NAME = f\"{CURR_DIR_PATH}\\\\pickle\\\\max_46000_nodes_similarity.gpickle\"\n",
    "\n",
    "print(f\"Total graph node count: {G.number_of_nodes()}\")\n",
    "print(f\"Pickle graph file name: {PICKLE_GRAPH_FILE_NAME}\")\n",
    "print(f\"Pickle similarity file name: {PICKLE_SIMILARITY_FILE_NAME}\")"
   ]
  },
  {
   "cell_type": "markdown",
   "id": "6edbdb4c",
   "metadata": {},
   "source": [
    "## Network Graph and Similarity Dataframe"
   ]
  },
  {
   "cell_type": "code",
   "execution_count": 17,
   "id": "fb9ce9ea",
   "metadata": {},
   "outputs": [
    {
     "name": "stdout",
     "output_type": "stream",
     "text": [
      "Graph G pickled to d:\\Repos\\ut-health-final-proj\\pickle\\max_1000_nodes_graph.gpickle\n",
      "Similarity dataframe pickled to d:\\Repos\\ut-health-final-proj\\pickle\\max_1000_nodes_similarity.gpickle\n"
     ]
    }
   ],
   "source": [
    "# pickle the graph G\n",
    "import pickle\n",
    "with open(PICKLE_GRAPH_FILE_NAME, 'wb') as f:\n",
    "    pickle.dump(G, f)\n",
    "    print(f\"Graph G pickled to {PICKLE_GRAPH_FILE_NAME}\")\n",
    "\n",
    "# pickle the positive similarity pairs\n",
    "with open(PICKLE_SIMILARITY_FILE_NAME, 'wb') as f:\n",
    "    pickle.dump(validation_pairs_combined, f)\n",
    "    print(f\"Similarity dataframe pickled to {PICKLE_SIMILARITY_FILE_NAME}\")\n"
   ]
  }
 ],
 "metadata": {
  "kernelspec": {
   "display_name": "Python 3",
   "language": "python",
   "name": "python3"
  },
  "language_info": {
   "codemirror_mode": {
    "name": "ipython",
    "version": 3
   },
   "file_extension": ".py",
   "mimetype": "text/x-python",
   "name": "python",
   "nbconvert_exporter": "python",
   "pygments_lexer": "ipython3",
   "version": "3.12.10"
  }
 },
 "nbformat": 4,
 "nbformat_minor": 5
}
