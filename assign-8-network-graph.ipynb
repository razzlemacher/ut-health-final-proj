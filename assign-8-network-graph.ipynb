{
 "cells": [
  {
   "cell_type": "markdown",
   "id": "a92a1ccc",
   "metadata": {},
   "source": [
    "# Imports"
   ]
  },
  {
   "cell_type": "code",
   "execution_count": 17,
   "id": "b108dfa0",
   "metadata": {},
   "outputs": [
    {
     "name": "stdout",
     "output_type": "stream",
     "text": [
      "SQLite version: 3.49.1\n",
      "Pandas version: 2.2.3\n",
      "Matplotlib version: 3.10.1\n",
      "NetworkX version: 3.4.2\n",
      "\n",
      "Removed truncation of columns\n"
     ]
    }
   ],
   "source": [
    "import sqlite3\n",
    "import pandas as pd\n",
    "import networkx as nx\n",
    "import matplotlib\n",
    "import matplotlib.pyplot as plt\n",
    "\n",
    "# Connect to the SQLite database in the file at the given path d:\\data\\mimic.db\n",
    "conn = sqlite3.connect(\"D:\\\\Repos\\\\ut-health\\\\mimic-iii-gz\\\\mimic3.db\")\n",
    "\n",
    "# print version of sqlite\n",
    "cursor = conn.cursor()\n",
    "cursor.execute(\"SELECT sqlite_version()\")\n",
    "print(\"SQLite version: %s\" % cursor.fetchone())\n",
    "\n",
    "# close connection\n",
    "conn.close()\n",
    "\n",
    "# print pandas version\n",
    "print(\"Pandas version: %s\" % pd.__version__)\n",
    "\n",
    "# print matplotlib version\n",
    "print(f\"Matplotlib version: {matplotlib.__version__}\")\n",
    "\n",
    "print(f\"NetworkX version: {nx.__version__}\")\n",
    "\n",
    "# Set pandas display options to show all columns and rows without truncation\n",
    "pd.set_option('display.max_colwidth', None)\n",
    "pd.set_option('display.max_columns', None)\n",
    "print(\"\\nRemoved truncation of columns\")\n"
   ]
  },
  {
   "cell_type": "markdown",
   "id": "b5e940d5",
   "metadata": {},
   "source": [
    "# Load Data"
   ]
  },
  {
   "cell_type": "code",
   "execution_count": 18,
   "id": "1e8a1b5d",
   "metadata": {},
   "outputs": [],
   "source": [
    "# load patient data\n",
    "conn = sqlite3.connect(\"D:\\\\Repos\\\\ut-health\\\\mimic-iii-gz\\\\mimic3.db\")\n",
    "\n",
    "query = \"SELECT * FROM patients\"\n",
    "patients_df = pd.read_sql_query(query, conn)\n",
    "\n",
    "query = \"SELECT * FROM d_icd_diagnoses\"\n",
    "d_icd_diagnoses_df = pd.read_sql_query(query, conn)\n",
    "\n",
    "query = \"SELECT * FROM diagnoses_icd\"\n",
    "diagnoses_icd_df = pd.read_sql_query(query, conn)\n",
    "\n",
    "query = \"SELECT * FROM admissions\"\n",
    "admissions_df = pd.read_sql_query(query, conn)\n",
    "\n",
    "conn.close()"
   ]
  },
  {
   "cell_type": "markdown",
   "id": "5bd03ec5",
   "metadata": {},
   "source": [
    "# Subselect size of data\n"
   ]
  },
  {
   "cell_type": "code",
   "execution_count": null,
   "id": "dca12357",
   "metadata": {},
   "outputs": [
    {
     "name": "stdout",
     "output_type": "stream",
     "text": [
      "Number of patients: 46520\n",
      "Number of diagnoses: 651047\n",
      "Updated number of patients: 9\n",
      "Updated number of diagnoses: 138\n"
     ]
    }
   ],
   "source": [
    "# print the number of patients and diagnoses\n",
    "print(f\"Number of patients: {len(patients_df)}\")\n",
    "print(f\"Number of diagnoses: {len(diagnoses_icd_df)}\")\n",
    "\n",
    "pt_frac = 0.0001  # 0.01% of the patients gives 5 patients, 90 diagnoses\n",
    "pt_frac = 0.0002  # 0.01% of the patients gives 5 patients, 90 diagnoses\n",
    "\n",
    "# select 0.01% of the patients randomly\n",
    "patients_df = patients_df.sample(frac=pt_frac, random_state=1)\n",
    "\n",
    "# drop rows from diagnoses_icd_df where subject_id is not in patients_df\n",
    "diagnoses_icd_df = diagnoses_icd_df[diagnoses_icd_df['SUBJECT_ID'].isin(patients_df['SUBJECT_ID'])]\n",
    "\n",
    "# print the number of patients and diagnoses\n",
    "print(f\"Updated number of patients: {len(patients_df)}\")\n",
    "print(f\"Updated number of diagnoses: {len(diagnoses_icd_df)}\")\n",
    "\n",
    "\n",
    "# TODO: fix the HADM_ID issue, only keep diagnosies that are from the latest admissions under subject id, and drop the rest, do same for admissions_df"
   ]
  },
  {
   "cell_type": "markdown",
   "id": "8e56b911",
   "metadata": {},
   "source": [
    "# Feature Engineering"
   ]
  },
  {
   "cell_type": "code",
   "execution_count": 20,
   "id": "42f08685",
   "metadata": {},
   "outputs": [
    {
     "name": "stdout",
     "output_type": "stream",
     "text": [
      "Number of patients: 9\n",
      "Updated number of patients (with age bucket): 9\n"
     ]
    }
   ],
   "source": [
    "# log data\n",
    "print(f\"Number of patients: {len(patients_df)}\")\n",
    "\n",
    "# add DOB to admissions_df\n",
    "admissions_age_df = admissions_df.merge(patients_df[['SUBJECT_ID', 'DOB']], left_on='SUBJECT_ID', right_on='SUBJECT_ID', how='inner', suffixes=('_adm', '_pt'))\n",
    "\n",
    "# keep the newest admission for each patient, drop the rest\n",
    "admissions_age_df = admissions_age_df.groupby('SUBJECT_ID').last().reset_index()\n",
    "\n",
    "# convert to integer from datetime type to calculate age (without overflow)\n",
    "admissions_age_df['DOB'] = admissions_age_df['DOB'].astype('datetime64[s]').astype(int)\n",
    "admissions_age_df['ADMITTIME'] = admissions_age_df['ADMITTIME'].astype('datetime64[s]').astype(int)\n",
    "\n",
    "# calculate age at admission\n",
    "admissions_age_df['AGE'] = (admissions_age_df['ADMITTIME'] - admissions_age_df['DOB']) / 86400 / 365\n",
    "\n",
    "# create age intervals in 5 year increments, of type int\n",
    "admissions_age_df['AGE_BUCKET'] = (admissions_age_df['AGE'] // 5).astype(int) * 5\n",
    "\n",
    "# set age bucket to 95 where age is greater than 90\n",
    "admissions_age_df.loc[admissions_age_df['AGE_BUCKET'] > 90, 'AGE_BUCKET'] = 95\n",
    "\n",
    "# add AGE_BUCKET to patients_df\n",
    "patients_df = patients_df.merge(admissions_age_df[['SUBJECT_ID', 'HADM_ID', 'AGE_BUCKET']], left_on='SUBJECT_ID', right_on='SUBJECT_ID', how='inner', suffixes=('_pt', '_adm'))\n",
    "\n",
    "print(f\"Updated number of patients (with age bucket): {len(patients_df)}\")"
   ]
  },
  {
   "cell_type": "code",
   "execution_count": 21,
   "id": "e372820a",
   "metadata": {},
   "outputs": [
    {
     "data": {
      "text/html": [
       "<div>\n",
       "<style scoped>\n",
       "    .dataframe tbody tr th:only-of-type {\n",
       "        vertical-align: middle;\n",
       "    }\n",
       "\n",
       "    .dataframe tbody tr th {\n",
       "        vertical-align: top;\n",
       "    }\n",
       "\n",
       "    .dataframe thead th {\n",
       "        text-align: right;\n",
       "    }\n",
       "</style>\n",
       "<table border=\"1\" class=\"dataframe\">\n",
       "  <thead>\n",
       "    <tr style=\"text-align: right;\">\n",
       "      <th></th>\n",
       "      <th>ROW_ID</th>\n",
       "      <th>SUBJECT_ID</th>\n",
       "      <th>GENDER</th>\n",
       "      <th>DOB</th>\n",
       "      <th>DOD</th>\n",
       "      <th>DOD_HOSP</th>\n",
       "      <th>DOD_SSN</th>\n",
       "      <th>EXPIRE_FLAG</th>\n",
       "      <th>HADM_ID</th>\n",
       "      <th>AGE_BUCKET</th>\n",
       "    </tr>\n",
       "  </thead>\n",
       "  <tbody>\n",
       "    <tr>\n",
       "      <th>0</th>\n",
       "      <td>3850</td>\n",
       "      <td>4074</td>\n",
       "      <td>M</td>\n",
       "      <td>2121-08-01 00:00:00</td>\n",
       "      <td>2204-02-06 00:00:00</td>\n",
       "      <td>2204-02-06 00:00:00</td>\n",
       "      <td>2204-02-06 00:00:00</td>\n",
       "      <td>1</td>\n",
       "      <td>137421</td>\n",
       "      <td>80</td>\n",
       "    </tr>\n",
       "    <tr>\n",
       "      <th>1</th>\n",
       "      <td>44143</td>\n",
       "      <td>90889</td>\n",
       "      <td>M</td>\n",
       "      <td>2095-04-29 00:00:00</td>\n",
       "      <td>None</td>\n",
       "      <td>None</td>\n",
       "      <td>None</td>\n",
       "      <td>0</td>\n",
       "      <td>168745</td>\n",
       "      <td>55</td>\n",
       "    </tr>\n",
       "    <tr>\n",
       "      <th>2</th>\n",
       "      <td>39453</td>\n",
       "      <td>72753</td>\n",
       "      <td>M</td>\n",
       "      <td>2042-06-01 00:00:00</td>\n",
       "      <td>None</td>\n",
       "      <td>None</td>\n",
       "      <td>None</td>\n",
       "      <td>0</td>\n",
       "      <td>144029</td>\n",
       "      <td>85</td>\n",
       "    </tr>\n",
       "    <tr>\n",
       "      <th>3</th>\n",
       "      <td>37377</td>\n",
       "      <td>64908</td>\n",
       "      <td>M</td>\n",
       "      <td>2108-04-22 00:00:00</td>\n",
       "      <td>None</td>\n",
       "      <td>None</td>\n",
       "      <td>None</td>\n",
       "      <td>0</td>\n",
       "      <td>172851</td>\n",
       "      <td>75</td>\n",
       "    </tr>\n",
       "    <tr>\n",
       "      <th>4</th>\n",
       "      <td>38824</td>\n",
       "      <td>70273</td>\n",
       "      <td>F</td>\n",
       "      <td>2090-05-28 00:00:00</td>\n",
       "      <td>None</td>\n",
       "      <td>None</td>\n",
       "      <td>None</td>\n",
       "      <td>0</td>\n",
       "      <td>102912</td>\n",
       "      <td>75</td>\n",
       "    </tr>\n",
       "  </tbody>\n",
       "</table>\n",
       "</div>"
      ],
      "text/plain": [
       "   ROW_ID  SUBJECT_ID GENDER                  DOB                  DOD  \\\n",
       "0    3850        4074      M  2121-08-01 00:00:00  2204-02-06 00:00:00   \n",
       "1   44143       90889      M  2095-04-29 00:00:00                 None   \n",
       "2   39453       72753      M  2042-06-01 00:00:00                 None   \n",
       "3   37377       64908      M  2108-04-22 00:00:00                 None   \n",
       "4   38824       70273      F  2090-05-28 00:00:00                 None   \n",
       "\n",
       "              DOD_HOSP              DOD_SSN  EXPIRE_FLAG  HADM_ID  AGE_BUCKET  \n",
       "0  2204-02-06 00:00:00  2204-02-06 00:00:00            1   137421          80  \n",
       "1                 None                 None            0   168745          55  \n",
       "2                 None                 None            0   144029          85  \n",
       "3                 None                 None            0   172851          75  \n",
       "4                 None                 None            0   102912          75  "
      ]
     },
     "execution_count": 21,
     "metadata": {},
     "output_type": "execute_result"
    }
   ],
   "source": [
    "patients_df.head(5)"
   ]
  },
  {
   "cell_type": "markdown",
   "id": "4854e7ab",
   "metadata": {},
   "source": [
    "# Create Graph"
   ]
  },
  {
   "cell_type": "markdown",
   "id": "f4814b24",
   "metadata": {},
   "source": [
    "## Create patient nodes"
   ]
  },
  {
   "cell_type": "code",
   "execution_count": 6,
   "id": "9a19946b",
   "metadata": {},
   "outputs": [
    {
     "name": "stdout",
     "output_type": "stream",
     "text": [
      "Number of nodes in the graph: 9\n"
     ]
    }
   ],
   "source": [
    "# Create a graph\n",
    "G = nx.Graph()\n",
    "\n",
    "i = 0\n",
    "\n",
    "for _, row in patients_df.iterrows():\n",
    "\n",
    "    # Add a node with the patient ID as the node identifier and gender as an attribute, also add dob as an attribute\n",
    "    G.add_node(row['SUBJECT_ID'], gender=row['GENDER'], age=row['DOB'], age_bucket=row['AGE_BUCKET'])\n",
    "\n",
    "    i+=1\n",
    "    if i % 2000 == 0:\n",
    "        print(f\"Added {i} patient nodes, percent: {i / len(patients_df) * 100:.2f}%\")\n",
    "\n",
    "# number of nodes in the graph\n",
    "print(f\"Number of nodes in the graph: {G.number_of_nodes()}\")"
   ]
  },
  {
   "cell_type": "markdown",
   "id": "6a9d9a83",
   "metadata": {},
   "source": [
    "## Create diagnosis to patient mappings"
   ]
  },
  {
   "cell_type": "code",
   "execution_count": null,
   "id": "d085431c",
   "metadata": {},
   "outputs": [
    {
     "name": "stdout",
     "output_type": "stream",
     "text": [
      "Sample keys and values from the dictionary:\n",
      "\t\t('2760', {160456})\n",
      "\t\t('2851', {180201, 172851, 144460})\n",
      "Count of the number of keys in the dictionary: 98\n",
      "Count of the number of values in all keys: 138\n",
      "Number of patients with diagnosis 0389: 2\n"
     ]
    }
   ],
   "source": [
    "# use the diagnoses_icd_df to get the icd9 codes, group by icd9 code, and create a dictionary with the icd9 code as the key and the subjects as the values\n",
    "diagnoses_to_patients = diagnoses_icd_df.groupby('ICD9_CODE')['HADM_ID'].apply(set).to_dict()\n",
    "\n",
    "# print 1 random key and value from the dictionary\n",
    "print(f\"Sample keys and values from the dictionary:\")\n",
    "print(f\"\\t\\t{list(diagnoses_to_patients.items())[12]}\")\n",
    "print(f\"\\t\\t{list(diagnoses_to_patients.items())[15]}\")\n",
    "\n",
    "# print size of the dictionary and counts of values\n",
    "print(f\"Count of the number of keys in the dictionary: {len(diagnoses_to_patients)}\")\n",
    "print(f\"Count of the number of values in all keys: {sum(len(v) for v in diagnoses_to_patients.values())}\")\n",
    "\n",
    "# print number of patients with diagnosis 0389\n",
    "print(f\"Number of patients with diagnosis 0389: {len(diagnoses_to_patients.get('0389', []))}\")\n"
   ]
  },
  {
   "cell_type": "markdown",
   "id": "ac836756",
   "metadata": {},
   "source": [
    "## Add diagnoses edges between patients"
   ]
  },
  {
   "cell_type": "code",
   "execution_count": 8,
   "id": "b0f5834e",
   "metadata": {},
   "outputs": [
    {
     "name": "stdout",
     "output_type": "stream",
     "text": [
      "Number of edges: 0\n"
     ]
    }
   ],
   "source": [
    "# print the number of edges in the graph\n",
    "print(f\"Number of edges: {len(G.edges())}\")"
   ]
  },
  {
   "cell_type": "code",
   "execution_count": 9,
   "id": "d72e8a79",
   "metadata": {},
   "outputs": [
    {
     "name": "stdout",
     "output_type": "stream",
     "text": [
      "ICD9 code: 00845, short title: Int inf clstrdium dfcile\n"
     ]
    }
   ],
   "source": [
    "i=0\n",
    "ONCE = True\n",
    "\n",
    "\n",
    "# add diagnosis/icd9 edge between patients\n",
    "for icd9_code, patients in diagnoses_to_patients.items():\n",
    "\n",
    "    # get SHORT_TITLE from d_icd_diagnoses_df for the icd9 code\n",
    "    short_title = d_icd_diagnoses_df[d_icd_diagnoses_df['ICD9_CODE'] == icd9_code]['SHORT_TITLE'].values\n",
    "\n",
    "    if len(short_title) == 0:\n",
    "        short_title = \"Unknown\"\n",
    "    else:\n",
    "        # convert to a string\n",
    "        short_title = short_title[0]\n",
    "\n",
    "    if ONCE:\n",
    "        print(f\"ICD9 code: {icd9_code}, short title: {short_title}\")\n",
    "        ONCE = False\n",
    "\n",
    "    if len(patients) < 2:\n",
    "        continue\n",
    "\n",
    "    # if there are more than 1 patients with the same diagnosis, add edges between them\n",
    "    patients = list(patients)\n",
    "\n",
    "    combos = [(patients[i], patients[j]) for i in range(len(patients)) for j in range(i + 1, len(patients))]\n",
    "    G.add_edges_from(combos, icd9=icd9_code, short_title=short_title)\n",
    "    i += 1\n",
    "    if i % 4000 == 0:\n",
    "        print(f\"Added {i} edges, percent: {i / len(diagnoses_to_patients) * 100:.2f}%\")\n"
   ]
  },
  {
   "cell_type": "code",
   "execution_count": 10,
   "id": "bf15ee07",
   "metadata": {},
   "outputs": [
    {
     "name": "stdout",
     "output_type": "stream",
     "text": [
      "Number of edges: 23\n",
      "Number of nodes: 9\n"
     ]
    }
   ],
   "source": [
    "# print the number of edges in the graph\n",
    "print(f\"Number of edges: {len(G.edges())}\")\n",
    "\n",
    "# print the number of nodes in the graph\n",
    "print(f\"Number of nodes: {len(G.nodes())}\")"
   ]
  },
  {
   "cell_type": "markdown",
   "id": "86a052f1",
   "metadata": {},
   "source": [
    "# Constants"
   ]
  },
  {
   "cell_type": "code",
   "execution_count": 11,
   "id": "ae8d2a4f",
   "metadata": {},
   "outputs": [],
   "source": [
    "PICKLE_FILE_NAME = None\n",
    "HTML_FILE_NAME = None\n",
    "\n",
    "if G.number_of_nodes() < 10:\n",
    "    PICKLE_FILE_NAME = \"patients_graph_max_10_nodes.gpickle\"\n",
    "    HTML_FILE_NAME = \"pyvis_graph_max_10_nodes.html\"\n",
    "elif G.number_of_nodes() < 50:\n",
    "    PICKLE_FILE_NAME = \"patients_graph_max_50_nodes.gpickle\"\n",
    "    HTML_FILE_NAME = \"pyvis_graph_max_50_nodes.html\"\n",
    "elif G.number_of_nodes() < 100:\n",
    "    PICKLE_FILE_NAME = \"patients_graph_max_100_nodes.gpickle\"\n",
    "    HTML_FILE_NAME = \"pyvis_graph_max_100_nodes.html\"\n",
    "elif G.number_of_nodes() < 1000:\n",
    "    PICKLE_FILE_NAME = \"patients_graph_max_1000_nodes.gpickle\"\n",
    "    HTML_FILE_NAME = \"pyvis_graph_max_1000_nodes.html\"\n",
    "elif G.number_of_nodes() < 10000:\n",
    "    PICKLE_FILE_NAME = \"patients_graph_max_10000_nodes.gpickle\"\n",
    "    HTML_FILE_NAME = \"pyvis_graph_max_10000_nodes.html\"\n",
    "else:\n",
    "    PICKLE_FILE_NAME = \"patients_graph_max_46000_nodes.gpickle\"\n",
    "    HTML_FILE_NAME = \"pyvis_graph_max_46000_nodes.html\""
   ]
  },
  {
   "cell_type": "markdown",
   "id": "07bae219",
   "metadata": {},
   "source": [
    "# Pyvis Graph"
   ]
  },
  {
   "cell_type": "code",
   "execution_count": 12,
   "id": "71915f9b",
   "metadata": {},
   "outputs": [
    {
     "name": "stdout",
     "output_type": "stream",
     "text": [
      "created pyvis network\n",
      "added nx graph to pyvis network\n",
      "file name: pyvis_graph_max_10_nodes.html\n",
      "saved pyvis graph to file\n"
     ]
    }
   ],
   "source": [
    "# use pyvis to draw the graph\n",
    "from pyvis.network import Network\n",
    "\n",
    "nt = Network(height=\"1200px\", width=\"100%\", notebook=False, directed=False, cdn_resources=\"remote\")\n",
    "\n",
    "print(\"created pyvis network\")\n",
    "nt.from_nx(G)\n",
    "\n",
    "# add node attributes to the pyvis network\n",
    "for node in nt.nodes:\n",
    "    node['title'] = f\"Patient ID: {node['id']}\\nGender: {node['gender']}\\nAge Bucket: {node['age_bucket']}\"\n",
    "    node['label'] = f\"{node['id']}\"\n",
    "    node['font'] = {'size': 5}\n",
    "\n",
    "# add edge attributes to the pyvis network\n",
    "for edge in nt.edges:\n",
    "    edge['title'] = f\"ICD9 Code: {edge['icd9']}\"\n",
    "    edge['label'] = f\"{edge['short_title']}\"\n",
    "    # set font size to 5\n",
    "    edge['font'] = {'size': 5}\n",
    "\n",
    "print(\"added nx graph to pyvis network\")\n",
    "print(f\"file name: {HTML_FILE_NAME}\")\n",
    "nt.toggle_physics(False)\n",
    "nt.show_buttons()\n",
    "# nt.generate_html(HTML_FILE_NAME)\n",
    "nt.save_graph(HTML_FILE_NAME)\n",
    "# nt.show(HTML_FILE_NAME)\n",
    "print(\"saved pyvis graph to file\")\n"
   ]
  },
  {
   "cell_type": "markdown",
   "id": "8cb89d2a",
   "metadata": {},
   "source": [
    "# Save Graph to Disk"
   ]
  },
  {
   "cell_type": "markdown",
   "id": "19d072a4",
   "metadata": {},
   "source": [
    "## graph ml"
   ]
  },
  {
   "cell_type": "code",
   "execution_count": null,
   "id": "a6a53865",
   "metadata": {},
   "outputs": [],
   "source": [
    "# nx.write_graphml(G, \"D:\\\\Repos\\\\ut-health\\\\assign-8-high-risk-proj\\\\mimic3_graph.graphml\")\n",
    "# print(\"Graph saved to file\")\n"
   ]
  },
  {
   "cell_type": "markdown",
   "id": "17a6f1a1",
   "metadata": {},
   "source": [
    "## pickle"
   ]
  },
  {
   "cell_type": "code",
   "execution_count": null,
   "id": "3c45b8a8",
   "metadata": {},
   "outputs": [],
   "source": [
    "import pickle\n",
    "\n",
    "# Save the graph to a pickle file\n",
    "with open(f\"D:\\\\Repos\\\\ut-health\\\\assign-8-high-risk-proj\\\\{PICKLE_FILE_NAME}\", \"wb\") as f:\n",
    "    pickle.dump(G, f)\n",
    "    print(\"Graph saved to pickle file\")\n"
   ]
  },
  {
   "cell_type": "code",
   "execution_count": 14,
   "id": "7e28a41b",
   "metadata": {},
   "outputs": [
    {
     "data": {
      "text/html": [
       "<div>\n",
       "<style scoped>\n",
       "    .dataframe tbody tr th:only-of-type {\n",
       "        vertical-align: middle;\n",
       "    }\n",
       "\n",
       "    .dataframe tbody tr th {\n",
       "        vertical-align: top;\n",
       "    }\n",
       "\n",
       "    .dataframe thead th {\n",
       "        text-align: right;\n",
       "    }\n",
       "</style>\n",
       "<table border=\"1\" class=\"dataframe\">\n",
       "  <thead>\n",
       "    <tr style=\"text-align: right;\">\n",
       "      <th></th>\n",
       "      <th>ROW_ID</th>\n",
       "      <th>SUBJECT_ID</th>\n",
       "      <th>HADM_ID</th>\n",
       "      <th>ADMITTIME</th>\n",
       "      <th>DISCHTIME</th>\n",
       "      <th>DEATHTIME</th>\n",
       "      <th>ADMISSION_TYPE</th>\n",
       "      <th>ADMISSION_LOCATION</th>\n",
       "      <th>DISCHARGE_LOCATION</th>\n",
       "      <th>INSURANCE</th>\n",
       "      <th>LANGUAGE</th>\n",
       "      <th>RELIGION</th>\n",
       "      <th>MARITAL_STATUS</th>\n",
       "      <th>ETHNICITY</th>\n",
       "      <th>EDREGTIME</th>\n",
       "      <th>EDOUTTIME</th>\n",
       "      <th>DIAGNOSIS</th>\n",
       "      <th>HOSPITAL_EXPIRE_FLAG</th>\n",
       "      <th>HAS_CHARTEVENTS_DATA</th>\n",
       "    </tr>\n",
       "  </thead>\n",
       "  <tbody>\n",
       "    <tr>\n",
       "      <th>0</th>\n",
       "      <td>21</td>\n",
       "      <td>22</td>\n",
       "      <td>165315</td>\n",
       "      <td>2196-04-09 12:26:00</td>\n",
       "      <td>2196-04-10 15:54:00</td>\n",
       "      <td>None</td>\n",
       "      <td>EMERGENCY</td>\n",
       "      <td>EMERGENCY ROOM ADMIT</td>\n",
       "      <td>DISC-TRAN CANCER/CHLDRN H</td>\n",
       "      <td>Private</td>\n",
       "      <td>None</td>\n",
       "      <td>UNOBTAINABLE</td>\n",
       "      <td>MARRIED</td>\n",
       "      <td>WHITE</td>\n",
       "      <td>2196-04-09 10:06:00</td>\n",
       "      <td>2196-04-09 13:24:00</td>\n",
       "      <td>BENZODIAZEPINE OVERDOSE</td>\n",
       "      <td>0</td>\n",
       "      <td>1</td>\n",
       "    </tr>\n",
       "  </tbody>\n",
       "</table>\n",
       "</div>"
      ],
      "text/plain": [
       "   ROW_ID  SUBJECT_ID  HADM_ID            ADMITTIME            DISCHTIME  \\\n",
       "0      21          22   165315  2196-04-09 12:26:00  2196-04-10 15:54:00   \n",
       "\n",
       "  DEATHTIME ADMISSION_TYPE    ADMISSION_LOCATION         DISCHARGE_LOCATION  \\\n",
       "0      None      EMERGENCY  EMERGENCY ROOM ADMIT  DISC-TRAN CANCER/CHLDRN H   \n",
       "\n",
       "  INSURANCE LANGUAGE      RELIGION MARITAL_STATUS ETHNICITY  \\\n",
       "0   Private     None  UNOBTAINABLE        MARRIED     WHITE   \n",
       "\n",
       "             EDREGTIME            EDOUTTIME                DIAGNOSIS  \\\n",
       "0  2196-04-09 10:06:00  2196-04-09 13:24:00  BENZODIAZEPINE OVERDOSE   \n",
       "\n",
       "   HOSPITAL_EXPIRE_FLAG  HAS_CHARTEVENTS_DATA  \n",
       "0                     0                     1  "
      ]
     },
     "execution_count": 14,
     "metadata": {},
     "output_type": "execute_result"
    }
   ],
   "source": [
    "admissions_df.head(1)"
   ]
  },
  {
   "cell_type": "code",
   "execution_count": 16,
   "id": "1589058e",
   "metadata": {},
   "outputs": [
    {
     "data": {
      "text/html": [
       "<div>\n",
       "<style scoped>\n",
       "    .dataframe tbody tr th:only-of-type {\n",
       "        vertical-align: middle;\n",
       "    }\n",
       "\n",
       "    .dataframe tbody tr th {\n",
       "        vertical-align: top;\n",
       "    }\n",
       "\n",
       "    .dataframe thead th {\n",
       "        text-align: right;\n",
       "    }\n",
       "</style>\n",
       "<table border=\"1\" class=\"dataframe\">\n",
       "  <thead>\n",
       "    <tr style=\"text-align: right;\">\n",
       "      <th></th>\n",
       "      <th>ROW_ID</th>\n",
       "      <th>SUBJECT_ID</th>\n",
       "      <th>HADM_ID</th>\n",
       "      <th>SEQ_NUM</th>\n",
       "      <th>ICD9_CODE</th>\n",
       "    </tr>\n",
       "  </thead>\n",
       "  <tbody>\n",
       "    <tr>\n",
       "      <th>58594</th>\n",
       "      <td>45593</td>\n",
       "      <td>4074</td>\n",
       "      <td>137421</td>\n",
       "      <td>1.0</td>\n",
       "      <td>0389</td>\n",
       "    </tr>\n",
       "  </tbody>\n",
       "</table>\n",
       "</div>"
      ],
      "text/plain": [
       "       ROW_ID  SUBJECT_ID  HADM_ID  SEQ_NUM ICD9_CODE\n",
       "58594   45593        4074   137421      1.0      0389"
      ]
     },
     "execution_count": 16,
     "metadata": {},
     "output_type": "execute_result"
    }
   ],
   "source": [
    "diagnoses_icd_df.head(1)"
   ]
  },
  {
   "cell_type": "code",
   "execution_count": 15,
   "id": "78543b62",
   "metadata": {},
   "outputs": [
    {
     "data": {
      "text/html": [
       "<div>\n",
       "<style scoped>\n",
       "    .dataframe tbody tr th:only-of-type {\n",
       "        vertical-align: middle;\n",
       "    }\n",
       "\n",
       "    .dataframe tbody tr th {\n",
       "        vertical-align: top;\n",
       "    }\n",
       "\n",
       "    .dataframe thead th {\n",
       "        text-align: right;\n",
       "    }\n",
       "</style>\n",
       "<table border=\"1\" class=\"dataframe\">\n",
       "  <thead>\n",
       "    <tr style=\"text-align: right;\">\n",
       "      <th></th>\n",
       "      <th>ROW_ID</th>\n",
       "      <th>SUBJECT_ID</th>\n",
       "      <th>HADM_ID</th>\n",
       "      <th>SEQ_NUM</th>\n",
       "      <th>ICD9_CODE</th>\n",
       "    </tr>\n",
       "  </thead>\n",
       "  <tbody>\n",
       "    <tr>\n",
       "      <th>517025</th>\n",
       "      <td>529245</td>\n",
       "      <td>72753</td>\n",
       "      <td>144029</td>\n",
       "      <td>1.0</td>\n",
       "      <td>4241</td>\n",
       "    </tr>\n",
       "    <tr>\n",
       "      <th>517026</th>\n",
       "      <td>529246</td>\n",
       "      <td>72753</td>\n",
       "      <td>144029</td>\n",
       "      <td>2.0</td>\n",
       "      <td>42833</td>\n",
       "    </tr>\n",
       "    <tr>\n",
       "      <th>517027</th>\n",
       "      <td>529247</td>\n",
       "      <td>72753</td>\n",
       "      <td>144029</td>\n",
       "      <td>3.0</td>\n",
       "      <td>4280</td>\n",
       "    </tr>\n",
       "    <tr>\n",
       "      <th>517028</th>\n",
       "      <td>529248</td>\n",
       "      <td>72753</td>\n",
       "      <td>144029</td>\n",
       "      <td>4.0</td>\n",
       "      <td>42731</td>\n",
       "    </tr>\n",
       "    <tr>\n",
       "      <th>517029</th>\n",
       "      <td>529249</td>\n",
       "      <td>72753</td>\n",
       "      <td>144029</td>\n",
       "      <td>5.0</td>\n",
       "      <td>25000</td>\n",
       "    </tr>\n",
       "    <tr>\n",
       "      <th>517030</th>\n",
       "      <td>529250</td>\n",
       "      <td>72753</td>\n",
       "      <td>144029</td>\n",
       "      <td>6.0</td>\n",
       "      <td>V1005</td>\n",
       "    </tr>\n",
       "    <tr>\n",
       "      <th>517031</th>\n",
       "      <td>529251</td>\n",
       "      <td>72753</td>\n",
       "      <td>144029</td>\n",
       "      <td>7.0</td>\n",
       "      <td>V1046</td>\n",
       "    </tr>\n",
       "    <tr>\n",
       "      <th>517032</th>\n",
       "      <td>529252</td>\n",
       "      <td>72753</td>\n",
       "      <td>144029</td>\n",
       "      <td>8.0</td>\n",
       "      <td>29690</td>\n",
       "    </tr>\n",
       "    <tr>\n",
       "      <th>517033</th>\n",
       "      <td>529253</td>\n",
       "      <td>72753</td>\n",
       "      <td>144029</td>\n",
       "      <td>9.0</td>\n",
       "      <td>52100</td>\n",
       "    </tr>\n",
       "    <tr>\n",
       "      <th>517034</th>\n",
       "      <td>529254</td>\n",
       "      <td>72753</td>\n",
       "      <td>144029</td>\n",
       "      <td>10.0</td>\n",
       "      <td>52340</td>\n",
       "    </tr>\n",
       "  </tbody>\n",
       "</table>\n",
       "</div>"
      ],
      "text/plain": [
       "        ROW_ID  SUBJECT_ID  HADM_ID  SEQ_NUM ICD9_CODE\n",
       "517025  529245       72753   144029      1.0      4241\n",
       "517026  529246       72753   144029      2.0     42833\n",
       "517027  529247       72753   144029      3.0      4280\n",
       "517028  529248       72753   144029      4.0     42731\n",
       "517029  529249       72753   144029      5.0     25000\n",
       "517030  529250       72753   144029      6.0     V1005\n",
       "517031  529251       72753   144029      7.0     V1046\n",
       "517032  529252       72753   144029      8.0     29690\n",
       "517033  529253       72753   144029      9.0     52100\n",
       "517034  529254       72753   144029     10.0     52340"
      ]
     },
     "execution_count": 15,
     "metadata": {},
     "output_type": "execute_result"
    }
   ],
   "source": [
    "# find all diagnosis codes for a patient with subject_id 72753\n",
    "\n",
    "# look up diagnosis codes for a patient with subject_id 72753 in diagnoses_icd_df\n",
    "diagnoses_icd_df[diagnoses_icd_df['SUBJECT_ID'] == 72753].head(10)\n",
    "\n"
   ]
  },
  {
   "cell_type": "markdown",
   "id": "eac8bc5b",
   "metadata": {},
   "source": [
    "# Old"
   ]
  },
  {
   "cell_type": "code",
   "execution_count": null,
   "id": "b1dc5cea",
   "metadata": {},
   "outputs": [],
   "source": [
    "pt_list = [\"a\", \"b\", \"c\"]\n",
    "\n",
    "# create unique combos of patients\n",
    "combos = [(pt_list[i], pt_list[j]) for i in range(len(pt_list)) for j in range(i + 1, len(pt_list))]\n",
    "print(combos)\n"
   ]
  },
  {
   "cell_type": "code",
   "execution_count": null,
   "id": "dd9d2457",
   "metadata": {},
   "outputs": [],
   "source": [
    "# load prescription data\n",
    "conn = sqlite3.connect(\"D:\\\\Repos\\\\ut-health\\\\mimic-iii-gz\\\\mimic3.db\")\n",
    "\n",
    "query = \"SELECT * FROM admissions\"\n",
    "admissions_df = pd.read_sql_query(query, conn)\n",
    "\n",
    "query = \"SELECT * FROM d_labitems\"\n",
    "d_labitems_df = pd.read_sql_query(query, conn)\n",
    "\n",
    "query = \"SELECT * FROM labevents\"\n",
    "labevents_df = pd.read_sql_query(query, conn)\n",
    "\n",
    "query = \"SELECT * FROM prescriptions\"\n",
    "prescriptions_df = pd.read_sql_query(query, conn)\n",
    "\n",
    "query = \"SELECT * FROM d_items\"\n",
    "d_items_df = pd.read_sql_query(query, conn)\n",
    "\n",
    "conn.close()\n"
   ]
  },
  {
   "cell_type": "code",
   "execution_count": null,
   "id": "bb15ff47",
   "metadata": {},
   "outputs": [],
   "source": [
    "\n",
    "# Create edges based on shared diagnoses\n",
    "diagnoses_by_patient = diagnoses_icd_df.groupby('SUBJECT_ID')['ICD9_CODE'].apply(set).to_dict()\n",
    "patient_ids = list(diagnoses_by_patient.keys())\n",
    "\n",
    "print(f\"Number of patients: {len(patient_ids)}\")\n",
    "\n",
    "for i in range(len(patient_ids)):\n",
    "\n",
    "    if i % 1000 == 0:\n",
    "        print(f\"Processing {i} patients, at {i/len(patient_ids) * 100:.2f}%\")\n",
    "\n",
    "    # compare the current patient with all subsequent patients to avoid duplicates\n",
    "    # and to ensure that each pair is only considered once. Order of magnitude is O(n^2)\n",
    "    for j in range(i + 1, len(patient_ids)):\n",
    "\n",
    "        p1, p2 = patient_ids[i], patient_ids[j]\n",
    "        if diagnoses_by_patient[p1].intersection(diagnoses_by_patient[p2]):\n",
    "            G.add_edge(p1, p2, edge_type='diagnosis')\n",
    "\n"
   ]
  },
  {
   "cell_type": "code",
   "execution_count": null,
   "id": "cd27ed31",
   "metadata": {},
   "outputs": [],
   "source": [
    "# print some stats about the graph\n",
    "print(f\"Number of nodes: {G.number_of_nodes()}\")\n",
    "print(f\"Number of edges: {G.number_of_edges()}\")\n",
    "print(f\"Number of connected components: {nx.number_connected_components(G)}\")"
   ]
  },
  {
   "cell_type": "code",
   "execution_count": null,
   "id": "738fd72d",
   "metadata": {},
   "outputs": [],
   "source": [
    "# persist the graph to a file\n",
    "# nx.readwrite.gpickle.write_gpickle(G, \"D:\\\\Repos\\\\ut-health\\\\mimic-iii-gz\\\\mimic3_graph.gpickle\")\n",
    "# nx.readwrite.graphml.write_graphml(G, \"D:\\\\Repos\\\\ut-health\\\\mimic-iii-gz\\\\mimic3_graph.graphml\")\n",
    "nx.write_graphml(G, \"D:\\\\Repos\\\\ut-health\\\\mimic-iii-gz\\\\mimic3_graph.graphml\")\n",
    "print(\"Graph saved to file\")\n"
   ]
  },
  {
   "cell_type": "code",
   "execution_count": null,
   "id": "9e331a77",
   "metadata": {},
   "outputs": [],
   "source": [
    "\n",
    "\n",
    "\n",
    "# (Example placeholder) Create edges based on shared procedures: \n",
    "# procedures_by_patient = procedures_icd_df.groupby('SUBJECT_ID')['ICD_CODE'].apply(set).to_dict()\n",
    "# for i in range(len(patient_ids)):\n",
    "#     for j in range(i + 1, len(patient_ids)):\n",
    "#         p1, p2 = patient_ids[i], patient_ids[j]\n",
    "#         if procedures_by_patient[p1].intersection(procedures_by_patient[p2]):\n",
    "#             G.add_edge(p1, p2, edge_type='procedure')\n"
   ]
  },
  {
   "cell_type": "code",
   "execution_count": null,
   "id": "364c3727",
   "metadata": {},
   "outputs": [],
   "source": [
    "\n",
    "# Visualize the graph\n",
    "plt.figure(figsize=(8, 6))\n",
    "nx.draw(G, with_labels=True, node_size=500)\n",
    "plt.show()"
   ]
  },
  {
   "cell_type": "code",
   "execution_count": null,
   "id": "1964f582",
   "metadata": {},
   "outputs": [],
   "source": [
    "\n",
    "# # capture time taken for the loop\n",
    "# import time\n",
    "# start_time = time.time()\n",
    "\n",
    "# ii = 0\n",
    "\n",
    "# # add diagnosis/icd9 edge between patients\n",
    "# for icd9_code, patients in diagnoses_to_patients.items():\n",
    "\n",
    "#     elapsed_time = time.time() - start_time\n",
    "\n",
    "#     # convert patients set to list\n",
    "#     patients = list(patients)\n",
    "\n",
    "#     if len(patients) < 2:\n",
    "#         continue\n",
    "\n",
    "#     # Add an edge between all patients with the same ICD9 code\n",
    "#     for i in range(len(patients)):\n",
    "#         for j in range(i + 1, len(patients)):\n",
    "#             G.add_edge(patients[i], patients[j], icd9_code=icd9_code)\n",
    "\n",
    "#             ii += 1\n",
    "#             # print(\"added edge between patients: \", patients[i], patients[j], \" with icd9 code: \", icd9_code)\n",
    "#             if ii % 4000 == 0:\n",
    "#                 print(f\"Added {ii} icd9 edges, elapsed time: {elapsed_time:.2f} seconds\")\n"
   ]
  }
 ],
 "metadata": {
  "kernelspec": {
   "display_name": "Python 3",
   "language": "python",
   "name": "python3"
  },
  "language_info": {
   "codemirror_mode": {
    "name": "ipython",
    "version": 3
   },
   "file_extension": ".py",
   "mimetype": "text/x-python",
   "name": "python",
   "nbconvert_exporter": "python",
   "pygments_lexer": "ipython3",
   "version": "3.12.10"
  }
 },
 "nbformat": 4,
 "nbformat_minor": 5
}
