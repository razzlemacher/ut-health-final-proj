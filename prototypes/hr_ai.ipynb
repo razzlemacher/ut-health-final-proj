{
  "cells": [
    {
      "cell_type": "code",
      "execution_count": 73,
      "metadata": {
        "colab": {
          "base_uri": "https://localhost:8080/"
        },
        "id": "FTbEsOcD7-Xk",
        "outputId": "dcdce825-7968-487c-a9c1-b56f65d04cfc"
      },
      "outputs": [
        {
          "name": "stdout",
          "output_type": "stream",
          "text": [
            "Requirement already satisfied: torch in /usr/local/lib/python3.11/dist-packages (2.6.0+cu124)\n",
            "Requirement already satisfied: torch-geometric in /usr/local/lib/python3.11/dist-packages (2.6.1)\n",
            "Requirement already satisfied: scikit-learn in /usr/local/lib/python3.11/dist-packages (1.6.1)\n",
            "Requirement already satisfied: filelock in /usr/local/lib/python3.11/dist-packages (from torch) (3.18.0)\n",
            "Requirement already satisfied: typing-extensions>=4.10.0 in /usr/local/lib/python3.11/dist-packages (from torch) (4.13.2)\n",
            "Requirement already satisfied: networkx in /usr/local/lib/python3.11/dist-packages (from torch) (3.4.2)\n",
            "Requirement already satisfied: jinja2 in /usr/local/lib/python3.11/dist-packages (from torch) (3.1.6)\n",
            "Requirement already satisfied: fsspec in /usr/local/lib/python3.11/dist-packages (from torch) (2025.3.2)\n",
            "Requirement already satisfied: nvidia-cuda-nvrtc-cu12==12.4.127 in /usr/local/lib/python3.11/dist-packages (from torch) (12.4.127)\n",
            "Requirement already satisfied: nvidia-cuda-runtime-cu12==12.4.127 in /usr/local/lib/python3.11/dist-packages (from torch) (12.4.127)\n",
            "Requirement already satisfied: nvidia-cuda-cupti-cu12==12.4.127 in /usr/local/lib/python3.11/dist-packages (from torch) (12.4.127)\n",
            "Requirement already satisfied: nvidia-cudnn-cu12==9.1.0.70 in /usr/local/lib/python3.11/dist-packages (from torch) (9.1.0.70)\n",
            "Requirement already satisfied: nvidia-cublas-cu12==12.4.5.8 in /usr/local/lib/python3.11/dist-packages (from torch) (12.4.5.8)\n",
            "Requirement already satisfied: nvidia-cufft-cu12==11.2.1.3 in /usr/local/lib/python3.11/dist-packages (from torch) (11.2.1.3)\n",
            "Requirement already satisfied: nvidia-curand-cu12==10.3.5.147 in /usr/local/lib/python3.11/dist-packages (from torch) (10.3.5.147)\n",
            "Requirement already satisfied: nvidia-cusolver-cu12==11.6.1.9 in /usr/local/lib/python3.11/dist-packages (from torch) (11.6.1.9)\n",
            "Requirement already satisfied: nvidia-cusparse-cu12==12.3.1.170 in /usr/local/lib/python3.11/dist-packages (from torch) (12.3.1.170)\n",
            "Requirement already satisfied: nvidia-cusparselt-cu12==0.6.2 in /usr/local/lib/python3.11/dist-packages (from torch) (0.6.2)\n",
            "Requirement already satisfied: nvidia-nccl-cu12==2.21.5 in /usr/local/lib/python3.11/dist-packages (from torch) (2.21.5)\n",
            "Requirement already satisfied: nvidia-nvtx-cu12==12.4.127 in /usr/local/lib/python3.11/dist-packages (from torch) (12.4.127)\n",
            "Requirement already satisfied: nvidia-nvjitlink-cu12==12.4.127 in /usr/local/lib/python3.11/dist-packages (from torch) (12.4.127)\n",
            "Requirement already satisfied: triton==3.2.0 in /usr/local/lib/python3.11/dist-packages (from torch) (3.2.0)\n",
            "Requirement already satisfied: sympy==1.13.1 in /usr/local/lib/python3.11/dist-packages (from torch) (1.13.1)\n",
            "Requirement already satisfied: mpmath<1.4,>=1.1.0 in /usr/local/lib/python3.11/dist-packages (from sympy==1.13.1->torch) (1.3.0)\n",
            "Requirement already satisfied: aiohttp in /usr/local/lib/python3.11/dist-packages (from torch-geometric) (3.11.15)\n",
            "Requirement already satisfied: numpy in /usr/local/lib/python3.11/dist-packages (from torch-geometric) (2.0.2)\n",
            "Requirement already satisfied: psutil>=5.8.0 in /usr/local/lib/python3.11/dist-packages (from torch-geometric) (5.9.5)\n",
            "Requirement already satisfied: pyparsing in /usr/local/lib/python3.11/dist-packages (from torch-geometric) (3.2.3)\n",
            "Requirement already satisfied: requests in /usr/local/lib/python3.11/dist-packages (from torch-geometric) (2.32.3)\n",
            "Requirement already satisfied: tqdm in /usr/local/lib/python3.11/dist-packages (from torch-geometric) (4.67.1)\n",
            "Requirement already satisfied: scipy>=1.6.0 in /usr/local/lib/python3.11/dist-packages (from scikit-learn) (1.14.1)\n",
            "Requirement already satisfied: joblib>=1.2.0 in /usr/local/lib/python3.11/dist-packages (from scikit-learn) (1.4.2)\n",
            "Requirement already satisfied: threadpoolctl>=3.1.0 in /usr/local/lib/python3.11/dist-packages (from scikit-learn) (3.6.0)\n",
            "Requirement already satisfied: aiohappyeyeballs>=2.3.0 in /usr/local/lib/python3.11/dist-packages (from aiohttp->torch-geometric) (2.6.1)\n",
            "Requirement already satisfied: aiosignal>=1.1.2 in /usr/local/lib/python3.11/dist-packages (from aiohttp->torch-geometric) (1.3.2)\n",
            "Requirement already satisfied: attrs>=17.3.0 in /usr/local/lib/python3.11/dist-packages (from aiohttp->torch-geometric) (25.3.0)\n",
            "Requirement already satisfied: frozenlist>=1.1.1 in /usr/local/lib/python3.11/dist-packages (from aiohttp->torch-geometric) (1.5.0)\n",
            "Requirement already satisfied: multidict<7.0,>=4.5 in /usr/local/lib/python3.11/dist-packages (from aiohttp->torch-geometric) (6.4.3)\n",
            "Requirement already satisfied: propcache>=0.2.0 in /usr/local/lib/python3.11/dist-packages (from aiohttp->torch-geometric) (0.3.1)\n",
            "Requirement already satisfied: yarl<2.0,>=1.17.0 in /usr/local/lib/python3.11/dist-packages (from aiohttp->torch-geometric) (1.19.0)\n",
            "Requirement already satisfied: MarkupSafe>=2.0 in /usr/local/lib/python3.11/dist-packages (from jinja2->torch) (3.0.2)\n",
            "Requirement already satisfied: charset-normalizer<4,>=2 in /usr/local/lib/python3.11/dist-packages (from requests->torch-geometric) (3.4.1)\n",
            "Requirement already satisfied: idna<4,>=2.5 in /usr/local/lib/python3.11/dist-packages (from requests->torch-geometric) (3.10)\n",
            "Requirement already satisfied: urllib3<3,>=1.21.1 in /usr/local/lib/python3.11/dist-packages (from requests->torch-geometric) (2.3.0)\n",
            "Requirement already satisfied: certifi>=2017.4.17 in /usr/local/lib/python3.11/dist-packages (from requests->torch-geometric) (2025.1.31)\n"
          ]
        }
      ],
      "source": [
        "# imports\n",
        "!pip install torch torch-geometric scikit-learn\n"
      ]
    },
    {
      "cell_type": "code",
      "execution_count": 2,
      "metadata": {
        "colab": {
          "base_uri": "https://localhost:8080/"
        },
        "id": "vVVMyM0gTzHW",
        "outputId": "e1bc70e1-45c6-49ef-fca0-af061a1760cf"
      },
      "outputs": [
        {
          "name": "stdout",
          "output_type": "stream",
          "text": [
            "Mounted at /content/drive\n"
          ]
        }
      ],
      "source": [
        "from google.colab import drive\n",
        "drive.mount('/content/drive')"
      ]
    },
    {
      "cell_type": "code",
      "execution_count": 74,
      "metadata": {
        "colab": {
          "base_uri": "https://localhost:8080/"
        },
        "id": "7r2f3HduTy2v",
        "outputId": "7922b22a-1296-4bf7-fcaf-f056142667eb"
      },
      "outputs": [
        {
          "name": "stdout",
          "output_type": "stream",
          "text": [
            "01-create-network-graph_2.ipynb\n",
            "01-create-network-graph.ipynb\n",
            "hr_ai.ipynb\n",
            "patients_graph_max_1000_nodes.gpickle\n",
            "patients_graph_max_1000_nodes_similar.gpickle\n",
            "patients_graph_max_10_nodes.gpickle\n",
            "patients_graph_max_10_nodes_similar.gpickle\n"
          ]
        }
      ],
      "source": [
        "%ls"
      ]
    },
    {
      "cell_type": "code",
      "execution_count": 4,
      "metadata": {
        "colab": {
          "base_uri": "https://localhost:8080/"
        },
        "id": "iPRqBacYTyzU",
        "outputId": "aef7d682-8fb4-4111-fc4c-af4f17adcf55"
      },
      "outputs": [
        {
          "name": "stdout",
          "output_type": "stream",
          "text": [
            "/content/drive/MyDrive/AI_in_Healthcare/high_risk_project/2_approach\n"
          ]
        }
      ],
      "source": [
        "%cd drive/MyDrive/AI_in_Healthcare/high_risk_project/2_approach/"
      ]
    },
    {
      "cell_type": "code",
      "execution_count": 44,
      "metadata": {
        "colab": {
          "base_uri": "https://localhost:8080/"
        },
        "id": "-5gLl5H3TytH",
        "outputId": "b2c7d454-7346-4275-ad3b-62ed6b707c70"
      },
      "outputs": [
        {
          "name": "stdout",
          "output_type": "stream",
          "text": [
            "01-create-network-graph_2.ipynb\n",
            "01-create-network-graph.ipynb\n",
            "hr_ai.ipynb\n",
            "patients_graph_max_1000_nodes.gpickle\n",
            "patients_graph_max_1000_nodes_similar.gpickle\n",
            "patients_graph_max_10_nodes.gpickle\n",
            "patients_graph_max_10_nodes_similar.gpickle\n"
          ]
        }
      ],
      "source": [
        "%ls"
      ]
    },
    {
      "cell_type": "markdown",
      "metadata": {
        "id": "o2fLc5TMU-Hs"
      },
      "source": [
        "# working pickle file"
      ]
    },
    {
      "cell_type": "code",
      "execution_count": 6,
      "metadata": {
        "id": "7sVjHaJAVBIj"
      },
      "outputs": [],
      "source": [
        "# PICKLE_FILE_NAME = 'patients_graph_max_10_nodes.gpickle'\n",
        "# PICKLE_FILE_NAME_SIMILARITY = 'patients_graph_max_10_nodes_similar.gpickle'"
      ]
    },
    {
      "cell_type": "code",
      "execution_count": 75,
      "metadata": {
        "id": "RvaX1IZ4Ncrz"
      },
      "outputs": [],
      "source": [
        "PICKLE_FILE_NAME = 'patients_graph_max_1000_nodes.gpickle'\n",
        "PICKLE_FILE_NAME_SIMILARITY = 'patients_graph_max_1000_nodes_similar.gpickle'"
      ]
    },
    {
      "cell_type": "markdown",
      "metadata": {
        "id": "mpRGIVjyTuPW"
      },
      "source": [
        "#Load Graph Netwprk from Pickle"
      ]
    },
    {
      "cell_type": "code",
      "execution_count": 76,
      "metadata": {
        "colab": {
          "base_uri": "https://localhost:8080/"
        },
        "id": "oH5aG8gHTtkA",
        "outputId": "4de1cf2b-4849-4d25-8541-de9ffa71c46f"
      },
      "outputs": [
        {
          "name": "stdout",
          "output_type": "stream",
          "text": [
            "Graph loaded from pickle file\n",
            "Number of nodes: 465\n",
            "Number of edges: 37361\n",
            " \n",
            "Graph loaded from pickle file\n",
            "Number of nodes: 465\n",
            "Number of edges: 1182\n"
          ]
        }
      ],
      "source": [
        "import pickle\n",
        "\n",
        "# Load the graph from a pickle file\n",
        "with open(f\"{PICKLE_FILE_NAME}\", \"rb\") as f:\n",
        "    G = pickle.load(f)\n",
        "    print(\"Graph loaded from pickle file\")\n",
        "\n",
        "print(f\"Number of nodes: {G.number_of_nodes()}\")\n",
        "print(f\"Number of edges: {G.number_of_edges()}\")\n",
        "\n",
        "print(\" \")\n",
        "\n",
        "# Load the similarity graph from a pickle file\n",
        "with open(f\"{PICKLE_FILE_NAME_SIMILARITY}\", \"rb\") as f:\n",
        "    G_sim = pickle.load(f)\n",
        "    print(\"Graph loaded from pickle file\")\n",
        "\n",
        "print(f\"Number of nodes: {G_sim.number_of_nodes()}\")\n",
        "print(f\"Number of edges: {G_sim.number_of_edges()}\")"
      ]
    },
    {
      "cell_type": "markdown",
      "metadata": {
        "id": "9LZBRdiXVXQx"
      },
      "source": [
        "#Debug"
      ]
    },
    {
      "cell_type": "markdown",
      "metadata": {
        "id": "oOojLoFaVdIP"
      },
      "source": [
        "#View Nodes: Connected Network X Graph"
      ]
    },
    {
      "cell_type": "code",
      "execution_count": 77,
      "metadata": {
        "colab": {
          "base_uri": "https://localhost:8080/"
        },
        "id": "QZDf3X46VfWn",
        "outputId": "d2bf2634-7ba4-4031-b56a-23275c63fd27"
      },
      "outputs": [
        {
          "name": "stdout",
          "output_type": "stream",
          "text": [
            "Each node has the patient subject id, followed with a dictionary\n",
            "Nodes in the networkx graph:\n",
            "\t(4074, {'gender': 'M', 'age': '2121-08-01 00:00:00', 'age_bucket': 80, 'hadm_id': 137421, 'size': 10})\n",
            "\t(90889, {'gender': 'M', 'age': '2095-04-29 00:00:00', 'age_bucket': 55, 'hadm_id': 168745, 'size': 10})\n",
            "\t(72753, {'gender': 'M', 'age': '2042-06-01 00:00:00', 'age_bucket': 85, 'hadm_id': 144029, 'size': 10})\n",
            "\t(64908, {'gender': 'M', 'age': '2108-04-22 00:00:00', 'age_bucket': 75, 'hadm_id': 172851, 'size': 10})\n",
            "\t(70273, {'gender': 'F', 'age': '2090-05-28 00:00:00', 'age_bucket': 75, 'hadm_id': 102912, 'size': 10})\n",
            "\t(92025, {'gender': 'F', 'age': '1842-07-16 00:00:00', 'age_bucket': 95, 'hadm_id': 160456, 'size': 10})\n"
          ]
        }
      ],
      "source": [
        "iter = G.nodes(data=True)\n",
        "count = 0\n",
        "\n",
        "print(\"Each node has the patient subject id, followed with a dictionary\")\n",
        "print(\"Nodes in the networkx graph:\")\n",
        "for node in iter:\n",
        "    # some prints to help understand the structure of the nodes\n",
        "    print(f\"\\t{node}\")\n",
        "    count += 1\n",
        "    if count > 5:\n",
        "        break"
      ]
    },
    {
      "cell_type": "markdown",
      "metadata": {
        "id": "OawXXWewVuJR"
      },
      "source": [
        "#View Edges: Connected Network X Graph"
      ]
    },
    {
      "cell_type": "code",
      "execution_count": 78,
      "metadata": {
        "colab": {
          "base_uri": "https://localhost:8080/"
        },
        "id": "aZYJo13aVfVM",
        "outputId": "f41337bb-556b-4ed6-825c-4d34bd2ef0f4"
      },
      "outputs": [
        {
          "name": "stdout",
          "output_type": "stream",
          "text": [
            "Each edge has the source patient subject id, and the target patient subject id followed with a dictionary\n",
            "Edges in the networkx graph:\n",
            "\t(4074, 50049, {'icd9': '78552', 'short_title': 'Septic shock', 'width': 1})\n",
            "\t(4074, 82433, {'icd9': '78552', 'short_title': 'Septic shock', 'width': 1})\n",
            "\t(4074, 69769, {'icd9': '0389', 'short_title': 'Septicemia NOS', 'width': 1})\n",
            "\t(4074, 22421, {'icd9': '78552', 'short_title': 'Septic shock', 'width': 1})\n",
            "\t(4074, 1687, {'icd9': '78552', 'short_title': 'Septic shock', 'width': 1})\n",
            "\t(4074, 97560, {'icd9': '78552', 'short_title': 'Septic shock', 'width': 1})\n"
          ]
        }
      ],
      "source": [
        "iter = G.edges(data=True)\n",
        "count = 0\n",
        "\n",
        "print(\"Each edge has the source patient subject id, and the target patient subject id followed with a dictionary\")\n",
        "print(\"Edges in the networkx graph:\")\n",
        "for edge in iter:\n",
        "    # some prints to help understand the structure of the edges\n",
        "    print(f\"\\t{edge}\")\n",
        "    count += 1\n",
        "    if count > 5:\n",
        "        break"
      ]
    },
    {
      "cell_type": "markdown",
      "metadata": {
        "id": "tpMheWbxWfce"
      },
      "source": [
        "# View Nodes: Similarity Network X Graph"
      ]
    },
    {
      "cell_type": "code",
      "execution_count": 79,
      "metadata": {
        "colab": {
          "base_uri": "https://localhost:8080/"
        },
        "id": "mBZy4GacVfOj",
        "outputId": "e266bcd1-d560-4b8e-80f3-7e727d435e6a"
      },
      "outputs": [
        {
          "name": "stdout",
          "output_type": "stream",
          "text": [
            "Nodes in the networkx similarity graph:\n",
            "\t(4074, {'similarity': np.float64(0.583), 'size': 10})\n",
            "\t(90889, {'similarity': np.float64(0.447), 'size': 10})\n",
            "\t(72753, {'similarity': np.float64(0.505), 'size': 10})\n",
            "\t(64908, {'similarity': np.float64(0.309), 'size': 10})\n",
            "\t(70273, {'similarity': np.float64(0.303), 'size': 10})\n",
            "\t(92025, {'similarity': np.float64(0.219), 'size': 10})\n"
          ]
        }
      ],
      "source": [
        "iter = G_sim.nodes(data=True)\n",
        "count = 0\n",
        "\n",
        "print(\"Nodes in the networkx similarity graph:\")\n",
        "for node in iter:\n",
        "    # some prints to help understand the structure of the nodes\n",
        "    print(f\"\\t{node}\")\n",
        "    count += 1\n",
        "    if count > 5:\n",
        "        break"
      ]
    },
    {
      "cell_type": "code",
      "execution_count": null,
      "metadata": {
        "id": "BoFBmaayYlGq"
      },
      "outputs": [],
      "source": []
    },
    {
      "cell_type": "markdown",
      "metadata": {
        "id": "F4cGiqHjXWy7"
      },
      "source": [
        "#View Edges: Similarity networkx graph"
      ]
    },
    {
      "cell_type": "code",
      "execution_count": 80,
      "metadata": {
        "colab": {
          "base_uri": "https://localhost:8080/"
        },
        "id": "rzNJBKqtTtdJ",
        "outputId": "3b7edd98-e5c5-4c87-c99a-f8ed6635316a"
      },
      "outputs": [
        {
          "name": "stdout",
          "output_type": "stream",
          "text": [
            "Each edge has the source patient subject id, and the target patient subject id followed with the similarity score between the two patients\n",
            "Edges in the networkx graph:\n",
            "\t(4074, 10139, {'similarity': np.float64(0.583), 'width': 1})\n",
            "\t(4074, 92861, {'similarity': np.float64(0.583), 'width': 1})\n",
            "\t(4074, 21280, {'similarity': np.float64(0.583), 'width': 1})\n",
            "\t(90889, 1753, {'similarity': np.float64(0.535), 'width': 1})\n",
            "\t(90889, 64123, {'similarity': np.float64(0.447), 'width': 1})\n",
            "\t(90889, 85958, {'similarity': np.float64(0.447), 'width': 1})\n"
          ]
        }
      ],
      "source": [
        "iter = G_sim.edges(data=True)\n",
        "count = 0\n",
        "\n",
        "print(\"Each edge has the source patient subject id, and the target patient subject id followed with the similarity score between the two patients\")\n",
        "print(\"Edges in the networkx graph:\")\n",
        "for edge in iter:\n",
        "    # some prints to help understand the structure of the edges\n",
        "    print(f\"\\t{edge}\")\n",
        "    count += 1\n",
        "    if count > 5:\n",
        "        break"
      ]
    },
    {
      "cell_type": "markdown",
      "metadata": {
        "id": "lo-4n9HrXxtZ"
      },
      "source": [
        "# Convert to PyTorch Geometric Data Object"
      ]
    },
    {
      "cell_type": "code",
      "execution_count": 81,
      "metadata": {
        "id": "qQpCckzCTtbB"
      },
      "outputs": [],
      "source": [
        "def get_icd9_list(G):\n",
        "\n",
        "    iter = G.edges(data=True)\n",
        "    count = 0\n",
        "\n",
        "    icd9_set = set()\n",
        "\n",
        "    for edge in iter:\n",
        "\n",
        "        icd9_set.add(edge[2]['icd9'])\n",
        "\n",
        "    # print(icd9_set)\n",
        "    # print(list(icd9_set))\n",
        "    return list(icd9_set)"
      ]
    },
    {
      "cell_type": "code",
      "execution_count": 82,
      "metadata": {
        "id": "3KTI5ei0lOcT"
      },
      "outputs": [],
      "source": [
        "def short_title_list(G):\n",
        "\n",
        "    iter = G.edges(data=True)\n",
        "    count = 0\n",
        "\n",
        "    short_title_set = set()\n",
        "\n",
        "    for edge in iter:\n",
        "\n",
        "        short_title_set.add(edge[2]['short_title'])\n",
        "\n",
        "    # print(icd9_set)\n",
        "    # print(list(icd9_set))\n",
        "    return list(short_title_set)\n"
      ]
    },
    {
      "cell_type": "code",
      "execution_count": 83,
      "metadata": {
        "id": "0bdY6qY8TtWL"
      },
      "outputs": [],
      "source": [
        "icd9_list = get_icd9_list(G)\n",
        "short_title_list = short_title_list(G)"
      ]
    },
    {
      "cell_type": "code",
      "execution_count": 84,
      "metadata": {
        "colab": {
          "base_uri": "https://localhost:8080/"
        },
        "id": "XxSRMDy3nKpA",
        "outputId": "80b3e96e-75af-4e98-b951-0ad8af4268e4"
      },
      "outputs": [
        {
          "data": {
            "text/plain": [
              "['Hyperlipidemia NEC/NOS',\n",
              " 'Ac diastolic hrt failure',\n",
              " 'Kidney transplant status',\n",
              " 'Ulcer other part of foot',\n",
              " 'FB respiratory tree NOS',\n",
              " 'Pulmonary collapse',\n",
              " 'Insomnia NOS',\n",
              " 'Protein-cal malnutr NOS',\n",
              " 'Food/vomit pneumonitis',\n",
              " 'Loc osteoarth NOS-l/leg',\n",
              " 'Sed,hyp,anxiolytc ab-NOS',\n",
              " 'Diabetic retinopathy NOS',\n",
              " 'Pleural effusion NOS',\n",
              " 'Heavy-for-date infan NEC',\n",
              " 'Abnormal glucose NEC',\n",
              " 'AMI NOS, initial',\n",
              " 'Sleep apnea NOS',\n",
              " 'Chr airway obstruct NEC',\n",
              " \"Barrett's esophagus\",\n",
              " 'Spondylos NOS w/o myelop',\n",
              " 'Pulm embol/infarct NEC',\n",
              " 'Benign neoplasm lg bowel',\n",
              " 'Neoplasm related pain',\n",
              " 'Nausea with vomiting',\n",
              " 'Renal dialysis status',\n",
              " 'Umbilical hernia',\n",
              " 'Sec mal neo brain/spine',\n",
              " 'Ocl crtd art wo infrct',\n",
              " 'Chr ischemic hrt dis NEC',\n",
              " 'Abn react-org transplant',\n",
              " 'Arthrodesis status',\n",
              " 'Other postop infection',\n",
              " 'Abn react-cardiac cath',\n",
              " 'Osteoarthros NOS-unspec',\n",
              " 'Fam hx-diabetes mellitus',\n",
              " 'Abn involun movement NEC',\n",
              " 'Late ef-hemplga side NOS',\n",
              " 'Alcohol withdrawal',\n",
              " 'Hx-uterus malignancy NEC',\n",
              " 'Retention urine NOS',\n",
              " 'Spleen disruption-clos',\n",
              " 'Enlargement lymph nodes',\n",
              " 'Preterm NEC 1750-1999g',\n",
              " 'Migrne unsp wo ntrc mgrn',\n",
              " 'Irritable bowel syndrome',\n",
              " 'Unknown',\n",
              " 'Fall on stair/step NEC',\n",
              " 'Toxic encephalopathy',\n",
              " 'Single lb in-hosp w cs',\n",
              " 'BPH w urinary obs/LUTS',\n",
              " 'Other pulmonary insuff',\n",
              " 'Accident in home',\n",
              " 'Hx antineoplastic chemo',\n",
              " 'Poison-drug/medicin NEC',\n",
              " 'NB transitory tachypnea',\n",
              " 'Hx-skin malignancy NEC',\n",
              " 'Surg compl-heart',\n",
              " 'Delirium d/t other cond',\n",
              " 'Lung involv in oth dis',\n",
              " 'Malignant neoplasm NOS',\n",
              " 'Hypocalcemia',\n",
              " 'Secondary malig neo NEC',\n",
              " 'Dvrtclo colon w hmrhg',\n",
              " 'Abdmnal pain generalized',\n",
              " 'Nontox uninodular goiter',\n",
              " 'Malign neopl ovary',\n",
              " 'Cholelithiasis NOS',\n",
              " 'Ac myl leuk wo achv rmsn',\n",
              " 'Hx TIA/stroke w/o resid',\n",
              " 'Hepatic encephalopathy',\n",
              " 'Adv eff analgesic NOS',\n",
              " 'Viral enteritis NOS',\n",
              " 'Cholangitis',\n",
              " 'Chr passiv congest liver',\n",
              " 'Abnrml coagultion prfile',\n",
              " 'Dementia w/o behav dist',\n",
              " 'Panic dis w/o agorphobia',\n",
              " 'Routine circumcision',\n",
              " 'Ac posthemorrhag anemia',\n",
              " 'Abdom aortic aneurysm',\n",
              " 'Subdural hem w/o coma',\n",
              " 'Fall from slipping NEC',\n",
              " 'Pressure ulcer, low back',\n",
              " 'Diastolc hrt failure NOS',\n",
              " 'Pseudomonas infect NOS',\n",
              " 'Acq absnce breast/nipple',\n",
              " 'Subdural hemorrhage',\n",
              " 'Mv collision NOS-driver',\n",
              " 'Ac DVT/emb distl low ext',\n",
              " 'Sec malig neo sm bowel',\n",
              " 'Ventricular sept defect',\n",
              " 'Perforation of intestine',\n",
              " 'Edema',\n",
              " 'Prsnl hst colonic polyps',\n",
              " 'Meth susc Staph aur sept',\n",
              " 'Pericardial disease NEC',\n",
              " 'Iliac artery aneurysm',\n",
              " 'Congenital hydrocele',\n",
              " 'Hx of past noncompliance',\n",
              " 'Drop, hematocrit, precip',\n",
              " '33-34 comp wks gestation',\n",
              " 'Atrial flutter',\n",
              " 'BPH w/o urinary obs/LUTS',\n",
              " 'Accid in recreation area',\n",
              " 'Portal hypertension',\n",
              " 'Myalgia and myositis NOS',\n",
              " 'Hy kid NOS w cr kid I-IV',\n",
              " 'Alcoh dep NEC/NOS-unspec',\n",
              " 'Iatrogen CV infarc/hmrhg',\n",
              " 'Other pancytopenia',\n",
              " 'Metabolic encephalopathy',\n",
              " 'Pericardial disease NOS',\n",
              " 'Dehydration',\n",
              " 'Chr diastolic hrt fail',\n",
              " 'Surg comp-peri vasc syst',\n",
              " 'Brain anomaly NEC',\n",
              " 'Klebsiella pneumoniae',\n",
              " 'Ventral hernia NOS',\n",
              " 'Esoph varice oth dis NOS',\n",
              " 'Adv eff anticoagulants',\n",
              " 'Adv eff benzodiaz tranq',\n",
              " 'React-oth vasc dev/graft',\n",
              " 'Inf mcrg rstn pncllins',\n",
              " 'Adv eff hydantoin deriv',\n",
              " 'Injury iliac artery',\n",
              " 'Syst lupus erythematosus',\n",
              " 'Diaphragmatic hernia',\n",
              " 'Syncope and collapse',\n",
              " 'Status-post ptca',\n",
              " 'SIRS-noninf w ac org dys',\n",
              " 'Multiple sclerosis',\n",
              " 'Gstr/ddnts NOS w hmrhg',\n",
              " 'Compression of brain',\n",
              " 'Iatrogenic pneumothorax',\n",
              " 'Fx low radius w ulna-cl',\n",
              " 'Obstruction of bile duct',\n",
              " 'Trachea & bronch dis NEC',\n",
              " 'End stage renal disease',\n",
              " 'Fx c7 vertebra-closed',\n",
              " 'Tricuspid valve disease',\n",
              " 'Ac DVT/emb prox low ext',\n",
              " 'Neurohypophysis dis NEC',\n",
              " 'Dis of biliary tract NEC',\n",
              " 'Acute pancreatitis',\n",
              " 'Encephalopathy NOS',\n",
              " 'Cholelith w cholecys NEC',\n",
              " 'Joint replaced knee',\n",
              " 'Pressure ulcer, heel',\n",
              " 'Chr pulmon heart dis NEC',\n",
              " 'Dysphagia NOS',\n",
              " 'Acute & chronc resp fail',\n",
              " 'Obstructiv hydrocephalus',\n",
              " 'Myelopathy in oth dis',\n",
              " 'Sarcoidosis',\n",
              " 'Neuropathy in diabetes',\n",
              " 'Thyrotox NOS no crisis',\n",
              " 'Abn react-anastom/graft',\n",
              " 'Open wound of scalp',\n",
              " 'Rhabdomyolysis',\n",
              " 'Aortic atherosclerosis',\n",
              " 'Chr kidney dis stage III',\n",
              " 'Headache',\n",
              " 'Hypovolemia',\n",
              " 'Ulcer of heel & midfoot',\n",
              " 'Disrup-external op wound',\n",
              " 'Adv eff cephalosporin',\n",
              " 'Adv eff antibiotics NEC',\n",
              " 'Contusion of thigh',\n",
              " 'Gastroparesis',\n",
              " 'Interstitial emphysema',\n",
              " 'Periph vascular dis NOS',\n",
              " 'Esophagitis, unspecified',\n",
              " 'Other alter consciousnes',\n",
              " 'Iatrogen pulm emb/infarc',\n",
              " 'Ac on chr syst hrt fail',\n",
              " 'Paralysis agitans',\n",
              " 'Hx-rectal & anal malign',\n",
              " 'Alcoh dep NEC/NOS-remiss',\n",
              " 'Ath ext ntv art ulcrtion',\n",
              " 'Hypotension NOS',\n",
              " 'Meth sus pneum d/t Staph',\n",
              " 'Anemia-other chronic dis',\n",
              " 'Second malig neo pleura',\n",
              " 'Osteoporosis NOS',\n",
              " 'Hx-malig skin melanoma',\n",
              " 'Prim cardiomyopathy NEC',\n",
              " 'Schizoaffective dis NOS',\n",
              " 'Acquire absnce intestine',\n",
              " 'E coli septicemia',\n",
              " 'Cellulitis of arm',\n",
              " 'Hx of breast malignancy',\n",
              " 'Status autm crd dfbrltr',\n",
              " 'Alkalosis',\n",
              " 'Drug abuse NEC-contin',\n",
              " 'Preterm NEC 2000-2499g',\n",
              " 'Cardiac dysrhythmias NEC',\n",
              " 'Open wnd knee/leg/ankle',\n",
              " 'Urinary incontinence NOS',\n",
              " 'Ac on chr diast hrt fail',\n",
              " 'NB obs genetc/metabl cnd',\n",
              " 'Hypertension NOS',\n",
              " 'Abnormality of gait',\n",
              " 'Adv eff medicinal NEC',\n",
              " 'Encountr palliative care',\n",
              " 'Crnry athrscl natve vssl',\n",
              " 'Unsp hemiplga unspf side',\n",
              " 'Respirator depend status',\n",
              " 'Dvrtclo colon w/o hmrhg',\n",
              " 'Acq coagul factor defic',\n",
              " 'TPA adm status 24 hr pta',\n",
              " 'Enterostomy status NEC',\n",
              " 'Sepsis',\n",
              " 'Hx of kidney malignancy',\n",
              " 'Gastrointest hemorr NOS',\n",
              " 'Parox ventric tachycard',\n",
              " 'Lower extremity embolism',\n",
              " 'Ac vasc insuff intestine',\n",
              " 'Adv eff opiates',\n",
              " 'Intestinal fistula',\n",
              " 'Elev transaminase/ldh',\n",
              " 'Ac ischemic hrt dis NEC',\n",
              " 'Cellulitis of trunk',\n",
              " 'Encephalopathy NEC',\n",
              " 'Adv eff antineoplastic',\n",
              " 'Tracheostomy - mech comp',\n",
              " 'Acidosis',\n",
              " 'Abn reac-organ rem NEC',\n",
              " 'Hypopotassemia',\n",
              " 'Neonatal bradycardia',\n",
              " 'Acute respiratry failure',\n",
              " 'Myelodysplastic synd NOS',\n",
              " 'Spinal stenosis NOS',\n",
              " 'Hematemesis',\n",
              " 'Blepharitis NOS',\n",
              " 'Accident in place NEC',\n",
              " 'Chrnc hpt C wo hpat coma',\n",
              " 'Sec thrombocytpenia NEC',\n",
              " 'Aphasia',\n",
              " 'Exam-clincal trial',\n",
              " 'Defibrination syndrome',\n",
              " 'Prsnl hst peptic ulcr ds',\n",
              " 'DMII wo cmp nt st uncntr',\n",
              " 'Joint replaced hip',\n",
              " 'Cocaine abuse-unspec',\n",
              " 'Cor ath unsp vsl ntv/gft',\n",
              " 'Subendo infarct, initial',\n",
              " 'Depressive disorder NEC',\n",
              " 'Urin tract infection NOS',\n",
              " 'Thoracic aortic aneurysm',\n",
              " 'Status amput othr toe(s)',\n",
              " 'Rheumatoid arthritis',\n",
              " 'Chronic kidney dis NOS',\n",
              " 'Hematoma complic proc',\n",
              " 'Pseudomonal pneumonia',\n",
              " 'Gastrostomy status',\n",
              " 'Drug dermatitis NOS',\n",
              " 'Opioid dependence-contin',\n",
              " 'Oth lymp unsp xtrndl org',\n",
              " 'Dis phosphorus metabol',\n",
              " 'Orthopedic aftercare NEC',\n",
              " 'Subtrochanteric fx-close',\n",
              " 'Peritoneum injury-closed',\n",
              " 'Gram-neg septicemia NEC',\n",
              " 'Morbid obesity',\n",
              " 'Spinal stenosis-thoracic',\n",
              " 'AMI anterior wall, init',\n",
              " 'Fx facial bone NEC-close',\n",
              " 'Respiratory comp NEC',\n",
              " 'Colostomy status',\n",
              " 'Delirium tremens',\n",
              " 'Subarachnoid hemorrhage',\n",
              " 'Hx Methicln resist Staph',\n",
              " 'Long-term use of insulin',\n",
              " 'Asthma NOS',\n",
              " 'Neutropenia NOS',\n",
              " 'Chr duoden ulcer w hem',\n",
              " 'Hemorrhage complic proc',\n",
              " 'Crbl art ocl NOS w infrc',\n",
              " 'Stricture of ureter',\n",
              " 'Abnormal loss of weight',\n",
              " 'Malfun neuro device/graf',\n",
              " 'Hyposmolality',\n",
              " 'Alcohol abuse-unspec',\n",
              " 'Volvulus of intestine',\n",
              " 'Single lb in-hosp w/o cs',\n",
              " 'Long-term use anticoagul',\n",
              " 'Abn blood chemistry NEC',\n",
              " 'Trnspl status-pancreas',\n",
              " 'Enterococcus group d',\n",
              " 'Pancreat cyst/pseudocyst',\n",
              " 'Emphysema NEC',\n",
              " 'Orthostatic hypotension',\n",
              " 'Intestinal obstruct NOS',\n",
              " 'Wait adm to oth facility',\n",
              " 'Fx eight/more rib-closed',\n",
              " 'Quadriplegia, unspecifd',\n",
              " 'Leukocytopenia NOS',\n",
              " 'Epistaxis',\n",
              " 'Ptosis of eyelid NOS',\n",
              " 'Chest pain NOS',\n",
              " 'Spontan bact peritonitis',\n",
              " 'Hearing loss NOS',\n",
              " 'Comp-oth vasc dev/graft',\n",
              " 'Convulsions NEC',\n",
              " 'Esophageal reflux',\n",
              " 'Unsp hemiplga domnt side',\n",
              " 'BMI less than 19,adult',\n",
              " 'Open wound of forehead',\n",
              " 'Staphylcocc septicem NEC',\n",
              " 'Alcohol cirrhosis liver',\n",
              " 'Accidental op laceration',\n",
              " 'Cardiogenic shock',\n",
              " 'Vasc comp med care NEC',\n",
              " 'Second malig neo liver',\n",
              " 'Altered mental status',\n",
              " 'Special symptom NEC/NOS',\n",
              " 'Hx of thyroid malignancy',\n",
              " 'Furniture acc w sub fall',\n",
              " 'Respiratory distress syn',\n",
              " 'Fetal/neonatal jaund NOS',\n",
              " 'Mixed acid-base bal dis',\n",
              " 'Hx-circulatory dis NEC',\n",
              " 'NB obsrv suspct infect',\n",
              " 'Portal vein thrombosis',\n",
              " 'Ac systolic hrt failure',\n",
              " 'Mth sus Stph aur els/NOS',\n",
              " 'Peptic ulcer NOS',\n",
              " 'Alcohol abuse-continuous',\n",
              " 'Septicemia NOS',\n",
              " 'Lung contusion-closed',\n",
              " 'Postinflam pulm fibrosis',\n",
              " 'Ventricular shunt status',\n",
              " 'Facial weakness',\n",
              " 'Long-term use of aspirin',\n",
              " 'Posttraumatic stress dis',\n",
              " 'Severe sepsis',\n",
              " 'Subarachnoid hem-no coma',\n",
              " 'Acute kidney failure NOS',\n",
              " 'Epilep NOS w/o intr epil',\n",
              " 'Bacteremia',\n",
              " 'Patent ductus arteriosus',\n",
              " 'Abn react-procedure NEC',\n",
              " 'Int inf clstrdium dfcile',\n",
              " 'Mal neo lymph-head/neck',\n",
              " 'Duodenitis w/o hmrhg',\n",
              " 'Constipation NEC',\n",
              " 'Hydronephrosis',\n",
              " 'Dysarthria',\n",
              " 'Twin-mate lb-in hos w cs',\n",
              " 'Obesity NOS',\n",
              " 'Acute necrosis of liver',\n",
              " 'Hx-prostatic malignancy',\n",
              " 'Fem genital symptoms NEC',\n",
              " 'Fx scapula NOS-closed',\n",
              " 'Cirrhosis of liver NOS',\n",
              " 'Malignant hypertension',\n",
              " 'Chr stomach ulc w hem',\n",
              " 'Hx of colonic malignancy',\n",
              " 'Paralytic ileus',\n",
              " 'Choledochlith NOS w obst',\n",
              " 'History of tobacco use',\n",
              " 'Long-term use steroids',\n",
              " 'Postprocedural fever',\n",
              " 'Backache NOS',\n",
              " 'CHF NOS',\n",
              " 'Anemia in chr kidney dis',\n",
              " 'Pervasv dev dis-cur NEC',\n",
              " 'Gastroduodenal dis NEC',\n",
              " 'Second malig neo adrenal',\n",
              " 'Spin sten,lumbr wo claud',\n",
              " 'Perinatal condition NEC',\n",
              " 'Loss control mv acc-driv',\n",
              " 'Episodic mood disord NOS',\n",
              " 'Hx of irradiation',\n",
              " 'Heart valve transplant',\n",
              " 'Intracerebral hemorrhage',\n",
              " 'Dis bilirubin excretion',\n",
              " 'Cellulitis of leg',\n",
              " 'Chr kidney dis stage IV',\n",
              " 'Splenomegaly',\n",
              " 'Status cardiac pacemaker',\n",
              " 'Pressure ulcer, buttock',\n",
              " 'Fx lumbar vertebra-close',\n",
              " 'Obstructive sleep apnea',\n",
              " 'Pneumo oth grm-neg bact',\n",
              " 'Mental disor NEC oth dis',\n",
              " 'Traum pneumohemothor-cl',\n",
              " 'Rupt abd aortic aneurysm',\n",
              " 'Oth digestv system comp',\n",
              " 'Ch obst asth w (ac) exac',\n",
              " 'Pneumonia, organism NOS',\n",
              " 'Bronchiectas w/o ac exac',\n",
              " 'Acute cholecystitis',\n",
              " 'Neonat jaund preterm del',\n",
              " 'Chronc periodontitis NOS',\n",
              " 'Gstr/ddnts NOS w/o hmrhg',\n",
              " 'Chronic respiratory fail',\n",
              " 'Chronic sinusitis NOS',\n",
              " 'Chronic pain NEC',\n",
              " 'Malign neopl prostate',\n",
              " 'Renal & ureteral dis NOS',\n",
              " 'Cachexia',\n",
              " 'Benign hypertension',\n",
              " 'Ascites NEC',\n",
              " 'Path fx vertebrae',\n",
              " 'Aortocoronary bypass',\n",
              " 'Thrombocytopenia NOS',\n",
              " 'Prsnl hst oth nfct parst',\n",
              " 'Hypothyroidism NOS',\n",
              " 'Anemia NOS',\n",
              " 'Acute lung edema NOS',\n",
              " 'Pneumococcal pneumonia',\n",
              " 'Old myocardial infarct',\n",
              " 'Hyperpotassemia',\n",
              " 'Fracture one rib-closed',\n",
              " 'Fracture of pubis-closed',\n",
              " 'React-oth int ortho dev',\n",
              " 'Secondary malig neo bone',\n",
              " 'Need prphyl vc vrl hepat',\n",
              " 'Rheumatic heart failure',\n",
              " 'Tobacco use disorder',\n",
              " 'Poison-analgesics',\n",
              " 'Mv coll w pedest-pedest',\n",
              " 'Hpt B chrn wo cm wo dlta',\n",
              " 'Late effect CV dis NEC',\n",
              " 'Sec malig neo nerve NEC',\n",
              " 'Ac kidny fail, tubr necr',\n",
              " 'Neurogenic bladder NOS',\n",
              " 'Cardiac arrest',\n",
              " 'Hyperosmolality',\n",
              " 'Venous insufficiency NOS',\n",
              " 'Dysthymic disorder',\n",
              " 'Stridor',\n",
              " 'Glaucoma NOS',\n",
              " 'Mitral valve disorder',\n",
              " 'Septic shock',\n",
              " 'Obs chr bronc w(ac) exac',\n",
              " 'Adv eff corticosteroids',\n",
              " 'Secundum atrial sept def',\n",
              " 'Ac/subac bact endocard',\n",
              " 'Resp prob after brth NEC',\n",
              " 'Secondary malig neo lung',\n",
              " 'Alcoh dep NEC/NOS-contin',\n",
              " 'Anemia of prematurity',\n",
              " 'Systolic hrt failure NOS',\n",
              " 'Chronic pancreatitis',\n",
              " 'Accid in resident instit',\n",
              " 'Preterm NEC 2500+g',\n",
              " 'Septicemia NEC',\n",
              " 'Leukocytosis NOS',\n",
              " 'Oth coll stndng obj-driv',\n",
              " 'Nephritis NOS in oth dis',\n",
              " 'Hypoxemia',\n",
              " 'Non-healing surgcl wound',\n",
              " 'Dental caries NOS',\n",
              " 'Malig neopl kidney',\n",
              " 'Iatrogenc hypotnsion NEC',\n",
              " 'Crbl emblsm w infrct',\n",
              " 'Psychosis NOS',\n",
              " 'Thalassemia, unspecified',\n",
              " 'Accid on street/highway',\n",
              " 'Hpt C w/o hepat coma NOS',\n",
              " 'Chr systolic hrt failure',\n",
              " '35-36 comp wks gestation',\n",
              " 'Regional enteritis NOS',\n",
              " 'Fall NOS',\n",
              " 'Hx-ven thrombosis/embols',\n",
              " 'Drug-induced delirium',\n",
              " 'Hx-bronchogenic malignan',\n",
              " 'Angina pectoris NEC/NOS',\n",
              " 'Opioid abuse-unspec',\n",
              " 'Chronic liver dis NEC',\n",
              " 'Adv eff diuretics NEC',\n",
              " 'Hyp kid NOS w cr kid V',\n",
              " 'Intestinal bypass status',\n",
              " 'Fever NOS',\n",
              " 'Mal neo bronch/lung NEC',\n",
              " 'Ventltr assoc pneumonia',\n",
              " 'Sec mal neo GI NEC',\n",
              " 'Other psoriasis',\n",
              " 'Tracheostomy status',\n",
              " 'Compl liver transplant',\n",
              " 'Abn react-artif implant',\n",
              " 'Cerebral edema',\n",
              " 'Pure hypercholesterolem',\n",
              " 'Cong aorta valv insuffic',\n",
              " 'Do not resusctate status',\n",
              " 'Gout NOS',\n",
              " 'Abn react-surg proc NEC',\n",
              " 'Anxiety state NOS',\n",
              " 'Chronic obst asthma NOS',\n",
              " 'Diarrhea',\n",
              " 'Asbestosis',\n",
              " 'Mal neo lymph intra-abd',\n",
              " 'Poison-psychotropic agt',\n",
              " 'NB septicemia [sepsis]',\n",
              " 'Fam hx-ischem heart dis',\n",
              " 'Intestinal obstruct NEC',\n",
              " '31-32 comp wks gestation',\n",
              " 'Mal neo lymph-intrathor',\n",
              " 'Surg compl-urinary tract',\n",
              " 'Aortic valve disorder',\n",
              " 'Atrial fibrillation',\n",
              " 'Blood in stool',\n",
              " 'No proc/patient decision']"
            ]
          },
          "execution_count": 84,
          "metadata": {},
          "output_type": "execute_result"
        }
      ],
      "source": [
        "short_title_list"
      ]
    },
    {
      "cell_type": "code",
      "execution_count": 92,
      "metadata": {
        "colab": {
          "base_uri": "https://localhost:8080/"
        },
        "id": "yWAwWtm1TtPc",
        "outputId": "8aded365-5351-4400-b219-4d69089c7e7f"
      },
      "outputs": [
        {
          "name": "stdout",
          "output_type": "stream",
          "text": [
            "Data(x=[465, 2], edge_index=[2, 74722], edge_attr=[74722, 2], gender=[465], age=[465], age_bucket=[465], hadm_id=[465], size=[465], icd9=[74722], short_title=[74722], width=[74722], icd9_code=[74722], short_title_code=[74722])\n"
          ]
        }
      ],
      "source": [
        "from torch_geometric.utils import from_networkx\n",
        "import torch\n",
        "\n",
        "\n",
        "# Define encoding for gender\n",
        "gender_map = {'M': 0, 'F': 1}\n",
        "# Select the features to include in the node feature matrix\n",
        "for node in G.nodes():\n",
        "\n",
        "# now we will add the nodes to torch geometric, we need to map categorical values to int\n",
        "    gender_ = gender_map[G.nodes[node]['gender']]\n",
        "    age_bucket = G.nodes[node]['age_bucket']\n",
        "    # hadm_id = G.nodes[node]['hadm_id']\n",
        "    # size = G.nodes[node]['size']\n",
        "    G.nodes[node]['x'] = [gender_, age_bucket]\n",
        "\n",
        "    # You can normalize or scale here if needed\n",
        "\n",
        "# now we are going to add the edges to torch geometric\n",
        "# define the encoding for icd9\n",
        "icd9_map = {code: i for i, code in enumerate(icd9_list)}\n",
        "short_title_map = {title: i for i, title in enumerate(short_title_list)}\n",
        "\n",
        "# now we will convert the edges in valid datatypes\n",
        "for u, v, attr in G.edges(data=True):\n",
        "    attr['icd9_code'] = icd9_map[attr['icd9']]\n",
        "    attr['short_title_code'] = short_title_map[attr['short_title']]\n",
        "    attr['edge_attr'] = [attr['icd9_code'], attr['short_title_code']]\n",
        "    G.add_edge(u, v, **attr)\n",
        "\n",
        "\n",
        "# Convert the NetworkX graph to a PyG Data object\n",
        "pyg_data = from_networkx(G)\n",
        "\n",
        "# Rename 'x' field to match PyG format\n",
        "pyg_data.x = torch.tensor([G.nodes[n]['x'] for n in G.nodes], dtype=torch.float)\n",
        "\n",
        "# Edge index is already handled by from_networkx\n",
        "print(pyg_data)"
      ]
    },
    {
      "cell_type": "code",
      "execution_count": 88,
      "metadata": {
        "id": "i0bVFV3nTtK3"
      },
      "outputs": [],
      "source": [
        "# pyg_data.short_title"
      ]
    },
    {
      "cell_type": "code",
      "execution_count": 93,
      "metadata": {
        "colab": {
          "base_uri": "https://localhost:8080/"
        },
        "id": "hJzFzUGOTtG-",
        "outputId": "80a0d512-4fc0-4985-ce81-262e5b726e2b"
      },
      "outputs": [
        {
          "name": "stdout",
          "output_type": "stream",
          "text": [
            "PyG Data object:\n",
            "Data(x=[465, 2], edge_index=[2, 74722], edge_attr=[74722, 2], gender=[465], age=[465], age_bucket=[465], hadm_id=[465], size=[465], icd9=[74722], short_title=[74722], width=[74722], icd9_code=[74722], short_title_code=[74722])\n",
            "Number of nodes: 465\n",
            "Number of edges: 74722\n",
            "Feature shape: torch.Size([465, 2])\n"
          ]
        }
      ],
      "source": [
        "print(f\"PyG Data object:\\n{pyg_data}\")\n",
        "print(f\"Number of nodes: {pyg_data.num_nodes}\")\n",
        "print(f\"Number of edges: {pyg_data.num_edges}\")\n",
        "print(f\"Feature shape: {pyg_data.x.shape}\")"
      ]
    },
    {
      "cell_type": "code",
      "execution_count": 94,
      "metadata": {
        "colab": {
          "base_uri": "https://localhost:8080/"
        },
        "id": "a-G3Px8xaoH7",
        "outputId": "398247f2-e3ff-45d4-94f9-b03aa831e543"
      },
      "outputs": [
        {
          "data": {
            "text/plain": [
              "tensor([[ 0., 80.],\n",
              "        [ 0., 55.],\n",
              "        [ 0., 85.],\n",
              "        [ 0., 75.],\n",
              "        [ 1., 75.],\n",
              "        [ 1., 95.],\n",
              "        [ 1., 50.],\n",
              "        [ 0., 85.],\n",
              "        [ 1., 85.],\n",
              "        [ 1., 65.],\n",
              "        [ 1., 75.],\n",
              "        [ 1., 65.],\n",
              "        [ 1., 80.],\n",
              "        [ 0., 65.],\n",
              "        [ 0., 70.],\n",
              "        [ 0., 65.],\n",
              "        [ 0., 75.],\n",
              "        [ 0., 75.],\n",
              "        [ 0., 65.],\n",
              "        [ 0.,  0.],\n",
              "        [ 0., 80.],\n",
              "        [ 1., 55.],\n",
              "        [ 0., 70.],\n",
              "        [ 1., 80.],\n",
              "        [ 0., 35.],\n",
              "        [ 0., 55.],\n",
              "        [ 0., 45.],\n",
              "        [ 0., 65.],\n",
              "        [ 1.,  0.],\n",
              "        [ 0., 45.],\n",
              "        [ 1.,  0.],\n",
              "        [ 1., 40.],\n",
              "        [ 0., 40.],\n",
              "        [ 0., 80.],\n",
              "        [ 1., 80.],\n",
              "        [ 1., 85.],\n",
              "        [ 0.,  0.],\n",
              "        [ 0., 55.],\n",
              "        [ 0., 95.],\n",
              "        [ 1., 65.],\n",
              "        [ 0., 45.],\n",
              "        [ 0., 75.],\n",
              "        [ 0., 45.],\n",
              "        [ 0., 45.],\n",
              "        [ 0., 45.],\n",
              "        [ 1., 50.],\n",
              "        [ 0.,  0.],\n",
              "        [ 0., 55.],\n",
              "        [ 1., 20.],\n",
              "        [ 1.,  0.],\n",
              "        [ 1.,  0.],\n",
              "        [ 0., 50.],\n",
              "        [ 0., 50.],\n",
              "        [ 1., 80.],\n",
              "        [ 1., 70.],\n",
              "        [ 0.,  0.],\n",
              "        [ 1., 70.],\n",
              "        [ 1., 60.],\n",
              "        [ 1., 60.],\n",
              "        [ 1., 65.],\n",
              "        [ 0.,  0.],\n",
              "        [ 0., 70.],\n",
              "        [ 0.,  0.],\n",
              "        [ 1., 85.],\n",
              "        [ 1., 60.],\n",
              "        [ 0., 75.],\n",
              "        [ 1., 65.],\n",
              "        [ 0., 75.],\n",
              "        [ 0., 50.],\n",
              "        [ 0.,  0.],\n",
              "        [ 1., 65.],\n",
              "        [ 1., 55.],\n",
              "        [ 0.,  0.],\n",
              "        [ 0.,  0.],\n",
              "        [ 1., 80.],\n",
              "        [ 0.,  0.],\n",
              "        [ 0., 80.],\n",
              "        [ 0., 65.],\n",
              "        [ 0.,  0.],\n",
              "        [ 0.,  0.],\n",
              "        [ 1., 55.],\n",
              "        [ 1., 75.],\n",
              "        [ 1., 80.],\n",
              "        [ 1., 15.],\n",
              "        [ 1., 55.],\n",
              "        [ 0., 60.],\n",
              "        [ 0.,  0.],\n",
              "        [ 1.,  0.],\n",
              "        [ 1., 70.],\n",
              "        [ 0., 80.],\n",
              "        [ 1., 95.],\n",
              "        [ 1., 50.],\n",
              "        [ 1., 80.],\n",
              "        [ 1., 95.],\n",
              "        [ 1.,  0.],\n",
              "        [ 0., 65.],\n",
              "        [ 1., 70.],\n",
              "        [ 1., 65.],\n",
              "        [ 1.,  0.],\n",
              "        [ 1.,  0.],\n",
              "        [ 0.,  0.],\n",
              "        [ 0., 65.],\n",
              "        [ 1., 65.],\n",
              "        [ 1., 60.],\n",
              "        [ 0., 60.],\n",
              "        [ 0., 55.],\n",
              "        [ 1.,  0.],\n",
              "        [ 0., 60.],\n",
              "        [ 0., 35.],\n",
              "        [ 0., 55.],\n",
              "        [ 1., 50.],\n",
              "        [ 1., 60.],\n",
              "        [ 1., 50.],\n",
              "        [ 0., 55.],\n",
              "        [ 0., 70.],\n",
              "        [ 1., 65.],\n",
              "        [ 1., 85.],\n",
              "        [ 1., 55.],\n",
              "        [ 0., 55.],\n",
              "        [ 1., 70.],\n",
              "        [ 0.,  0.],\n",
              "        [ 0., 75.],\n",
              "        [ 1., 75.],\n",
              "        [ 1., 95.],\n",
              "        [ 1., 85.],\n",
              "        [ 0., 40.],\n",
              "        [ 0., 85.],\n",
              "        [ 1.,  0.],\n",
              "        [ 1., 65.],\n",
              "        [ 1., 95.],\n",
              "        [ 0., 75.],\n",
              "        [ 1., 65.],\n",
              "        [ 1., 65.],\n",
              "        [ 1., 65.],\n",
              "        [ 1.,  0.],\n",
              "        [ 0., 95.],\n",
              "        [ 1., 50.],\n",
              "        [ 0.,  0.],\n",
              "        [ 0., 60.],\n",
              "        [ 0., 85.],\n",
              "        [ 0.,  0.],\n",
              "        [ 0., 95.],\n",
              "        [ 1., 20.],\n",
              "        [ 1., 85.],\n",
              "        [ 1., 70.],\n",
              "        [ 1., 80.],\n",
              "        [ 1., 60.],\n",
              "        [ 0., 65.],\n",
              "        [ 0., 50.],\n",
              "        [ 0., 65.],\n",
              "        [ 0., 70.],\n",
              "        [ 1., 70.],\n",
              "        [ 0., 95.],\n",
              "        [ 1., 25.],\n",
              "        [ 0., 45.],\n",
              "        [ 0., 65.],\n",
              "        [ 0., 70.],\n",
              "        [ 0., 85.],\n",
              "        [ 0., 75.],\n",
              "        [ 0., 55.],\n",
              "        [ 1.,  0.],\n",
              "        [ 1., 70.],\n",
              "        [ 1., 70.],\n",
              "        [ 1.,  0.],\n",
              "        [ 1., 35.],\n",
              "        [ 0., 65.],\n",
              "        [ 1.,  0.],\n",
              "        [ 1., 85.],\n",
              "        [ 0., 50.],\n",
              "        [ 1., 80.],\n",
              "        [ 1., 85.],\n",
              "        [ 0., 75.],\n",
              "        [ 0., 80.],\n",
              "        [ 1., 55.],\n",
              "        [ 1., 50.],\n",
              "        [ 0., 75.],\n",
              "        [ 0., 30.],\n",
              "        [ 1.,  0.],\n",
              "        [ 1., 75.],\n",
              "        [ 0.,  0.],\n",
              "        [ 0., 40.],\n",
              "        [ 0., 50.],\n",
              "        [ 1.,  0.],\n",
              "        [ 0., 75.],\n",
              "        [ 0., 50.],\n",
              "        [ 1., 80.],\n",
              "        [ 0.,  0.],\n",
              "        [ 1., 75.],\n",
              "        [ 1., 70.],\n",
              "        [ 0., 40.],\n",
              "        [ 1., 75.],\n",
              "        [ 0., 45.],\n",
              "        [ 0., 70.],\n",
              "        [ 0.,  0.],\n",
              "        [ 0.,  0.],\n",
              "        [ 1., 65.],\n",
              "        [ 0.,  0.],\n",
              "        [ 1., 50.],\n",
              "        [ 0., 70.],\n",
              "        [ 0.,  0.],\n",
              "        [ 1., 65.],\n",
              "        [ 1., 75.],\n",
              "        [ 1.,  0.],\n",
              "        [ 0., 40.],\n",
              "        [ 1., 30.],\n",
              "        [ 0., 70.],\n",
              "        [ 1., 75.],\n",
              "        [ 0., 30.],\n",
              "        [ 0.,  0.],\n",
              "        [ 1., 70.],\n",
              "        [ 1., 50.],\n",
              "        [ 0.,  0.],\n",
              "        [ 1., 80.],\n",
              "        [ 0., 60.],\n",
              "        [ 1., 55.],\n",
              "        [ 1., 75.],\n",
              "        [ 1.,  0.],\n",
              "        [ 0., 60.],\n",
              "        [ 0.,  0.],\n",
              "        [ 1., 45.],\n",
              "        [ 0., 45.],\n",
              "        [ 0.,  0.],\n",
              "        [ 1., 80.],\n",
              "        [ 0., 70.],\n",
              "        [ 1.,  0.],\n",
              "        [ 0.,  0.],\n",
              "        [ 1., 80.],\n",
              "        [ 1., 55.],\n",
              "        [ 1., 55.],\n",
              "        [ 0., 95.],\n",
              "        [ 1., 85.],\n",
              "        [ 0., 25.],\n",
              "        [ 1., 55.],\n",
              "        [ 0., 75.],\n",
              "        [ 0., 95.],\n",
              "        [ 0.,  0.],\n",
              "        [ 1., 85.],\n",
              "        [ 1., 30.],\n",
              "        [ 1., 40.],\n",
              "        [ 0., 80.],\n",
              "        [ 1., 85.],\n",
              "        [ 0., 35.],\n",
              "        [ 0., 50.],\n",
              "        [ 0., 65.],\n",
              "        [ 0., 25.],\n",
              "        [ 0., 60.],\n",
              "        [ 1., 70.],\n",
              "        [ 0., 65.],\n",
              "        [ 0., 75.],\n",
              "        [ 1.,  0.],\n",
              "        [ 1.,  0.],\n",
              "        [ 1., 50.],\n",
              "        [ 1., 80.],\n",
              "        [ 0.,  0.],\n",
              "        [ 1., 65.],\n",
              "        [ 0., 50.],\n",
              "        [ 0., 45.],\n",
              "        [ 0., 65.],\n",
              "        [ 0., 70.],\n",
              "        [ 1., 70.],\n",
              "        [ 1.,  0.],\n",
              "        [ 0., 70.],\n",
              "        [ 0., 50.],\n",
              "        [ 1., 45.],\n",
              "        [ 0., 80.],\n",
              "        [ 0., 50.],\n",
              "        [ 0.,  0.],\n",
              "        [ 0., 50.],\n",
              "        [ 1., 40.],\n",
              "        [ 0., 35.],\n",
              "        [ 0., 55.],\n",
              "        [ 0., 80.],\n",
              "        [ 0., 80.],\n",
              "        [ 1.,  0.],\n",
              "        [ 1., 35.],\n",
              "        [ 0.,  0.],\n",
              "        [ 0., 75.],\n",
              "        [ 0.,  0.],\n",
              "        [ 0., 60.],\n",
              "        [ 0., 60.],\n",
              "        [ 0., 35.],\n",
              "        [ 1., 75.],\n",
              "        [ 1.,  0.],\n",
              "        [ 0., 60.],\n",
              "        [ 0.,  0.],\n",
              "        [ 0., 70.],\n",
              "        [ 0., 65.],\n",
              "        [ 0., 60.],\n",
              "        [ 0., 65.],\n",
              "        [ 0., 25.],\n",
              "        [ 1., 80.],\n",
              "        [ 1., 45.],\n",
              "        [ 0., 55.],\n",
              "        [ 0., 60.],\n",
              "        [ 0., 35.],\n",
              "        [ 1., 15.],\n",
              "        [ 0., 95.],\n",
              "        [ 0.,  0.],\n",
              "        [ 1., 95.],\n",
              "        [ 0., 50.],\n",
              "        [ 1., 80.],\n",
              "        [ 1., 95.],\n",
              "        [ 0.,  0.],\n",
              "        [ 0., 80.],\n",
              "        [ 1., 50.],\n",
              "        [ 0., 55.],\n",
              "        [ 0., 50.],\n",
              "        [ 0.,  0.],\n",
              "        [ 1., 50.],\n",
              "        [ 0., 50.],\n",
              "        [ 0., 65.],\n",
              "        [ 0., 75.],\n",
              "        [ 1., 95.],\n",
              "        [ 1.,  0.],\n",
              "        [ 1., 50.],\n",
              "        [ 0., 75.],\n",
              "        [ 1., 85.],\n",
              "        [ 0., 70.],\n",
              "        [ 1., 60.],\n",
              "        [ 0., 75.],\n",
              "        [ 0., 65.],\n",
              "        [ 1.,  0.],\n",
              "        [ 1., 95.],\n",
              "        [ 1.,  0.],\n",
              "        [ 1., 50.],\n",
              "        [ 1.,  0.],\n",
              "        [ 1., 95.],\n",
              "        [ 0., 50.],\n",
              "        [ 1., 20.],\n",
              "        [ 0., 50.],\n",
              "        [ 1., 70.],\n",
              "        [ 0., 50.],\n",
              "        [ 0.,  0.],\n",
              "        [ 1., 35.],\n",
              "        [ 0., 35.],\n",
              "        [ 0., 55.],\n",
              "        [ 0., 50.],\n",
              "        [ 0., 70.],\n",
              "        [ 0., 45.],\n",
              "        [ 0., 75.],\n",
              "        [ 1., 45.],\n",
              "        [ 0., 60.],\n",
              "        [ 0., 70.],\n",
              "        [ 1., 80.],\n",
              "        [ 1., 65.],\n",
              "        [ 0., 65.],\n",
              "        [ 0., 40.],\n",
              "        [ 1., 65.],\n",
              "        [ 1.,  0.],\n",
              "        [ 1., 45.],\n",
              "        [ 0., 80.],\n",
              "        [ 1., 55.],\n",
              "        [ 1., 85.],\n",
              "        [ 0., 80.],\n",
              "        [ 1., 45.],\n",
              "        [ 0., 80.],\n",
              "        [ 0., 75.],\n",
              "        [ 1.,  0.],\n",
              "        [ 1., 60.],\n",
              "        [ 0., 85.],\n",
              "        [ 1.,  0.],\n",
              "        [ 1., 25.],\n",
              "        [ 1., 95.],\n",
              "        [ 1., 85.],\n",
              "        [ 0., 60.],\n",
              "        [ 1., 75.],\n",
              "        [ 1.,  0.],\n",
              "        [ 1., 60.],\n",
              "        [ 0.,  0.],\n",
              "        [ 0., 25.],\n",
              "        [ 1., 70.],\n",
              "        [ 1., 60.],\n",
              "        [ 1., 70.],\n",
              "        [ 0., 25.],\n",
              "        [ 0., 50.],\n",
              "        [ 0.,  0.],\n",
              "        [ 0., 55.],\n",
              "        [ 0., 60.],\n",
              "        [ 0., 75.],\n",
              "        [ 0., 75.],\n",
              "        [ 0., 50.],\n",
              "        [ 1., 70.],\n",
              "        [ 1.,  0.],\n",
              "        [ 0., 55.],\n",
              "        [ 1., 75.],\n",
              "        [ 0., 80.],\n",
              "        [ 0., 65.],\n",
              "        [ 1., 80.],\n",
              "        [ 0., 50.],\n",
              "        [ 1.,  0.],\n",
              "        [ 0., 55.],\n",
              "        [ 0., 50.],\n",
              "        [ 0.,  0.],\n",
              "        [ 1., 95.],\n",
              "        [ 1., 60.],\n",
              "        [ 0., 60.],\n",
              "        [ 1., 70.],\n",
              "        [ 0., 55.],\n",
              "        [ 0.,  0.],\n",
              "        [ 0., 80.],\n",
              "        [ 1., 60.],\n",
              "        [ 0., 65.],\n",
              "        [ 0., 70.],\n",
              "        [ 1., 70.],\n",
              "        [ 0., 70.],\n",
              "        [ 0.,  0.],\n",
              "        [ 0.,  0.],\n",
              "        [ 1., 80.],\n",
              "        [ 1., 75.],\n",
              "        [ 1.,  0.],\n",
              "        [ 0., 75.],\n",
              "        [ 1., 20.],\n",
              "        [ 0.,  0.],\n",
              "        [ 1.,  0.],\n",
              "        [ 0., 40.],\n",
              "        [ 0., 80.],\n",
              "        [ 0., 95.],\n",
              "        [ 0., 70.],\n",
              "        [ 0., 45.],\n",
              "        [ 1.,  0.],\n",
              "        [ 0.,  0.],\n",
              "        [ 1.,  0.],\n",
              "        [ 0., 65.],\n",
              "        [ 1., 50.],\n",
              "        [ 1., 85.],\n",
              "        [ 1., 50.],\n",
              "        [ 0., 25.],\n",
              "        [ 0., 65.],\n",
              "        [ 0., 60.],\n",
              "        [ 0.,  0.],\n",
              "        [ 0., 20.],\n",
              "        [ 1., 50.],\n",
              "        [ 0., 75.],\n",
              "        [ 0., 65.],\n",
              "        [ 1., 35.],\n",
              "        [ 1.,  0.],\n",
              "        [ 0.,  0.],\n",
              "        [ 0., 60.],\n",
              "        [ 1., 85.],\n",
              "        [ 1., 40.],\n",
              "        [ 0., 75.],\n",
              "        [ 0., 80.],\n",
              "        [ 0., 70.],\n",
              "        [ 0.,  0.],\n",
              "        [ 0., 80.],\n",
              "        [ 0., 80.],\n",
              "        [ 1., 20.],\n",
              "        [ 1., 75.],\n",
              "        [ 0., 60.],\n",
              "        [ 1.,  0.],\n",
              "        [ 0., 80.],\n",
              "        [ 0., 50.],\n",
              "        [ 1., 95.],\n",
              "        [ 1., 75.],\n",
              "        [ 0., 70.],\n",
              "        [ 0., 60.],\n",
              "        [ 0., 60.],\n",
              "        [ 1., 50.],\n",
              "        [ 1., 55.],\n",
              "        [ 1., 80.],\n",
              "        [ 1., 55.],\n",
              "        [ 0.,  0.],\n",
              "        [ 1., 75.],\n",
              "        [ 0., 25.],\n",
              "        [ 0., 75.]])"
            ]
          },
          "execution_count": 94,
          "metadata": {},
          "output_type": "execute_result"
        }
      ],
      "source": [
        "pyg_data.x"
      ]
    },
    {
      "cell_type": "code",
      "execution_count": 95,
      "metadata": {
        "colab": {
          "base_uri": "https://localhost:8080/"
        },
        "id": "-2cRc-dDo1to",
        "outputId": "80f6d83d-6a6e-4506-f91b-3be44bf5a83d"
      },
      "outputs": [
        {
          "name": "stdout",
          "output_type": "stream",
          "text": [
            "[INFO] Number of nodes: 465\n"
          ]
        }
      ],
      "source": [
        "# Step 1: Get number of nodes\n",
        "num_nodes = pyg_data.x.size(0)  # Should be 100\n",
        "print(f\"[INFO] Number of nodes: {num_nodes}\")"
      ]
    },
    {
      "cell_type": "code",
      "execution_count": 96,
      "metadata": {
        "colab": {
          "base_uri": "https://localhost:8080/"
        },
        "id": "1eJwDKMco5IL",
        "outputId": "1c46547a-f3b2-4960-f653-06374ea7196c"
      },
      "outputs": [
        {
          "name": "stdout",
          "output_type": "stream",
          "text": [
            "[INFO] Number of invalid edges (with index >= 465): 0\n"
          ]
        }
      ],
      "source": [
        "# Step 2: Check how many invalid edges exist\n",
        "invalid_mask = (pyg_data.edge_index >= num_nodes).any(dim=0)\n",
        "num_invalid = invalid_mask.sum().item()\n",
        "print(f\"[INFO] Number of invalid edges (with index >= {num_nodes}): {num_invalid}\")"
      ]
    },
    {
      "cell_type": "code",
      "execution_count": 97,
      "metadata": {
        "id": "QpqNvSNfo8rt"
      },
      "outputs": [],
      "source": [
        "# Optional: Show a few bad edges\n",
        "if num_invalid > 0:\n",
        "    print(\"[DEBUG] Sample invalid edges:\")\n",
        "    print(pyg_data.edge_index[:, invalid_mask][:, :5])  # Print first 5 invalid ones"
      ]
    },
    {
      "cell_type": "code",
      "execution_count": 98,
      "metadata": {
        "colab": {
          "base_uri": "https://localhost:8080/"
        },
        "id": "madT_mhzpAC7",
        "outputId": "4003fc2b-7f78-494c-e6c3-90375a0fcb87"
      },
      "outputs": [
        {
          "name": "stdout",
          "output_type": "stream",
          "text": [
            "[INFO] edge_index shape after filtering: torch.Size([2, 74722])\n"
          ]
        }
      ],
      "source": [
        "# Step 3: Create valid mask and apply it\n",
        "valid_mask = (pyg_data.edge_index < num_nodes).all(dim=0)\n",
        "pyg_data.edge_index = pyg_data.edge_index[:, valid_mask]\n",
        "print(f\"[INFO] edge_index shape after filtering: {pyg_data.edge_index.shape}\")"
      ]
    },
    {
      "cell_type": "markdown",
      "metadata": {
        "id": "CD025zhxpP2K"
      },
      "source": [
        "#Step 4: Define a GNN to Learn Patient Representations\n",
        "\n",
        "We'll use a Graph Convolutional Network (GCN) from torch_geometric.nn to learn node embeddings that capture each patient’s information and relationship to others in the graph.\n",
        "\n",
        "Since this is about patient similarity, we’ll:\n",
        "\n",
        "Train the model using an unsupervised objective\n",
        "\n",
        "Use the learned embeddings later to compute similarity (e.g., cosine similarity) between patients"
      ]
    },
    {
      "cell_type": "markdown",
      "metadata": {
        "id": "pd04LMd4pVbK"
      },
      "source": [
        "# 1. Define a Simple GCN"
      ]
    },
    {
      "cell_type": "code",
      "execution_count": 99,
      "metadata": {
        "id": "LiQAgAUBpMkw"
      },
      "outputs": [],
      "source": [
        "import torch.nn as nn\n",
        "import torch.nn.functional as F\n",
        "from torch_geometric.nn import GCNConv\n",
        "\n",
        "class PatientGNN(nn.Module):\n",
        "    def __init__(self, in_channels, hidden_channels, out_channels):\n",
        "        super(PatientGNN, self).__init__()\n",
        "        self.conv1 = GCNConv(in_channels, hidden_channels)\n",
        "        self.conv2 = GCNConv(hidden_channels, out_channels)\n",
        "\n",
        "    def forward(self, x, edge_index):\n",
        "        x = self.conv1(x, edge_index)\n",
        "        x = F.relu(x)\n",
        "        x = self.conv2(x, edge_index)\n",
        "        return x  # This will be the final embedding of each patient"
      ]
    },
    {
      "cell_type": "markdown",
      "metadata": {
        "id": "T4hZDp4Rpfx5"
      },
      "source": [
        "This is the initializer. You're setting up the layers of your GNN:\n",
        "\n",
        "in_channels: Number of input features per node (e.g., age, vitals, etc.)\n",
        "\n",
        "hidden_channels: Size of the hidden layer (intermediate representation)\n",
        "\n",
        "out_channels: Size of the output embedding vector"
      ]
    },
    {
      "cell_type": "markdown",
      "metadata": {
        "id": "fKLCI4Wgpg33"
      },
      "source": [
        "These are two graph convolution layers:\n",
        "\n",
        "GCNConv is a message-passing layer that aggregates features from neighboring nodes.\n",
        "\n",
        "The first layer takes the raw features → hidden representation.\n",
        "\n",
        "The second layer refines that hidden representation → final embedding."
      ]
    },
    {
      "cell_type": "markdown",
      "metadata": {
        "id": "Mcp3LWtLpilC"
      },
      "source": [
        "This is the forward pass. It defines how the input flows through the model.\n",
        "\n",
        "x: Node features (tensor of shape [num_nodes, in_channels])\n",
        "\n",
        "edge_index: Graph connectivity, shape [2, num_edges], with source/target node indices"
      ]
    },
    {
      "cell_type": "markdown",
      "metadata": {
        "id": "kz67sU_Ept5k"
      },
      "source": [
        "#2. Train GNN Using Similarity Loss\n",
        "\n",
        "We'll use cosine similarity loss between connected and unconnected node pairs:\n",
        "\n",
        "Similar patients → higher cosine similarity\n",
        "\n",
        "Dissimilar patients → lower similarity\n",
        "\n",
        "Here's a basic training loop:\n"
      ]
    },
    {
      "cell_type": "code",
      "execution_count": 111,
      "metadata": {
        "colab": {
          "base_uri": "https://localhost:8080/"
        },
        "id": "6gqVIEHkYCtI",
        "outputId": "12720d86-5deb-4675-f017-94c4a8829592"
      },
      "outputs": [
        {
          "data": {
            "text/plain": [
              "4"
            ]
          },
          "execution_count": 111,
          "metadata": {},
          "output_type": "execute_result"
        }
      ],
      "source": [
        "data.num_node_features"
      ]
    },
    {
      "cell_type": "code",
      "execution_count": 106,
      "metadata": {
        "id": "pRJLCgnepMgx"
      },
      "outputs": [],
      "source": [
        "import torch\n",
        "import torch.nn.functional as F\n",
        "\n",
        "def train_similarity_model(data, embedding_dim=128, epochs=10, lr=0.001):\n",
        "    device = torch.device('cuda' if torch.cuda.is_available() else 'cpu')\n",
        "    model = PatientGNN(data.num_node_features, 512, embedding_dim).to(device)\n",
        "    data = data.to(device)\n",
        "    optimizer = torch.optim.Adam(model.parameters(), lr=lr)\n",
        "\n",
        "    for epoch in range(epochs):\n",
        "        model.train()\n",
        "        optimizer.zero_grad()\n",
        "\n",
        "        # print(f'mika {data.x.shape} ' )\n",
        "\n",
        "        embeddings = model(data.x, data.edge_index)  # shape [N, embedding_dim]\n",
        "\n",
        "        # print(f'mika after {data.x.shape} ' )\n",
        "        # Sample positive edges (existing ones)\n",
        "        pos_edge_index = data.edge_index.t()\n",
        "\n",
        "        # Sample negative edges (non-existent edges)\n",
        "        num_pos = pos_edge_index.shape[0]\n",
        "        all_nodes = torch.arange(data.num_nodes, device=device)\n",
        "        rand_src = all_nodes[torch.randint(0, data.num_nodes, (num_pos,), device=device)]\n",
        "        rand_dst = all_nodes[torch.randint(0, data.num_nodes, (num_pos,), device=device)]\n",
        "        neg_edge_index = torch.stack([rand_src, rand_dst], dim=1)\n",
        "\n",
        "        # Compute similarities\n",
        "        pos_sim = F.cosine_similarity(embeddings[pos_edge_index[:, 0]], embeddings[pos_edge_index[:, 1]])\n",
        "        neg_sim = F.cosine_similarity(embeddings[neg_edge_index[:, 0]], embeddings[neg_edge_index[:, 1]])\n",
        "\n",
        "        # Loss: encourage higher similarity for positive edges and lower for negative\n",
        "        loss = -torch.log(torch.sigmoid(pos_sim)).mean() - torch.log(1 - torch.sigmoid(neg_sim)).mean()\n",
        "\n",
        "        loss.backward()\n",
        "        optimizer.step()\n",
        "\n",
        "        if epoch % 1 == 0:\n",
        "            print(f\"Epoch {epoch}, Loss: {loss.item():.4f}\")\n",
        "\n",
        "    return model\n"
      ]
    },
    {
      "cell_type": "code",
      "execution_count": 107,
      "metadata": {
        "colab": {
          "base_uri": "https://localhost:8080/"
        },
        "id": "4bjQhUUepMbq",
        "outputId": "480cbb25-f690-4b3b-dd27-3548c87fd7b0"
      },
      "outputs": [
        {
          "name": "stdout",
          "output_type": "stream",
          "text": [
            "Epoch 0, Loss: 1.5892\n",
            "Epoch 1, Loss: 1.5456\n",
            "Epoch 2, Loss: 1.4874\n",
            "Epoch 3, Loss: 1.4289\n",
            "Epoch 4, Loss: 1.3879\n",
            "Epoch 5, Loss: 1.3638\n",
            "Epoch 6, Loss: 1.3533\n",
            "Epoch 7, Loss: 1.3521\n",
            "Epoch 8, Loss: 1.3482\n",
            "Epoch 9, Loss: 1.3466\n"
          ]
        }
      ],
      "source": [
        "trained_model = train_similarity_model(pyg_data, embedding_dim=128)\n"
      ]
    },
    {
      "cell_type": "markdown",
      "metadata": {
        "id": "sMuEmBLvKiy9"
      },
      "source": [
        "#Step 5: Evaluate Similarity Between Patients Using the GNN.\n",
        "\n",
        "Now that the GNN model has learned embeddings for each patient, we can:\n",
        "\n",
        "Extract those embeddings\n",
        "\n",
        "Compute pairwise similarity\n",
        "\n",
        "Find similar patients (for a given patient)\n",
        "\n",
        "Optionally, visualize clusters or neighbor relationships"
      ]
    },
    {
      "cell_type": "markdown",
      "metadata": {
        "id": "18AQ0GhsKnXL"
      },
      "source": [
        "#1. Extract **Embeddings**"
      ]
    },
    {
      "cell_type": "code",
      "execution_count": 108,
      "metadata": {
        "id": "QFJdtqKKpMXT"
      },
      "outputs": [],
      "source": [
        "import torch.nn.functional as F\n",
        "\n",
        "# Put model in eval mode and move to CPU (for inference)\n",
        "trained_model.eval()\n",
        "device = torch.device('cuda' if torch.cuda.is_available() else 'cpu')\n",
        "pyg_data = pyg_data.to(device)\n",
        "with torch.no_grad():\n",
        "    embeddings = trained_model(pyg_data.x, pyg_data.edge_index).cpu()  # shape [num_nodes, embedding_dim]"
      ]
    },
    {
      "cell_type": "markdown",
      "metadata": {
        "id": "q_A9f_hjK4Zi"
      },
      "source": [
        "# 2. Compute Cosine Similarity Matrix"
      ]
    },
    {
      "cell_type": "code",
      "execution_count": 109,
      "metadata": {
        "colab": {
          "base_uri": "https://localhost:8080/",
          "height": 424
        },
        "id": "WQpKr5PjTs8L",
        "outputId": "34baf226-0c67-4142-b134-ea059ca541e7"
      },
      "outputs": [
        {
          "data": {
            "application/vnd.google.colaboratory.intrinsic+json": {
              "type": "dataframe"
            },
            "text/html": [
              "\n",
              "  <div id=\"df-7fe98a95-77d1-4d12-b936-b06b98c99647\" class=\"colab-df-container\">\n",
              "    <div>\n",
              "<style scoped>\n",
              "    .dataframe tbody tr th:only-of-type {\n",
              "        vertical-align: middle;\n",
              "    }\n",
              "\n",
              "    .dataframe tbody tr th {\n",
              "        vertical-align: top;\n",
              "    }\n",
              "\n",
              "    .dataframe thead th {\n",
              "        text-align: right;\n",
              "    }\n",
              "</style>\n",
              "<table border=\"1\" class=\"dataframe\">\n",
              "  <thead>\n",
              "    <tr style=\"text-align: right;\">\n",
              "      <th>Similar_To</th>\n",
              "      <th>0</th>\n",
              "      <th>1</th>\n",
              "      <th>2</th>\n",
              "      <th>3</th>\n",
              "      <th>4</th>\n",
              "      <th>5</th>\n",
              "      <th>6</th>\n",
              "      <th>7</th>\n",
              "      <th>8</th>\n",
              "      <th>9</th>\n",
              "      <th>...</th>\n",
              "      <th>455</th>\n",
              "      <th>456</th>\n",
              "      <th>457</th>\n",
              "      <th>458</th>\n",
              "      <th>459</th>\n",
              "      <th>460</th>\n",
              "      <th>461</th>\n",
              "      <th>462</th>\n",
              "      <th>463</th>\n",
              "      <th>464</th>\n",
              "    </tr>\n",
              "    <tr>\n",
              "      <th>Patient_ID</th>\n",
              "      <th></th>\n",
              "      <th></th>\n",
              "      <th></th>\n",
              "      <th></th>\n",
              "      <th></th>\n",
              "      <th></th>\n",
              "      <th></th>\n",
              "      <th></th>\n",
              "      <th></th>\n",
              "      <th></th>\n",
              "      <th></th>\n",
              "      <th></th>\n",
              "      <th></th>\n",
              "      <th></th>\n",
              "      <th></th>\n",
              "      <th></th>\n",
              "      <th></th>\n",
              "      <th></th>\n",
              "      <th></th>\n",
              "      <th></th>\n",
              "      <th></th>\n",
              "    </tr>\n",
              "  </thead>\n",
              "  <tbody>\n",
              "    <tr>\n",
              "      <th>0</th>\n",
              "      <td>1.0</td>\n",
              "      <td>1.0</td>\n",
              "      <td>1.0</td>\n",
              "      <td>1.0</td>\n",
              "      <td>1.0</td>\n",
              "      <td>1.0</td>\n",
              "      <td>1.0</td>\n",
              "      <td>1.0</td>\n",
              "      <td>1.0</td>\n",
              "      <td>1.0</td>\n",
              "      <td>...</td>\n",
              "      <td>1.0</td>\n",
              "      <td>1.0</td>\n",
              "      <td>1.0</td>\n",
              "      <td>1.0</td>\n",
              "      <td>1.0</td>\n",
              "      <td>1.0</td>\n",
              "      <td>-0.827</td>\n",
              "      <td>1.0</td>\n",
              "      <td>1.0</td>\n",
              "      <td>1.0</td>\n",
              "    </tr>\n",
              "    <tr>\n",
              "      <th>1</th>\n",
              "      <td>1.0</td>\n",
              "      <td>1.0</td>\n",
              "      <td>1.0</td>\n",
              "      <td>1.0</td>\n",
              "      <td>1.0</td>\n",
              "      <td>1.0</td>\n",
              "      <td>1.0</td>\n",
              "      <td>1.0</td>\n",
              "      <td>1.0</td>\n",
              "      <td>1.0</td>\n",
              "      <td>...</td>\n",
              "      <td>1.0</td>\n",
              "      <td>1.0</td>\n",
              "      <td>1.0</td>\n",
              "      <td>1.0</td>\n",
              "      <td>1.0</td>\n",
              "      <td>1.0</td>\n",
              "      <td>-0.827</td>\n",
              "      <td>1.0</td>\n",
              "      <td>1.0</td>\n",
              "      <td>1.0</td>\n",
              "    </tr>\n",
              "    <tr>\n",
              "      <th>2</th>\n",
              "      <td>1.0</td>\n",
              "      <td>1.0</td>\n",
              "      <td>1.0</td>\n",
              "      <td>1.0</td>\n",
              "      <td>1.0</td>\n",
              "      <td>1.0</td>\n",
              "      <td>1.0</td>\n",
              "      <td>1.0</td>\n",
              "      <td>1.0</td>\n",
              "      <td>1.0</td>\n",
              "      <td>...</td>\n",
              "      <td>1.0</td>\n",
              "      <td>1.0</td>\n",
              "      <td>1.0</td>\n",
              "      <td>1.0</td>\n",
              "      <td>1.0</td>\n",
              "      <td>1.0</td>\n",
              "      <td>-0.827</td>\n",
              "      <td>1.0</td>\n",
              "      <td>1.0</td>\n",
              "      <td>1.0</td>\n",
              "    </tr>\n",
              "    <tr>\n",
              "      <th>3</th>\n",
              "      <td>1.0</td>\n",
              "      <td>1.0</td>\n",
              "      <td>1.0</td>\n",
              "      <td>1.0</td>\n",
              "      <td>1.0</td>\n",
              "      <td>1.0</td>\n",
              "      <td>1.0</td>\n",
              "      <td>1.0</td>\n",
              "      <td>1.0</td>\n",
              "      <td>1.0</td>\n",
              "      <td>...</td>\n",
              "      <td>1.0</td>\n",
              "      <td>1.0</td>\n",
              "      <td>1.0</td>\n",
              "      <td>1.0</td>\n",
              "      <td>1.0</td>\n",
              "      <td>1.0</td>\n",
              "      <td>-0.827</td>\n",
              "      <td>1.0</td>\n",
              "      <td>1.0</td>\n",
              "      <td>1.0</td>\n",
              "    </tr>\n",
              "    <tr>\n",
              "      <th>4</th>\n",
              "      <td>1.0</td>\n",
              "      <td>1.0</td>\n",
              "      <td>1.0</td>\n",
              "      <td>1.0</td>\n",
              "      <td>1.0</td>\n",
              "      <td>1.0</td>\n",
              "      <td>1.0</td>\n",
              "      <td>1.0</td>\n",
              "      <td>1.0</td>\n",
              "      <td>1.0</td>\n",
              "      <td>...</td>\n",
              "      <td>1.0</td>\n",
              "      <td>1.0</td>\n",
              "      <td>1.0</td>\n",
              "      <td>1.0</td>\n",
              "      <td>1.0</td>\n",
              "      <td>1.0</td>\n",
              "      <td>-0.827</td>\n",
              "      <td>1.0</td>\n",
              "      <td>1.0</td>\n",
              "      <td>1.0</td>\n",
              "    </tr>\n",
              "    <tr>\n",
              "      <th>5</th>\n",
              "      <td>1.0</td>\n",
              "      <td>1.0</td>\n",
              "      <td>1.0</td>\n",
              "      <td>1.0</td>\n",
              "      <td>1.0</td>\n",
              "      <td>1.0</td>\n",
              "      <td>1.0</td>\n",
              "      <td>1.0</td>\n",
              "      <td>1.0</td>\n",
              "      <td>1.0</td>\n",
              "      <td>...</td>\n",
              "      <td>1.0</td>\n",
              "      <td>1.0</td>\n",
              "      <td>1.0</td>\n",
              "      <td>1.0</td>\n",
              "      <td>1.0</td>\n",
              "      <td>1.0</td>\n",
              "      <td>-0.827</td>\n",
              "      <td>1.0</td>\n",
              "      <td>1.0</td>\n",
              "      <td>1.0</td>\n",
              "    </tr>\n",
              "    <tr>\n",
              "      <th>6</th>\n",
              "      <td>1.0</td>\n",
              "      <td>1.0</td>\n",
              "      <td>1.0</td>\n",
              "      <td>1.0</td>\n",
              "      <td>1.0</td>\n",
              "      <td>1.0</td>\n",
              "      <td>1.0</td>\n",
              "      <td>1.0</td>\n",
              "      <td>1.0</td>\n",
              "      <td>1.0</td>\n",
              "      <td>...</td>\n",
              "      <td>1.0</td>\n",
              "      <td>1.0</td>\n",
              "      <td>1.0</td>\n",
              "      <td>1.0</td>\n",
              "      <td>1.0</td>\n",
              "      <td>1.0</td>\n",
              "      <td>-0.827</td>\n",
              "      <td>1.0</td>\n",
              "      <td>1.0</td>\n",
              "      <td>1.0</td>\n",
              "    </tr>\n",
              "    <tr>\n",
              "      <th>7</th>\n",
              "      <td>1.0</td>\n",
              "      <td>1.0</td>\n",
              "      <td>1.0</td>\n",
              "      <td>1.0</td>\n",
              "      <td>1.0</td>\n",
              "      <td>1.0</td>\n",
              "      <td>1.0</td>\n",
              "      <td>1.0</td>\n",
              "      <td>1.0</td>\n",
              "      <td>1.0</td>\n",
              "      <td>...</td>\n",
              "      <td>1.0</td>\n",
              "      <td>1.0</td>\n",
              "      <td>1.0</td>\n",
              "      <td>1.0</td>\n",
              "      <td>1.0</td>\n",
              "      <td>1.0</td>\n",
              "      <td>-0.827</td>\n",
              "      <td>1.0</td>\n",
              "      <td>1.0</td>\n",
              "      <td>1.0</td>\n",
              "    </tr>\n",
              "    <tr>\n",
              "      <th>8</th>\n",
              "      <td>1.0</td>\n",
              "      <td>1.0</td>\n",
              "      <td>1.0</td>\n",
              "      <td>1.0</td>\n",
              "      <td>1.0</td>\n",
              "      <td>1.0</td>\n",
              "      <td>1.0</td>\n",
              "      <td>1.0</td>\n",
              "      <td>1.0</td>\n",
              "      <td>1.0</td>\n",
              "      <td>...</td>\n",
              "      <td>1.0</td>\n",
              "      <td>1.0</td>\n",
              "      <td>1.0</td>\n",
              "      <td>1.0</td>\n",
              "      <td>1.0</td>\n",
              "      <td>1.0</td>\n",
              "      <td>-0.827</td>\n",
              "      <td>1.0</td>\n",
              "      <td>1.0</td>\n",
              "      <td>1.0</td>\n",
              "    </tr>\n",
              "    <tr>\n",
              "      <th>9</th>\n",
              "      <td>1.0</td>\n",
              "      <td>1.0</td>\n",
              "      <td>1.0</td>\n",
              "      <td>1.0</td>\n",
              "      <td>1.0</td>\n",
              "      <td>1.0</td>\n",
              "      <td>1.0</td>\n",
              "      <td>1.0</td>\n",
              "      <td>1.0</td>\n",
              "      <td>1.0</td>\n",
              "      <td>...</td>\n",
              "      <td>1.0</td>\n",
              "      <td>1.0</td>\n",
              "      <td>1.0</td>\n",
              "      <td>1.0</td>\n",
              "      <td>1.0</td>\n",
              "      <td>1.0</td>\n",
              "      <td>-0.825</td>\n",
              "      <td>1.0</td>\n",
              "      <td>1.0</td>\n",
              "      <td>1.0</td>\n",
              "    </tr>\n",
              "  </tbody>\n",
              "</table>\n",
              "<p>10 rows × 465 columns</p>\n",
              "</div>\n",
              "    <div class=\"colab-df-buttons\">\n",
              "\n",
              "  <div class=\"colab-df-container\">\n",
              "    <button class=\"colab-df-convert\" onclick=\"convertToInteractive('df-7fe98a95-77d1-4d12-b936-b06b98c99647')\"\n",
              "            title=\"Convert this dataframe to an interactive table.\"\n",
              "            style=\"display:none;\">\n",
              "\n",
              "  <svg xmlns=\"http://www.w3.org/2000/svg\" height=\"24px\" viewBox=\"0 -960 960 960\">\n",
              "    <path d=\"M120-120v-720h720v720H120Zm60-500h600v-160H180v160Zm220 220h160v-160H400v160Zm0 220h160v-160H400v160ZM180-400h160v-160H180v160Zm440 0h160v-160H620v160ZM180-180h160v-160H180v160Zm440 0h160v-160H620v160Z\"/>\n",
              "  </svg>\n",
              "    </button>\n",
              "\n",
              "  <style>\n",
              "    .colab-df-container {\n",
              "      display:flex;\n",
              "      gap: 12px;\n",
              "    }\n",
              "\n",
              "    .colab-df-convert {\n",
              "      background-color: #E8F0FE;\n",
              "      border: none;\n",
              "      border-radius: 50%;\n",
              "      cursor: pointer;\n",
              "      display: none;\n",
              "      fill: #1967D2;\n",
              "      height: 32px;\n",
              "      padding: 0 0 0 0;\n",
              "      width: 32px;\n",
              "    }\n",
              "\n",
              "    .colab-df-convert:hover {\n",
              "      background-color: #E2EBFA;\n",
              "      box-shadow: 0px 1px 2px rgba(60, 64, 67, 0.3), 0px 1px 3px 1px rgba(60, 64, 67, 0.15);\n",
              "      fill: #174EA6;\n",
              "    }\n",
              "\n",
              "    .colab-df-buttons div {\n",
              "      margin-bottom: 4px;\n",
              "    }\n",
              "\n",
              "    [theme=dark] .colab-df-convert {\n",
              "      background-color: #3B4455;\n",
              "      fill: #D2E3FC;\n",
              "    }\n",
              "\n",
              "    [theme=dark] .colab-df-convert:hover {\n",
              "      background-color: #434B5C;\n",
              "      box-shadow: 0px 1px 3px 1px rgba(0, 0, 0, 0.15);\n",
              "      filter: drop-shadow(0px 1px 2px rgba(0, 0, 0, 0.3));\n",
              "      fill: #FFFFFF;\n",
              "    }\n",
              "  </style>\n",
              "\n",
              "    <script>\n",
              "      const buttonEl =\n",
              "        document.querySelector('#df-7fe98a95-77d1-4d12-b936-b06b98c99647 button.colab-df-convert');\n",
              "      buttonEl.style.display =\n",
              "        google.colab.kernel.accessAllowed ? 'block' : 'none';\n",
              "\n",
              "      async function convertToInteractive(key) {\n",
              "        const element = document.querySelector('#df-7fe98a95-77d1-4d12-b936-b06b98c99647');\n",
              "        const dataTable =\n",
              "          await google.colab.kernel.invokeFunction('convertToInteractive',\n",
              "                                                    [key], {});\n",
              "        if (!dataTable) return;\n",
              "\n",
              "        const docLinkHtml = 'Like what you see? Visit the ' +\n",
              "          '<a target=\"_blank\" href=https://colab.research.google.com/notebooks/data_table.ipynb>data table notebook</a>'\n",
              "          + ' to learn more about interactive tables.';\n",
              "        element.innerHTML = '';\n",
              "        dataTable['output_type'] = 'display_data';\n",
              "        await google.colab.output.renderOutput(dataTable, element);\n",
              "        const docLink = document.createElement('div');\n",
              "        docLink.innerHTML = docLinkHtml;\n",
              "        element.appendChild(docLink);\n",
              "      }\n",
              "    </script>\n",
              "  </div>\n",
              "\n",
              "\n",
              "<div id=\"df-701b4e65-5eac-45fd-9080-a25bc8076ca6\">\n",
              "  <button class=\"colab-df-quickchart\" onclick=\"quickchart('df-701b4e65-5eac-45fd-9080-a25bc8076ca6')\"\n",
              "            title=\"Suggest charts\"\n",
              "            style=\"display:none;\">\n",
              "\n",
              "<svg xmlns=\"http://www.w3.org/2000/svg\" height=\"24px\"viewBox=\"0 0 24 24\"\n",
              "     width=\"24px\">\n",
              "    <g>\n",
              "        <path d=\"M19 3H5c-1.1 0-2 .9-2 2v14c0 1.1.9 2 2 2h14c1.1 0 2-.9 2-2V5c0-1.1-.9-2-2-2zM9 17H7v-7h2v7zm4 0h-2V7h2v10zm4 0h-2v-4h2v4z\"/>\n",
              "    </g>\n",
              "</svg>\n",
              "  </button>\n",
              "\n",
              "<style>\n",
              "  .colab-df-quickchart {\n",
              "      --bg-color: #E8F0FE;\n",
              "      --fill-color: #1967D2;\n",
              "      --hover-bg-color: #E2EBFA;\n",
              "      --hover-fill-color: #174EA6;\n",
              "      --disabled-fill-color: #AAA;\n",
              "      --disabled-bg-color: #DDD;\n",
              "  }\n",
              "\n",
              "  [theme=dark] .colab-df-quickchart {\n",
              "      --bg-color: #3B4455;\n",
              "      --fill-color: #D2E3FC;\n",
              "      --hover-bg-color: #434B5C;\n",
              "      --hover-fill-color: #FFFFFF;\n",
              "      --disabled-bg-color: #3B4455;\n",
              "      --disabled-fill-color: #666;\n",
              "  }\n",
              "\n",
              "  .colab-df-quickchart {\n",
              "    background-color: var(--bg-color);\n",
              "    border: none;\n",
              "    border-radius: 50%;\n",
              "    cursor: pointer;\n",
              "    display: none;\n",
              "    fill: var(--fill-color);\n",
              "    height: 32px;\n",
              "    padding: 0;\n",
              "    width: 32px;\n",
              "  }\n",
              "\n",
              "  .colab-df-quickchart:hover {\n",
              "    background-color: var(--hover-bg-color);\n",
              "    box-shadow: 0 1px 2px rgba(60, 64, 67, 0.3), 0 1px 3px 1px rgba(60, 64, 67, 0.15);\n",
              "    fill: var(--button-hover-fill-color);\n",
              "  }\n",
              "\n",
              "  .colab-df-quickchart-complete:disabled,\n",
              "  .colab-df-quickchart-complete:disabled:hover {\n",
              "    background-color: var(--disabled-bg-color);\n",
              "    fill: var(--disabled-fill-color);\n",
              "    box-shadow: none;\n",
              "  }\n",
              "\n",
              "  .colab-df-spinner {\n",
              "    border: 2px solid var(--fill-color);\n",
              "    border-color: transparent;\n",
              "    border-bottom-color: var(--fill-color);\n",
              "    animation:\n",
              "      spin 1s steps(1) infinite;\n",
              "  }\n",
              "\n",
              "  @keyframes spin {\n",
              "    0% {\n",
              "      border-color: transparent;\n",
              "      border-bottom-color: var(--fill-color);\n",
              "      border-left-color: var(--fill-color);\n",
              "    }\n",
              "    20% {\n",
              "      border-color: transparent;\n",
              "      border-left-color: var(--fill-color);\n",
              "      border-top-color: var(--fill-color);\n",
              "    }\n",
              "    30% {\n",
              "      border-color: transparent;\n",
              "      border-left-color: var(--fill-color);\n",
              "      border-top-color: var(--fill-color);\n",
              "      border-right-color: var(--fill-color);\n",
              "    }\n",
              "    40% {\n",
              "      border-color: transparent;\n",
              "      border-right-color: var(--fill-color);\n",
              "      border-top-color: var(--fill-color);\n",
              "    }\n",
              "    60% {\n",
              "      border-color: transparent;\n",
              "      border-right-color: var(--fill-color);\n",
              "    }\n",
              "    80% {\n",
              "      border-color: transparent;\n",
              "      border-right-color: var(--fill-color);\n",
              "      border-bottom-color: var(--fill-color);\n",
              "    }\n",
              "    90% {\n",
              "      border-color: transparent;\n",
              "      border-bottom-color: var(--fill-color);\n",
              "    }\n",
              "  }\n",
              "</style>\n",
              "\n",
              "  <script>\n",
              "    async function quickchart(key) {\n",
              "      const quickchartButtonEl =\n",
              "        document.querySelector('#' + key + ' button');\n",
              "      quickchartButtonEl.disabled = true;  // To prevent multiple clicks.\n",
              "      quickchartButtonEl.classList.add('colab-df-spinner');\n",
              "      try {\n",
              "        const charts = await google.colab.kernel.invokeFunction(\n",
              "            'suggestCharts', [key], {});\n",
              "      } catch (error) {\n",
              "        console.error('Error during call to suggestCharts:', error);\n",
              "      }\n",
              "      quickchartButtonEl.classList.remove('colab-df-spinner');\n",
              "      quickchartButtonEl.classList.add('colab-df-quickchart-complete');\n",
              "    }\n",
              "    (() => {\n",
              "      let quickchartButtonEl =\n",
              "        document.querySelector('#df-701b4e65-5eac-45fd-9080-a25bc8076ca6 button');\n",
              "      quickchartButtonEl.style.display =\n",
              "        google.colab.kernel.accessAllowed ? 'block' : 'none';\n",
              "    })();\n",
              "  </script>\n",
              "</div>\n",
              "\n",
              "    </div>\n",
              "  </div>\n"
            ],
            "text/plain": [
              "Similar_To  0    1    2    3    4    5    6    7    8    9    ...  455  456  \\\n",
              "Patient_ID                                                    ...             \n",
              "0           1.0  1.0  1.0  1.0  1.0  1.0  1.0  1.0  1.0  1.0  ...  1.0  1.0   \n",
              "1           1.0  1.0  1.0  1.0  1.0  1.0  1.0  1.0  1.0  1.0  ...  1.0  1.0   \n",
              "2           1.0  1.0  1.0  1.0  1.0  1.0  1.0  1.0  1.0  1.0  ...  1.0  1.0   \n",
              "3           1.0  1.0  1.0  1.0  1.0  1.0  1.0  1.0  1.0  1.0  ...  1.0  1.0   \n",
              "4           1.0  1.0  1.0  1.0  1.0  1.0  1.0  1.0  1.0  1.0  ...  1.0  1.0   \n",
              "5           1.0  1.0  1.0  1.0  1.0  1.0  1.0  1.0  1.0  1.0  ...  1.0  1.0   \n",
              "6           1.0  1.0  1.0  1.0  1.0  1.0  1.0  1.0  1.0  1.0  ...  1.0  1.0   \n",
              "7           1.0  1.0  1.0  1.0  1.0  1.0  1.0  1.0  1.0  1.0  ...  1.0  1.0   \n",
              "8           1.0  1.0  1.0  1.0  1.0  1.0  1.0  1.0  1.0  1.0  ...  1.0  1.0   \n",
              "9           1.0  1.0  1.0  1.0  1.0  1.0  1.0  1.0  1.0  1.0  ...  1.0  1.0   \n",
              "\n",
              "Similar_To  457  458  459  460    461  462  463  464  \n",
              "Patient_ID                                            \n",
              "0           1.0  1.0  1.0  1.0 -0.827  1.0  1.0  1.0  \n",
              "1           1.0  1.0  1.0  1.0 -0.827  1.0  1.0  1.0  \n",
              "2           1.0  1.0  1.0  1.0 -0.827  1.0  1.0  1.0  \n",
              "3           1.0  1.0  1.0  1.0 -0.827  1.0  1.0  1.0  \n",
              "4           1.0  1.0  1.0  1.0 -0.827  1.0  1.0  1.0  \n",
              "5           1.0  1.0  1.0  1.0 -0.827  1.0  1.0  1.0  \n",
              "6           1.0  1.0  1.0  1.0 -0.827  1.0  1.0  1.0  \n",
              "7           1.0  1.0  1.0  1.0 -0.827  1.0  1.0  1.0  \n",
              "8           1.0  1.0  1.0  1.0 -0.827  1.0  1.0  1.0  \n",
              "9           1.0  1.0  1.0  1.0 -0.825  1.0  1.0  1.0  \n",
              "\n",
              "[10 rows x 465 columns]"
            ]
          },
          "execution_count": 109,
          "metadata": {},
          "output_type": "execute_result"
        }
      ],
      "source": [
        "from sklearn.metrics.pairwise import cosine_similarity\n",
        "import pandas as pd\n",
        "\n",
        "# Convert to numpy\n",
        "embedding_matrix = embeddings.numpy()\n",
        "\n",
        "# Cosine similarity between each pair of patients\n",
        "similarity_matrix = cosine_similarity(embedding_matrix)\n",
        "\n",
        "# Optional: create a DataFrame for better readability\n",
        "similarity_df = pd.DataFrame(similarity_matrix)\n",
        "similarity_df.index.name = \"Patient_ID\"\n",
        "similarity_df.columns.name = \"Similar_To\"\n",
        "similarity_df.round(3).head(10)  # Show top 10x10 matrix"
      ]
    },
    {
      "cell_type": "markdown",
      "metadata": {
        "id": "oBH4mX9MLHaI"
      },
      "source": [
        "# 3. Find Most Similar Patients"
      ]
    },
    {
      "cell_type": "code",
      "execution_count": 110,
      "metadata": {
        "colab": {
          "base_uri": "https://localhost:8080/"
        },
        "id": "6pdZrhmtYnd0",
        "outputId": "d0e471ed-df43-4394-d460-5f6067ed8662"
      },
      "outputs": [
        {
          "name": "stdout",
          "output_type": "stream",
          "text": [
            "Top similar patients to patient 3:\n",
            "Patient 365 with similarity score: 1.000\n",
            "Patient 451 with similarity score: 1.000\n",
            "Patient 400 with similarity score: 1.000\n",
            "Patient 320 with similarity score: 1.000\n",
            "Patient 387 with similarity score: 1.000\n"
          ]
        }
      ],
      "source": [
        "def find_similar_patients(patient_id, top_k=5):\n",
        "    sim_scores = similarity_matrix[patient_id]\n",
        "    top_indices = sim_scores.argsort()[::-1][1:top_k+1]  # Skip self\n",
        "    return top_indices, sim_scores[top_indices]\n",
        "\n",
        "# Example: get top 5 most similar to patient 3\n",
        "similar_ids, similarities = find_similar_patients(3)\n",
        "print(\"Top similar patients to patient 3:\")\n",
        "for pid, score in zip(similar_ids, similarities):\n",
        "    print(f\"Patient {pid} with similarity score: {score:.3f}\")"
      ]
    },
    {
      "cell_type": "markdown",
      "metadata": {
        "id": "Q5ffTLmWLP_q"
      },
      "source": [
        "# 4. Visualize the Graph with Similarity-Based Colors (Optional)"
      ]
    },
    {
      "cell_type": "code",
      "execution_count": 68,
      "metadata": {
        "id": "b2-xW1lOYnaC"
      },
      "outputs": [],
      "source": [
        "from torch_geometric.utils import to_networkx\n"
      ]
    },
    {
      "cell_type": "code",
      "execution_count": 39,
      "metadata": {
        "colab": {
          "base_uri": "https://localhost:8080/",
          "height": 1000
        },
        "id": "CkqlSJdEYnSV",
        "outputId": "2bc649fe-f850-450a-8f43-5558d06a2e94"
      },
      "outputs": [
        {
          "ename": "ValueError",
          "evalue": "Unable to determine Axes to steal space for Colorbar. Either provide the *cax* argument to use as the Axes for the Colorbar, provide the *ax* argument to steal space from it, or add *mappable* to an Axes.",
          "output_type": "error",
          "traceback": [
            "\u001b[0;31m---------------------------------------------------------------------------\u001b[0m",
            "\u001b[0;31mValueError\u001b[0m                                Traceback (most recent call last)",
            "\u001b[0;32m<ipython-input-39-6e475e352ddc>\u001b[0m in \u001b[0;36m<cell line: 0>\u001b[0;34m()\u001b[0m\n\u001b[1;32m     12\u001b[0m \u001b[0mnx\u001b[0m\u001b[0;34m.\u001b[0m\u001b[0mdraw\u001b[0m\u001b[0;34m(\u001b[0m\u001b[0mG_nx\u001b[0m\u001b[0;34m,\u001b[0m \u001b[0mnode_color\u001b[0m\u001b[0;34m=\u001b[0m\u001b[0mcolors\u001b[0m\u001b[0;34m,\u001b[0m \u001b[0mwith_labels\u001b[0m\u001b[0;34m=\u001b[0m\u001b[0;32mTrue\u001b[0m\u001b[0;34m,\u001b[0m \u001b[0mcmap\u001b[0m\u001b[0;34m=\u001b[0m\u001b[0mplt\u001b[0m\u001b[0;34m.\u001b[0m\u001b[0mcm\u001b[0m\u001b[0;34m.\u001b[0m\u001b[0mcoolwarm\u001b[0m\u001b[0;34m,\u001b[0m \u001b[0mnode_size\u001b[0m\u001b[0;34m=\u001b[0m\u001b[0;36m300\u001b[0m\u001b[0;34m)\u001b[0m\u001b[0;34m\u001b[0m\u001b[0;34m\u001b[0m\u001b[0m\n\u001b[1;32m     13\u001b[0m \u001b[0mplt\u001b[0m\u001b[0;34m.\u001b[0m\u001b[0mtitle\u001b[0m\u001b[0;34m(\u001b[0m\u001b[0;34m\"Patient Graph: Node Color Indicates Similarity to Patient 3\"\u001b[0m\u001b[0;34m)\u001b[0m\u001b[0;34m\u001b[0m\u001b[0;34m\u001b[0m\u001b[0m\n\u001b[0;32m---> 14\u001b[0;31m \u001b[0mplt\u001b[0m\u001b[0;34m.\u001b[0m\u001b[0mcolorbar\u001b[0m\u001b[0;34m(\u001b[0m\u001b[0mplt\u001b[0m\u001b[0;34m.\u001b[0m\u001b[0mcm\u001b[0m\u001b[0;34m.\u001b[0m\u001b[0mScalarMappable\u001b[0m\u001b[0;34m(\u001b[0m\u001b[0mcmap\u001b[0m\u001b[0;34m=\u001b[0m\u001b[0mplt\u001b[0m\u001b[0;34m.\u001b[0m\u001b[0mcm\u001b[0m\u001b[0;34m.\u001b[0m\u001b[0mcoolwarm\u001b[0m\u001b[0;34m)\u001b[0m\u001b[0;34m,\u001b[0m \u001b[0mlabel\u001b[0m\u001b[0;34m=\u001b[0m\u001b[0;34m\"Cosine Similarity\"\u001b[0m\u001b[0;34m)\u001b[0m\u001b[0;34m\u001b[0m\u001b[0;34m\u001b[0m\u001b[0m\n\u001b[0m\u001b[1;32m     15\u001b[0m \u001b[0mplt\u001b[0m\u001b[0;34m.\u001b[0m\u001b[0mshow\u001b[0m\u001b[0;34m(\u001b[0m\u001b[0;34m)\u001b[0m\u001b[0;34m\u001b[0m\u001b[0;34m\u001b[0m\u001b[0m\n",
            "\u001b[0;32m/usr/local/lib/python3.11/dist-packages/matplotlib/pyplot.py\u001b[0m in \u001b[0;36mcolorbar\u001b[0;34m(mappable, cax, ax, **kwargs)\u001b[0m\n\u001b[1;32m   2530\u001b[0m                                \u001b[0;34m'an image (with imshow) or a contour set ('\u001b[0m\u001b[0;34m\u001b[0m\u001b[0;34m\u001b[0m\u001b[0m\n\u001b[1;32m   2531\u001b[0m                                'with contourf).')\n\u001b[0;32m-> 2532\u001b[0;31m     \u001b[0mret\u001b[0m \u001b[0;34m=\u001b[0m \u001b[0mgcf\u001b[0m\u001b[0;34m(\u001b[0m\u001b[0;34m)\u001b[0m\u001b[0;34m.\u001b[0m\u001b[0mcolorbar\u001b[0m\u001b[0;34m(\u001b[0m\u001b[0mmappable\u001b[0m\u001b[0;34m,\u001b[0m \u001b[0mcax\u001b[0m\u001b[0;34m=\u001b[0m\u001b[0mcax\u001b[0m\u001b[0;34m,\u001b[0m \u001b[0max\u001b[0m\u001b[0;34m=\u001b[0m\u001b[0max\u001b[0m\u001b[0;34m,\u001b[0m \u001b[0;34m**\u001b[0m\u001b[0mkwargs\u001b[0m\u001b[0;34m)\u001b[0m\u001b[0;34m\u001b[0m\u001b[0;34m\u001b[0m\u001b[0m\n\u001b[0m\u001b[1;32m   2533\u001b[0m     \u001b[0;32mreturn\u001b[0m \u001b[0mret\u001b[0m\u001b[0;34m\u001b[0m\u001b[0;34m\u001b[0m\u001b[0m\n\u001b[1;32m   2534\u001b[0m \u001b[0;34m\u001b[0m\u001b[0m\n",
            "\u001b[0;32m/usr/local/lib/python3.11/dist-packages/matplotlib/figure.py\u001b[0m in \u001b[0;36mcolorbar\u001b[0;34m(self, mappable, cax, ax, use_gridspec, **kwargs)\u001b[0m\n\u001b[1;32m   1271\u001b[0m         \u001b[0;32mif\u001b[0m \u001b[0mcax\u001b[0m \u001b[0;32mis\u001b[0m \u001b[0;32mNone\u001b[0m\u001b[0;34m:\u001b[0m\u001b[0;34m\u001b[0m\u001b[0;34m\u001b[0m\u001b[0m\n\u001b[1;32m   1272\u001b[0m             \u001b[0;32mif\u001b[0m \u001b[0max\u001b[0m \u001b[0;32mis\u001b[0m \u001b[0;32mNone\u001b[0m\u001b[0;34m:\u001b[0m\u001b[0;34m\u001b[0m\u001b[0;34m\u001b[0m\u001b[0m\n\u001b[0;32m-> 1273\u001b[0;31m                 raise ValueError(\n\u001b[0m\u001b[1;32m   1274\u001b[0m                     \u001b[0;34m'Unable to determine Axes to steal space for Colorbar. '\u001b[0m\u001b[0;34m\u001b[0m\u001b[0;34m\u001b[0m\u001b[0m\n\u001b[1;32m   1275\u001b[0m                     \u001b[0;34m'Either provide the *cax* argument to use as the Axes for '\u001b[0m\u001b[0;34m\u001b[0m\u001b[0;34m\u001b[0m\u001b[0m\n",
            "\u001b[0;31mValueError\u001b[0m: Unable to determine Axes to steal space for Colorbar. Either provide the *cax* argument to use as the Axes for the Colorbar, provide the *ax* argument to steal space from it, or add *mappable* to an Axes."
          ]
        },
        {
          "data": {
            "image/png": "[encoded data removed]",
            "text/plain": [
              "<Figure size 1000x600 with 1 Axes>"
            ]
          },
          "metadata": {},
          "output_type": "display_data"
        }
      ],
      "source": [
        "import matplotlib.pyplot as plt\n",
        "import networkx as nx\n",
        "\n",
        "# Convert PyG back to NetworkX for visualization\n",
        "G_nx = to_networkx(pyg_data)\n",
        "\n",
        "# Use similarity to a patient as color (e.g. to patient 3)\n",
        "similarity_to_p3 = similarity_matrix[3]\n",
        "colors = similarity_to_p3\n",
        "\n",
        "plt.figure(figsize=(10, 6))\n",
        "nx.draw(G_nx, node_color=colors, with_labels=True, cmap=plt.cm.coolwarm, node_size=300)\n",
        "plt.title(\"Patient Graph: Node Color Indicates Similarity to Patient 3\")\n",
        "plt.colorbar(plt.cm.ScalarMappable(cmap=plt.cm.coolwarm), label=\"Cosine Similarity\")\n",
        "plt.show()"
      ]
    },
    {
      "cell_type": "code",
      "execution_count": 69,
      "metadata": {
        "colab": {
          "base_uri": "https://localhost:8080/",
          "height": 859
        },
        "id": "kFFA4fkVLfYU",
        "outputId": "f19f5f53-b7ed-4623-fe09-3cc6919d02de"
      },
      "outputs": [
        {
          "data": {
            "image/png": "[encoded data removed]",
            "text/plain": [
              "<Figure size 800x800 with 1 Axes>"
            ]
          },
          "metadata": {},
          "output_type": "display_data"
        }
      ],
      "source": [
        "from torch_geometric.utils import to_networkx\n",
        "import matplotlib.pyplot as plt\n",
        "\n",
        "G = to_networkx(pyg_data)\n",
        "plt.figure(figsize=(8, 8))\n",
        "nx.draw(G, with_labels=True, node_size=100, font_size=8)\n",
        "plt.title(\"Graph from data.edge_index\")\n",
        "plt.show()"
      ]
    },
    {
      "cell_type": "code",
      "execution_count": 70,
      "metadata": {
        "colab": {
          "base_uri": "https://localhost:8080/",
          "height": 807
        },
        "id": "7nqbvTWYLfRd",
        "outputId": "4d965a72-cbd5-4243-ebc8-f28abb9cc9c1"
      },
      "outputs": [
        {
          "data": {
            "image/png": "[encoded data removed]",
            "text/plain": [
              "<Figure size 800x800 with 2 Axes>"
            ]
          },
          "metadata": {},
          "output_type": "display_data"
        }
      ],
      "source": [
        "import torch\n",
        "import matplotlib.pyplot as plt\n",
        "import networkx as nx\n",
        "from torch_geometric.utils import to_networkx\n",
        "\n",
        "# Convert PyG graph to NetworkX\n",
        "G = to_networkx(pyg_data)\n",
        "\n",
        "# Optional: color nodes by feature or degree\n",
        "node_color = pyg_data.x[:, 0].cpu().numpy()  # example: use first feature\n",
        "\n",
        "# Plot\n",
        "fig, ax = plt.subplots(figsize=(8, 8))\n",
        "pos = nx.spring_layout(G)  # layout\n",
        "nodes = nx.draw_networkx_nodes(G, pos, node_color=node_color, cmap='viridis', ax=ax)\n",
        "nx.draw_networkx_edges(G, pos, ax=ax)\n",
        "nx.draw_networkx_labels(G, pos, font_size=8, ax=ax)\n",
        "\n",
        "# Add colorbar\n",
        "sm = plt.cm.ScalarMappable(cmap='viridis')\n",
        "sm.set_array(node_color)\n",
        "plt.colorbar(sm, ax=ax)\n",
        "\n",
        "plt.title(\"Patient Graph Colored by Feature 0\")\n",
        "plt.axis('off')\n",
        "plt.tight_layout()\n",
        "plt.show()"
      ]
    },
    {
      "cell_type": "code",
      "execution_count": null,
      "metadata": {
        "id": "yuGK98P-LfPk"
      },
      "outputs": [],
      "source": []
    },
    {
      "cell_type": "code",
      "execution_count": null,
      "metadata": {
        "id": "4MkBtPZ4LfI7"
      },
      "outputs": [],
      "source": []
    },
    {
      "cell_type": "code",
      "execution_count": null,
      "metadata": {
        "id": "lsjJScUsLfGb"
      },
      "outputs": [],
      "source": []
    },
    {
      "cell_type": "code",
      "execution_count": null,
      "metadata": {
        "id": "X3nSC2WeLfBe"
      },
      "outputs": [],
      "source": []
    },
    {
      "cell_type": "code",
      "execution_count": null,
      "metadata": {
        "id": "ojv1JuPaLe02"
      },
      "outputs": [],
      "source": []
    },
    {
      "cell_type": "code",
      "execution_count": null,
      "metadata": {
        "id": "2wPTFlikYnP0"
      },
      "outputs": [],
      "source": []
    },
    {
      "cell_type": "code",
      "execution_count": null,
      "metadata": {
        "id": "9mwWlgFgYnGY"
      },
      "outputs": [],
      "source": []
    },
    {
      "cell_type": "code",
      "execution_count": null,
      "metadata": {
        "id": "JSEkUHBhYnD_"
      },
      "outputs": [],
      "source": []
    },
    {
      "cell_type": "code",
      "execution_count": null,
      "metadata": {
        "id": "5H__ynnkYnAc"
      },
      "outputs": [],
      "source": []
    },
    {
      "cell_type": "code",
      "execution_count": 16,
      "metadata": {
        "id": "UaXN4_LnYm6N"
      },
      "outputs": [],
      "source": [
        "import networkx as nx\n",
        "import numpy as np\n",
        "\n",
        "G = nx.Graph()\n",
        "\n",
        "# Add nodes with features\n",
        "G.add_node(4074, similarity=np.float64(0.202), size=10)\n",
        "G.add_node(90889, similarity=np.float64(0.116), size=10)\n",
        "G.add_node(72753, similarity=np.float64(0.202), size=10)\n",
        "G.add_node(64908, similarity=np.float64(0.148), size=10)\n",
        "G.add_node(70273, similarity=np.float64(0.148), size=10)\n",
        "\n",
        "# Add some example edges\n",
        "G.add_edges_from([\n",
        "    (4074, 90889),\n",
        "    (4074, 72753),\n",
        "    (72753, 70273),\n",
        "    (64908, 70273)\n",
        "])\n"
      ]
    },
    {
      "cell_type": "code",
      "execution_count": 35,
      "metadata": {
        "colab": {
          "base_uri": "https://localhost:8080/"
        },
        "id": "5qtBQy84ZIar",
        "outputId": "badc7999-d8d6-4d92-e546-1867563ba57e"
      },
      "outputs": [
        {
          "name": "stdout",
          "output_type": "stream",
          "text": [
            "{'gender': 'M', 'age': '2121-08-01 00:00:00', 'age_bucket': 80, 'hadm_id': 137421, 'size': 10, 'x': [0, 80, 137421, 10]}\n",
            "{'gender': 'M', 'age': '2095-04-29 00:00:00', 'age_bucket': 55, 'hadm_id': 168745, 'size': 10, 'x': [0, 55, 168745, 10]}\n",
            "{'gender': 'M', 'age': '2042-06-01 00:00:00', 'age_bucket': 85, 'hadm_id': 144029, 'size': 10, 'x': [0, 85, 144029, 10]}\n",
            "{'gender': 'M', 'age': '2108-04-22 00:00:00', 'age_bucket': 75, 'hadm_id': 172851, 'size': 10, 'x': [0, 75, 172851, 10]}\n",
            "{'gender': 'F', 'age': '2090-05-28 00:00:00', 'age_bucket': 75, 'hadm_id': 102912, 'size': 10, 'x': [1, 75, 102912, 10]}\n"
          ]
        }
      ],
      "source": [
        "for node in G.nodes():\n",
        "    print(G.nodes[node])"
      ]
    },
    {
      "cell_type": "code",
      "execution_count": 46,
      "metadata": {
        "id": "VHlFZa7Jifvm"
      },
      "outputs": [],
      "source": [
        "def get_icd9_list(G):\n",
        "\n",
        "    iter = G.edges(data=True)\n",
        "    count = 0\n",
        "\n",
        "    icd9_set = set()\n",
        "\n",
        "    for edge in iter:\n",
        "\n",
        "        icd9_set.add(edge[2]['icd9'])\n",
        "\n",
        "    # print(icd9_set)\n",
        "    # print(list(icd9_set))\n",
        "    return list(icd9_set)\n"
      ]
    },
    {
      "cell_type": "code",
      "execution_count": 47,
      "metadata": {
        "colab": {
          "base_uri": "https://localhost:8080/"
        },
        "id": "p2TYJCbLjLE_",
        "outputId": "e8fcf852-c604-42ff-add5-c400f9eefd1c"
      },
      "outputs": [
        {
          "data": {
            "text/plain": [
              "['5789', '2724', 'V5861', '496', '42731', 'V1046', '2720']"
            ]
          },
          "execution_count": 47,
          "metadata": {},
          "output_type": "execute_result"
        }
      ],
      "source": [
        "get_icd9_list(G)"
      ]
    },
    {
      "cell_type": "code",
      "execution_count": 50,
      "metadata": {
        "colab": {
          "base_uri": "https://localhost:8080/"
        },
        "id": "OZtbizS_fH9k",
        "outputId": "7690872d-d5ef-4513-81d2-156a9a12753c"
      },
      "outputs": [
        {
          "name": "stdout",
          "output_type": "stream",
          "text": [
            "Each edge has the source patient subject id, and the target patient subject id followed with a dictionary\n",
            "Edges in the networkx graph:\n",
            "\t(4074, 90889, {'icd9': '2724', 'short_title': 'Hyperlipidemia NEC/NOS', 'width': 1})\n",
            "\t(4074, 64908, {'icd9': '5789', 'short_title': 'Gastrointest hemorr NOS', 'width': 1})\n",
            "\t(4074, 72753, {'icd9': 'V1046', 'short_title': 'Hx-prostatic malignancy', 'width': 1})\n",
            "set()\n",
            "[]\n"
          ]
        }
      ],
      "source": [
        "iter = G.edges(data=True)\n",
        "count = 0\n",
        "\n",
        "icd9_set = set()\n",
        "\n",
        "print(\"Each edge has the source patient subject id, and the target patient subject id followed with a dictionary\")\n",
        "print(\"Edges in the networkx graph:\")\n",
        "for edge in iter:\n",
        "    # some prints to help understand the structure of the edges\n",
        "    print(f\"\\t{edge}\")\n",
        "    # print(edge[2]['icd9'])\n",
        "    # icd9_set.add(edge[2]['icd9'])\n",
        "\n",
        "    count += 1\n",
        "    if count > 5:\n",
        "        break\n",
        "\n",
        "    count += 1\n",
        "    if count > 5:\n",
        "        break\n",
        "print(icd9_set)\n",
        "print(list(icd9_set))"
      ]
    },
    {
      "cell_type": "code",
      "execution_count": 51,
      "metadata": {
        "colab": {
          "base_uri": "https://localhost:8080/"
        },
        "id": "Fo5oti8qaL2H",
        "outputId": "b24e4284-a9c9-49be-ae33-b79a72ae25e0"
      },
      "outputs": [
        {
          "name": "stdout",
          "output_type": "stream",
          "text": [
            "Data(x=[5, 4], edge_index=[2, 14], edge_attr=[14, 2], gender=[5], age=[5], age_bucket=[5], hadm_id=[5], size=[5], icd9=[14], short_title=[14], width=[14], icd9_code=[14])\n"
          ]
        }
      ],
      "source": [
        "from torch_geometric.utils import from_networkx\n",
        "import torch\n",
        "\n",
        "\n",
        "# Define encoding for gender\n",
        "gender_map = {'M': 0, 'F': 1}\n",
        "# Select the features to include in the node feature matrix\n",
        "for node in G.nodes():\n",
        "\n",
        "# now we will add the nodes to torch geometric, we need to map categorical values to int\n",
        "    gender = gender_map[G.nodes[node]['gender']]\n",
        "    age_bucket = G.nodes[node]['age_bucket']\n",
        "    hadm_id = G.nodes[node]['hadm_id']\n",
        "    size = G.nodes[node]['size']\n",
        "    G.nodes[node]['x'] = [gender, age_bucket, hadm_id, size]\n",
        "\n",
        "    # You can normalize or scale here if needed\n",
        "\n",
        "# now we are going to add the edges to torch geometric\n",
        "# define the encoding for icd9\n",
        "icd9_map = {code: i for i, code in enumerate(icd9_list)}\n",
        "# short_title_map = {title: i for i, title in enumerate(short_title_list)}\n",
        "\n",
        "# now we will convert the edges in valid datatypes\n",
        "for u, v, attr in G.edges(data=True):\n",
        "    attr['icd9_code'] = icd9_map[attr['icd9']]\n",
        "\n",
        "    attr['edge_attr'] = [attr['icd9_code'], attr['width']]\n",
        "    G.add_edge(u, v, **attr)\n",
        "\n",
        "\n",
        "# Convert the NetworkX graph to a PyG Data object\n",
        "data = from_networkx(G)\n",
        "\n",
        "# Rename 'x' field to match PyG format\n",
        "data.x = torch.tensor([G.nodes[n]['x'] for n in G.nodes], dtype=torch.float)\n",
        "\n",
        "# Edge index is already handled by from_networkx\n",
        "print(data)"
      ]
    },
    {
      "cell_type": "code",
      "execution_count": 52,
      "metadata": {
        "colab": {
          "base_uri": "https://localhost:8080/"
        },
        "id": "nVU_hATAeT5L",
        "outputId": "8fc024cb-e10e-4a17-d7a2-7c36798d37f5"
      },
      "outputs": [
        {
          "data": {
            "text/plain": [
              "tensor([[0.0000e+00, 8.0000e+01, 1.3742e+05, 1.0000e+01],\n",
              "        [0.0000e+00, 5.5000e+01, 1.6874e+05, 1.0000e+01],\n",
              "        [0.0000e+00, 8.5000e+01, 1.4403e+05, 1.0000e+01],\n",
              "        [0.0000e+00, 7.5000e+01, 1.7285e+05, 1.0000e+01],\n",
              "        [1.0000e+00, 7.5000e+01, 1.0291e+05, 1.0000e+01]])"
            ]
          },
          "execution_count": 52,
          "metadata": {},
          "output_type": "execute_result"
        }
      ],
      "source": [
        "data.x"
      ]
    },
    {
      "cell_type": "code",
      "execution_count": 26,
      "metadata": {
        "colab": {
          "base_uri": "https://localhost:8080/"
        },
        "id": "ovtUmhV1YpqB",
        "outputId": "91b102dc-1e33-4740-a2cc-3898ff14ca65"
      },
      "outputs": [
        {
          "name": "stdout",
          "output_type": "stream",
          "text": [
            "Data(x=[5, 2], edge_index=[2, 18], similarity=[5], size=[5], edge_similarity=[18], width=[18])\n"
          ]
        }
      ],
      "source": [
        "from torch_geometric.utils import from_networkx\n",
        "import torch\n",
        "\n",
        "# Select the features to include in the node feature matrix\n",
        "for node in G_sim.nodes():\n",
        "    # You can normalize or scale here if needed\n",
        "    G_sim.nodes[node]['x'] = [float(G_sim.nodes[node]['similarity']), G_sim.nodes[node]['size']]\n",
        "\n",
        "# Convert the NetworkX graph to a PyG Data object\n",
        "data = from_networkx(G_sim)\n",
        "\n",
        "# Rename 'x' field to match PyG format\n",
        "data.x = torch.tensor([G_sim.nodes[n]['x'] for n in G_sim.nodes], dtype=torch.float)\n",
        "\n",
        "# Edge index is already handled by from_networkx\n",
        "print(data)\n"
      ]
    },
    {
      "cell_type": "code",
      "execution_count": 27,
      "metadata": {
        "colab": {
          "base_uri": "https://localhost:8080/"
        },
        "id": "YUlNSsAVZ0a2",
        "outputId": "533dc686-e770-4305-9862-4907da3cf0bf"
      },
      "outputs": [
        {
          "data": {
            "text/plain": [
              "tensor([[ 0.2020, 10.0000],\n",
              "        [ 0.1160, 10.0000],\n",
              "        [ 0.2020, 10.0000],\n",
              "        [ 0.1480, 10.0000],\n",
              "        [ 0.1480, 10.0000]])"
            ]
          },
          "execution_count": 27,
          "metadata": {},
          "output_type": "execute_result"
        }
      ],
      "source": [
        "data.x"
      ]
    }
  ],
  "metadata": {
    "colab": {
      "provenance": []
    },
    "kernelspec": {
      "display_name": "Python 3",
      "name": "python3"
    },
    "language_info": {
      "name": "python",
      "version": "3.12.10"
    }
  },
  "nbformat": 4,
  "nbformat_minor": 0
}
